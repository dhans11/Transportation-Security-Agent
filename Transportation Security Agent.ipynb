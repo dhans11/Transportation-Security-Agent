{
 "cells": [
  {
   "cell_type": "markdown",
   "metadata": {},
   "source": [
    "# __<center>Transportation-Security-Agent</center>__"
   ]
  },
  {
   "cell_type": "markdown",
   "metadata": {},
   "source": [
    "### **Data Source**\n",
    "- [Klik disini (Kaggle)](https://www.kaggle.com/datasets/terminal-security-agency/tsa-claims-database) \n",
    "\n",
    "### **Data Visualitation**\n",
    "- [Klik disini (Tableau)](https://public.tableau.com/app/profile/ahmad.dani.rifai/viz/TSAClaim_17175983116520/TSA) \n",
    "\n",
    "### **List Of Content**\n",
    "\n",
    "1. Business Problem Understanding\n",
    "2. Data Loading\n",
    "3. Data Cleaning\n",
    "4. Data Analysis\n",
    "5. Conclusion\n",
    "6. Recommendation"
   ]
  },
  {
   "cell_type": "markdown",
   "metadata": {},
   "source": [
    "# **1. Business Problem Understanding**"
   ]
  },
  {
   "cell_type": "markdown",
   "metadata": {},
   "source": [
    "**Pemecahan Masalah**\n",
    "\n",
    "Saya akan menyelesaikan masalah menggunakkan SMART framework:\n",
    "\n",
    "* Specific: Mengetahui perkembangan jumlah klaim penumpang pada rentang tahun 2002-2015\n",
    "* Measurable: Memperbaiki pelayanan bandara yang memiliki jumlah klaim paling tinggi\n",
    "* Achievable: Menurunkan angka klaim dan laporan keamanan bandara\n",
    "* Relevant: Meningkatkan keamanan bandara dan mengurangi jumlah klaim yang diajukan oleh penumpang\n",
    "* Time-bound: Dalam 1 tahun kedepan"
   ]
  },
  {
   "cell_type": "markdown",
   "metadata": {},
   "source": [
    "**Latar Belakang**\n",
    "\n",
    "**TSA** (Transportation Security Agent) merupakan sebuah badan pemerintah Amerika Serikat yang memiliki fokus utama dalam kemanan bandara. TSA bertanggung jawab untuk pemeriksaan penumpang dan bagasi di lebih dari 450 bandara Amerika Serikat. TSA mencatat klaim yang diajukan oleh para penumpang pesawat seperti kehilangan ataupun kerusakan barang. Data klaim yang diajukan kepada TSA tersebut dapat digunakan oleh TSA sebagai acuan untuk terus dapat meningkatkan kinerja keamanan di bandara.\n"
   ]
  },
  {
   "cell_type": "markdown",
   "metadata": {},
   "source": [
    "**Pernyataan Masalah**\n",
    "\n",
    "TSA ingin melakukan evaluasi terkait keamanan bandara. TSA ingin mengetahui perkembangan jumlah klaim yang diterima, bandara mana saja yang memiliki jumlah klaim terbanyak serta jenis klaim apa yang paling banyak dilaporkan oleh penumpang. Informasi ini akan membantu TSA untuk mengetahui bandara mana saja yang membutuhkan peningkatan sistem keamanan sehingga dapat mengurangi jumlah klaim yang diajukan oleh penumpang pada TSA. \n",
    "\n",
    "\n",
    "Untuk menyelesaikan masalah di atas, dibuat beberapa tujuan 5W1H yaitu:\n",
    "1. Bagaimana perkembangan jumlah klaim penumpang pada rentang tahun 2002-2015? > Visual\n",
    "2. Apa janis klaim paling tinggi dibandara amerika? > Visual\n",
    "3. Apa rencana perbaikan yang spesifik untuk bandara dengan klaim tertinggi? > Uji statistik decriptive\n",
    "4. Berapa lama untuk mengimplementasikan perbaikan pelayanan? > Uji statistik inferetial\n",
    "5. Titik lokasi apa yang paling banyak menerima laporan klaim? > Visual\n",
    "6. Bandara apa yang menerima jumlah klaim paling tinggi? > Visual\n"
   ]
  },
  {
   "cell_type": "markdown",
   "metadata": {},
   "source": [
    "# 2. **Data Loading**"
   ]
  },
  {
   "cell_type": "markdown",
   "metadata": {},
   "source": [
    "- Dataset merupakan data sebuah badan pemerintah Amerika Serikat yang memiliki fokus utama dalam kemanan bandara.\n",
    "- Setiap baris data merepresentasikan informasi terkait **TSA** (Transportation Security Agent)\n",
    "\n",
    "**Dataset**\n",
    "\n",
    "| **Feature** | **Data Type** | **Description** |\n",
    "| --- | --- | --- |\n",
    "| Claim Number | Object | Nomor unik dari setiap klaim yamg diajukan penumpang |\n",
    "| Date Received | Datetime | Tanggal diterimanya pengajuan klaim dari penumpang oleh TSA |\n",
    "| Incident Date | Datetime | Tanggal kejadian atau kasus yang dialami oleh penumpang |\n",
    "| Airport Code | Object | Kode bandara |\n",
    "| Airport Name | Object |  Nama Bandara |\n",
    "| Airline Name | Object | Nama maskapai penerbangan |\n",
    "| Claim Type | Float | Jenis klaim yang diajukan penumpang |\n",
    "| Claim Site | Float | Tempat/lokasi pengajuan klaim|\n",
    "| Item| Float | Jenis dari item dalam klaim yang diajukan penumpang|\n",
    "| Claim Amount | Float | Harga dari klaim (ganti rugi) yang diajukan penumpang (dalam dollar)|\n",
    "| Status | Float | Status dari klaim yang diajukan penumpang |\n",
    "| Close Amount | Float | Harga klaim yang dibayarkan oleh TSA (dalam dollar)|\n",
    "| Disposition | Float | Disposisi terhadap klaim yang telah diajukan penumpang|\n",
    "\n",
    "[Information Source](https://www.kaggle.com/datasets/terminal-security-agency/tsa-claims-database) \n",
    "<br>"
   ]
  },
  {
   "cell_type": "code",
   "execution_count": 1,
   "metadata": {},
   "outputs": [],
   "source": [
    "# Melakukan import module\n",
    "import pandas as pd\n",
    "import numpy as np\n",
    "import seaborn as sns\n",
    "import matplotlib.pyplot as plt"
   ]
  },
  {
   "cell_type": "code",
   "execution_count": 2,
   "metadata": {},
   "outputs": [
    {
     "name": "stderr",
     "output_type": "stream",
     "text": [
      "C:\\Users\\62811\\AppData\\Local\\Temp\\ipykernel_43156\\3058064407.py:2: DtypeWarning: Columns (0,11,12) have mixed types. Specify dtype option on import or set low_memory=False.\n",
      "  Dataset = pd.read_csv('tsa_claims.csv')\n"
     ]
    },
    {
     "data": {
      "text/html": [
       "<div>\n",
       "<style scoped>\n",
       "    .dataframe tbody tr th:only-of-type {\n",
       "        vertical-align: middle;\n",
       "    }\n",
       "\n",
       "    .dataframe tbody tr th {\n",
       "        vertical-align: top;\n",
       "    }\n",
       "\n",
       "    .dataframe thead th {\n",
       "        text-align: right;\n",
       "    }\n",
       "</style>\n",
       "<table border=\"1\" class=\"dataframe\">\n",
       "  <thead>\n",
       "    <tr style=\"text-align: right;\">\n",
       "      <th></th>\n",
       "      <th>Claim Number</th>\n",
       "      <th>Date Received</th>\n",
       "      <th>Incident Date</th>\n",
       "      <th>Airport Code</th>\n",
       "      <th>Airport Name</th>\n",
       "      <th>Airline Name</th>\n",
       "      <th>Claim Type</th>\n",
       "      <th>Claim Site</th>\n",
       "      <th>Item</th>\n",
       "      <th>Claim Amount</th>\n",
       "      <th>Status</th>\n",
       "      <th>Close Amount</th>\n",
       "      <th>Disposition</th>\n",
       "    </tr>\n",
       "  </thead>\n",
       "  <tbody>\n",
       "    <tr>\n",
       "      <th>0</th>\n",
       "      <td>0909802M</td>\n",
       "      <td>4-Jan-02</td>\n",
       "      <td>12/12/2002 0:00</td>\n",
       "      <td>EWR</td>\n",
       "      <td>Newark International Airport</td>\n",
       "      <td>Continental Airlines</td>\n",
       "      <td>Property Damage</td>\n",
       "      <td>Checkpoint</td>\n",
       "      <td>Other</td>\n",
       "      <td>$350.00</td>\n",
       "      <td>Approved</td>\n",
       "      <td>$350.00</td>\n",
       "      <td>Approve in Full</td>\n",
       "    </tr>\n",
       "    <tr>\n",
       "      <th>1</th>\n",
       "      <td>0202417M</td>\n",
       "      <td>2-Feb-02</td>\n",
       "      <td>1/16/2004 0:00</td>\n",
       "      <td>SEA</td>\n",
       "      <td>Seattle-Tacoma International</td>\n",
       "      <td>NaN</td>\n",
       "      <td>Property Damage</td>\n",
       "      <td>Checked Baggage</td>\n",
       "      <td>Luggage (all types including footlockers)</td>\n",
       "      <td>$100.00</td>\n",
       "      <td>Settled</td>\n",
       "      <td>$50.00</td>\n",
       "      <td>Settle</td>\n",
       "    </tr>\n",
       "    <tr>\n",
       "      <th>2</th>\n",
       "      <td>0202445M</td>\n",
       "      <td>4-Feb-02</td>\n",
       "      <td>11/26/2003 0:00</td>\n",
       "      <td>STL</td>\n",
       "      <td>Lambert St. Louis International</td>\n",
       "      <td>American Airlines</td>\n",
       "      <td>Property Damage</td>\n",
       "      <td>Checked Baggage</td>\n",
       "      <td>Cell Phones</td>\n",
       "      <td>$278.88</td>\n",
       "      <td>Settled</td>\n",
       "      <td>$227.92</td>\n",
       "      <td>Settle</td>\n",
       "    </tr>\n",
       "    <tr>\n",
       "      <th>3</th>\n",
       "      <td>0909816M</td>\n",
       "      <td>7-Feb-02</td>\n",
       "      <td>1/6/2003 0:00</td>\n",
       "      <td>MIA</td>\n",
       "      <td>Miami International Airport</td>\n",
       "      <td>American Airlines</td>\n",
       "      <td>Property Damage</td>\n",
       "      <td>Checkpoint</td>\n",
       "      <td>Luggage (all types including footlockers)</td>\n",
       "      <td>$50.00</td>\n",
       "      <td>Approved</td>\n",
       "      <td>$50.00</td>\n",
       "      <td>Approve in Full</td>\n",
       "    </tr>\n",
       "    <tr>\n",
       "      <th>4</th>\n",
       "      <td>2005032379513</td>\n",
       "      <td>18-Feb-02</td>\n",
       "      <td>2/5/2005 0:00</td>\n",
       "      <td>MCO</td>\n",
       "      <td>Orlando International Airport</td>\n",
       "      <td>Delta (Song)</td>\n",
       "      <td>Property Damage</td>\n",
       "      <td>Checkpoint</td>\n",
       "      <td>Baby - Strollers; car seats; playpen; etc.</td>\n",
       "      <td>$84.79</td>\n",
       "      <td>Approved</td>\n",
       "      <td>$84.79</td>\n",
       "      <td>Approve in Full</td>\n",
       "    </tr>\n",
       "  </tbody>\n",
       "</table>\n",
       "</div>"
      ],
      "text/plain": [
       "    Claim Number Date Received    Incident Date Airport Code  \\\n",
       "0       0909802M      4-Jan-02  12/12/2002 0:00          EWR   \n",
       "1       0202417M      2-Feb-02   1/16/2004 0:00          SEA   \n",
       "2       0202445M      4-Feb-02  11/26/2003 0:00          STL   \n",
       "3       0909816M      7-Feb-02    1/6/2003 0:00          MIA   \n",
       "4  2005032379513     18-Feb-02    2/5/2005 0:00          MCO   \n",
       "\n",
       "                      Airport Name          Airline Name       Claim Type  \\\n",
       "0     Newark International Airport  Continental Airlines  Property Damage   \n",
       "1     Seattle-Tacoma International                   NaN  Property Damage   \n",
       "2  Lambert St. Louis International     American Airlines  Property Damage   \n",
       "3      Miami International Airport     American Airlines  Property Damage   \n",
       "4    Orlando International Airport          Delta (Song)  Property Damage   \n",
       "\n",
       "        Claim Site                                        Item Claim Amount  \\\n",
       "0       Checkpoint                                       Other     $350.00    \n",
       "1  Checked Baggage   Luggage (all types including footlockers)     $100.00    \n",
       "2  Checked Baggage                                 Cell Phones     $278.88    \n",
       "3       Checkpoint   Luggage (all types including footlockers)      $50.00    \n",
       "4       Checkpoint  Baby - Strollers; car seats; playpen; etc.      $84.79    \n",
       "\n",
       "     Status Close Amount      Disposition  \n",
       "0  Approved     $350.00   Approve in Full  \n",
       "1   Settled      $50.00            Settle  \n",
       "2   Settled     $227.92            Settle  \n",
       "3  Approved      $50.00   Approve in Full  \n",
       "4  Approved      $84.79   Approve in Full  "
      ]
     },
     "metadata": {},
     "output_type": "display_data"
    },
    {
     "data": {
      "text/html": [
       "<div>\n",
       "<style scoped>\n",
       "    .dataframe tbody tr th:only-of-type {\n",
       "        vertical-align: middle;\n",
       "    }\n",
       "\n",
       "    .dataframe tbody tr th {\n",
       "        vertical-align: top;\n",
       "    }\n",
       "\n",
       "    .dataframe thead th {\n",
       "        text-align: right;\n",
       "    }\n",
       "</style>\n",
       "<table border=\"1\" class=\"dataframe\">\n",
       "  <thead>\n",
       "    <tr style=\"text-align: right;\">\n",
       "      <th></th>\n",
       "      <th>Claim Number</th>\n",
       "      <th>Date Received</th>\n",
       "      <th>Incident Date</th>\n",
       "      <th>Airport Code</th>\n",
       "      <th>Airport Name</th>\n",
       "      <th>Airline Name</th>\n",
       "      <th>Claim Type</th>\n",
       "      <th>Claim Site</th>\n",
       "      <th>Item</th>\n",
       "      <th>Claim Amount</th>\n",
       "      <th>Status</th>\n",
       "      <th>Close Amount</th>\n",
       "      <th>Disposition</th>\n",
       "    </tr>\n",
       "  </thead>\n",
       "  <tbody>\n",
       "    <tr>\n",
       "      <th>204262</th>\n",
       "      <td>2015120427297</td>\n",
       "      <td>20-Nov-15</td>\n",
       "      <td>16-Oct-15</td>\n",
       "      <td>-</td>\n",
       "      <td>-</td>\n",
       "      <td>-</td>\n",
       "      <td>Property Damage</td>\n",
       "      <td>Checked Baggage</td>\n",
       "      <td>Baggage/Cases/Purses; Books; Magazines &amp; Other...</td>\n",
       "      <td>-</td>\n",
       "      <td>-</td>\n",
       "      <td>NaN</td>\n",
       "      <td>NaN</td>\n",
       "    </tr>\n",
       "    <tr>\n",
       "      <th>204263</th>\n",
       "      <td>2015123027969</td>\n",
       "      <td>17-Dec-15</td>\n",
       "      <td>2-Dec-15</td>\n",
       "      <td>-</td>\n",
       "      <td>-</td>\n",
       "      <td>-</td>\n",
       "      <td>Property Damage</td>\n",
       "      <td>Checked Baggage</td>\n",
       "      <td>Audio/Video; Home Decor</td>\n",
       "      <td>-</td>\n",
       "      <td>-</td>\n",
       "      <td>NaN</td>\n",
       "      <td>NaN</td>\n",
       "    </tr>\n",
       "    <tr>\n",
       "      <th>204264</th>\n",
       "      <td>2016010428072</td>\n",
       "      <td>22-Dec-15</td>\n",
       "      <td>20-Dec-15</td>\n",
       "      <td>-</td>\n",
       "      <td>-</td>\n",
       "      <td>-</td>\n",
       "      <td>Passenger Property Loss</td>\n",
       "      <td>Checked Baggage</td>\n",
       "      <td>Clothing</td>\n",
       "      <td>-</td>\n",
       "      <td>-</td>\n",
       "      <td>NaN</td>\n",
       "      <td>NaN</td>\n",
       "    </tr>\n",
       "    <tr>\n",
       "      <th>204265</th>\n",
       "      <td>2016011328300</td>\n",
       "      <td>30-Dec-15</td>\n",
       "      <td>28-Dec-15</td>\n",
       "      <td>-</td>\n",
       "      <td>-</td>\n",
       "      <td>-</td>\n",
       "      <td>Passenger Property Loss</td>\n",
       "      <td>Checked Baggage</td>\n",
       "      <td>Tools &amp; Home Improvement Supplies</td>\n",
       "      <td>-</td>\n",
       "      <td>-</td>\n",
       "      <td>NaN</td>\n",
       "      <td>NaN</td>\n",
       "    </tr>\n",
       "    <tr>\n",
       "      <th>204266</th>\n",
       "      <td>2015123128015</td>\n",
       "      <td>31-Dec-15</td>\n",
       "      <td>23-Nov-15</td>\n",
       "      <td>-</td>\n",
       "      <td>-</td>\n",
       "      <td>-</td>\n",
       "      <td>Passenger Property Loss</td>\n",
       "      <td>Checkpoint</td>\n",
       "      <td>Personal Accessories</td>\n",
       "      <td>-</td>\n",
       "      <td>-</td>\n",
       "      <td>NaN</td>\n",
       "      <td>NaN</td>\n",
       "    </tr>\n",
       "  </tbody>\n",
       "</table>\n",
       "</div>"
      ],
      "text/plain": [
       "         Claim Number Date Received Incident Date Airport Code Airport Name  \\\n",
       "204262  2015120427297     20-Nov-15     16-Oct-15            -            -   \n",
       "204263  2015123027969     17-Dec-15      2-Dec-15            -            -   \n",
       "204264  2016010428072     22-Dec-15     20-Dec-15            -            -   \n",
       "204265  2016011328300     30-Dec-15     28-Dec-15            -            -   \n",
       "204266  2015123128015     31-Dec-15     23-Nov-15            -            -   \n",
       "\n",
       "       Airline Name               Claim Type       Claim Site  \\\n",
       "204262            -          Property Damage  Checked Baggage   \n",
       "204263            -          Property Damage  Checked Baggage   \n",
       "204264            -  Passenger Property Loss  Checked Baggage   \n",
       "204265            -  Passenger Property Loss  Checked Baggage   \n",
       "204266            -  Passenger Property Loss       Checkpoint   \n",
       "\n",
       "                                                     Item Claim Amount Status  \\\n",
       "204262  Baggage/Cases/Purses; Books; Magazines & Other...            -      -   \n",
       "204263                            Audio/Video; Home Decor            -      -   \n",
       "204264                                           Clothing            -      -   \n",
       "204265                  Tools & Home Improvement Supplies            -      -   \n",
       "204266                               Personal Accessories            -      -   \n",
       "\n",
       "       Close Amount Disposition  \n",
       "204262          NaN         NaN  \n",
       "204263          NaN         NaN  \n",
       "204264          NaN         NaN  \n",
       "204265          NaN         NaN  \n",
       "204266          NaN         NaN  "
      ]
     },
     "metadata": {},
     "output_type": "display_data"
    }
   ],
   "source": [
    "# Menampilkan dataset \n",
    "Dataset = pd.read_csv('tsa_claims.csv')\n",
    "display(Dataset.head(),Dataset.tail())"
   ]
  },
  {
   "cell_type": "code",
   "execution_count": 3,
   "metadata": {},
   "outputs": [
    {
     "name": "stdout",
     "output_type": "stream",
     "text": [
      "<class 'pandas.core.frame.DataFrame'>\n",
      "RangeIndex: 204267 entries, 0 to 204266\n",
      "Data columns (total 13 columns):\n",
      " #   Column         Non-Null Count   Dtype \n",
      "---  ------         --------------   ----- \n",
      " 0   Claim Number   204267 non-null  object\n",
      " 1   Date Received  204004 non-null  object\n",
      " 2   Incident Date  202084 non-null  object\n",
      " 3   Airport Code   195743 non-null  object\n",
      " 4   Airport Name   195743 non-null  object\n",
      " 5   Airline Name   169893 non-null  object\n",
      " 6   Claim Type     196354 non-null  object\n",
      " 7   Claim Site     203527 non-null  object\n",
      " 8   Item           200301 non-null  object\n",
      " 9   Claim Amount   200224 non-null  object\n",
      " 10  Status         204262 non-null  object\n",
      " 11  Close Amount   135315 non-null  object\n",
      " 12  Disposition    131359 non-null  object\n",
      "dtypes: object(13)\n",
      "memory usage: 20.3+ MB\n"
     ]
    }
   ],
   "source": [
    "# Melihat informasi kolom\n",
    "Dataset.info()"
   ]
  },
  {
   "cell_type": "markdown",
   "metadata": {},
   "source": [
    "Dari data diatas ada beberapa tipe data yang tidak sesuai yang kita harapkan dan nantinya kita akan merubahnya untuk mempermudah melakukan proses analisis"
   ]
  },
  {
   "cell_type": "code",
   "execution_count": 4,
   "metadata": {},
   "outputs": [
    {
     "data": {
      "text/plain": [
       "Claim Number         0\n",
       "Date Received      263\n",
       "Incident Date     2183\n",
       "Airport Code      8524\n",
       "Airport Name      8524\n",
       "Airline Name     34374\n",
       "Claim Type        7913\n",
       "Claim Site         740\n",
       "Item              3966\n",
       "Claim Amount      4043\n",
       "Status               5\n",
       "Close Amount     68952\n",
       "Disposition      72908\n",
       "dtype: int64"
      ]
     },
     "execution_count": 4,
     "metadata": {},
     "output_type": "execute_result"
    }
   ],
   "source": [
    "# Mengecek data apakah ada missing value\n",
    "Dataset.isnull().sum()"
   ]
  },
  {
   "cell_type": "markdown",
   "metadata": {},
   "source": [
    "Dari data diatas banyak sekali missing value dari setiap kolom, dan nantinya kita ada mengahapus missing value tersebut untuk memudahkan proses analisis tapi perlu diingat missing value yang penting akan tetap digunakan yang bertujuan untuk memudahkan proses analisis."
   ]
  },
  {
   "cell_type": "code",
   "execution_count": 5,
   "metadata": {},
   "outputs": [
    {
     "data": {
      "text/html": [
       "<div>\n",
       "<style scoped>\n",
       "    .dataframe tbody tr th:only-of-type {\n",
       "        vertical-align: middle;\n",
       "    }\n",
       "\n",
       "    .dataframe tbody tr th {\n",
       "        vertical-align: top;\n",
       "    }\n",
       "\n",
       "    .dataframe thead th {\n",
       "        text-align: right;\n",
       "    }\n",
       "</style>\n",
       "<table border=\"1\" class=\"dataframe\">\n",
       "  <thead>\n",
       "    <tr style=\"text-align: right;\">\n",
       "      <th></th>\n",
       "      <th>Claim Number</th>\n",
       "      <th>Date Received</th>\n",
       "      <th>Incident Date</th>\n",
       "      <th>Airport Code</th>\n",
       "      <th>Airport Name</th>\n",
       "      <th>Airline Name</th>\n",
       "      <th>Claim Type</th>\n",
       "      <th>Claim Site</th>\n",
       "      <th>Item</th>\n",
       "      <th>Claim Amount</th>\n",
       "      <th>Status</th>\n",
       "      <th>Close Amount</th>\n",
       "      <th>Disposition</th>\n",
       "    </tr>\n",
       "  </thead>\n",
       "  <tbody>\n",
       "    <tr>\n",
       "      <th>count</th>\n",
       "      <td>204267</td>\n",
       "      <td>204004</td>\n",
       "      <td>202084</td>\n",
       "      <td>195743</td>\n",
       "      <td>195743</td>\n",
       "      <td>169893</td>\n",
       "      <td>196354</td>\n",
       "      <td>203527</td>\n",
       "      <td>200301</td>\n",
       "      <td>200224</td>\n",
       "      <td>204262</td>\n",
       "      <td>135315</td>\n",
       "      <td>131359</td>\n",
       "    </tr>\n",
       "    <tr>\n",
       "      <th>unique</th>\n",
       "      <td>204258</td>\n",
       "      <td>4007</td>\n",
       "      <td>26807</td>\n",
       "      <td>465</td>\n",
       "      <td>485</td>\n",
       "      <td>318</td>\n",
       "      <td>11</td>\n",
       "      <td>6</td>\n",
       "      <td>4704</td>\n",
       "      <td>36117</td>\n",
       "      <td>15</td>\n",
       "      <td>17162</td>\n",
       "      <td>3</td>\n",
       "    </tr>\n",
       "    <tr>\n",
       "      <th>top</th>\n",
       "      <td>2013121110011</td>\n",
       "      <td>5-Dec-03</td>\n",
       "      <td>12/27/2004 0:00</td>\n",
       "      <td>LAX</td>\n",
       "      <td>John F. Kennedy International</td>\n",
       "      <td>American Airlines</td>\n",
       "      <td>Passenger Property Loss</td>\n",
       "      <td>Checked Baggage</td>\n",
       "      <td>Other</td>\n",
       "      <td>$0.00</td>\n",
       "      <td>Denied</td>\n",
       "      <td>$0.00</td>\n",
       "      <td>Deny</td>\n",
       "    </tr>\n",
       "    <tr>\n",
       "      <th>freq</th>\n",
       "      <td>2</td>\n",
       "      <td>682</td>\n",
       "      <td>144</td>\n",
       "      <td>9596</td>\n",
       "      <td>9232</td>\n",
       "      <td>17553</td>\n",
       "      <td>117868</td>\n",
       "      <td>159753</td>\n",
       "      <td>36908</td>\n",
       "      <td>28445</td>\n",
       "      <td>68339</td>\n",
       "      <td>71546</td>\n",
       "      <td>68382</td>\n",
       "    </tr>\n",
       "  </tbody>\n",
       "</table>\n",
       "</div>"
      ],
      "text/plain": [
       "         Claim Number Date Received    Incident Date Airport Code  \\\n",
       "count          204267        204004           202084       195743   \n",
       "unique         204258          4007            26807          465   \n",
       "top     2013121110011      5-Dec-03  12/27/2004 0:00          LAX   \n",
       "freq                2           682              144         9596   \n",
       "\n",
       "                         Airport Name       Airline Name  \\\n",
       "count                          195743             169893   \n",
       "unique                            485                318   \n",
       "top     John F. Kennedy International  American Airlines   \n",
       "freq                             9232              17553   \n",
       "\n",
       "                     Claim Type       Claim Site    Item Claim Amount  Status  \\\n",
       "count                    196354           203527  200301       200224  204262   \n",
       "unique                       11                6    4704        36117      15   \n",
       "top     Passenger Property Loss  Checked Baggage   Other       $0.00   Denied   \n",
       "freq                     117868           159753   36908        28445   68339   \n",
       "\n",
       "       Close Amount Disposition  \n",
       "count        135315      131359  \n",
       "unique        17162           3  \n",
       "top          $0.00         Deny  \n",
       "freq          71546       68382  "
      ]
     },
     "execution_count": 5,
     "metadata": {},
     "output_type": "execute_result"
    }
   ],
   "source": [
    "# Melihat ringkasan statistik dari dataset\n",
    "Dataset.describe()"
   ]
  },
  {
   "cell_type": "code",
   "execution_count": 6,
   "metadata": {},
   "outputs": [
    {
     "data": {
      "text/html": [
       "<div>\n",
       "<style scoped>\n",
       "    .dataframe tbody tr th:only-of-type {\n",
       "        vertical-align: middle;\n",
       "    }\n",
       "\n",
       "    .dataframe tbody tr th {\n",
       "        vertical-align: top;\n",
       "    }\n",
       "\n",
       "    .dataframe thead th {\n",
       "        text-align: right;\n",
       "    }\n",
       "</style>\n",
       "<table border=\"1\" class=\"dataframe\">\n",
       "  <thead>\n",
       "    <tr style=\"text-align: right;\">\n",
       "      <th></th>\n",
       "      <th>Column Name</th>\n",
       "      <th>Number of Unique</th>\n",
       "      <th>Unique Sample</th>\n",
       "    </tr>\n",
       "  </thead>\n",
       "  <tbody>\n",
       "    <tr>\n",
       "      <th>0</th>\n",
       "      <td>Claim Number</td>\n",
       "      <td>204258</td>\n",
       "      <td>[0909802M, 0202417M, 0202445M, 0909816M, 2005032379513, 2005032479636, 2007050124750, 12772, 14268, 2004102965797, 2005071188575, 2005070788431, 14460, 13334, 0616771L, 15242, 15324, 15361, 0616636L, 0714534M, 0616540L, 16410, 0616723L, 2004092763985, 16403, 0702564M, 16759, 0616777L, 15352, 14907, 17892, 17846, 17201, 2004050550501, 18170, 18202, 18193, 18222, 18171, 18274, 0616726L, 18315, 16961, 17666, 18141, 18301, 0909839M, 15542, 18065, 18109, 18098, 18101, 18394, 0616699L, 18438, 18620, 21003, 21021, 0616631L, 18221, 0616675L, 18804, 0616760L, 18917, 18919, 21134, 19009, 0616624L, 20887, 21013, 19029, 18966, 19133, 23663, 0616802L, 15769, 18181, 23623, 0702504M, 0714563M, 0616579L, 23284, 18386, 18908, 23278, 21111, 21254, 0714547M, 19239, 19039, 19078, 20938, 21052, 21053, 21054, 21253, 0616528L, 19229, 20937, 0616610L, ...]</td>\n",
       "    </tr>\n",
       "    <tr>\n",
       "      <th>1</th>\n",
       "      <td>Date Received</td>\n",
       "      <td>4007</td>\n",
       "      <td>[4-Jan-02, 2-Feb-02, 4-Feb-02, 7-Feb-02, 18-Feb-02, 30-Apr-02, 20-Jun-02, 25-Jun-02, 6-Jul-02, 7-Jul-02, 8-Jul-02, 12-Jul-02, 15-Jul-02, 18-Jul-02, 22-Jul-02, 24-Jul-02, 5-Aug-02, 8-Aug-02, 12-Aug-02, 19-Aug-02, 21-Aug-02, 9-Sep-02, 11-Sep-02, 16-Sep-02, 18-Sep-02, 19-Sep-02, 20-Sep-02, 23-Sep-02, 24-Sep-02, 25-Sep-02, 26-Sep-02, 27-Sep-02, 30-Sep-02, 2-Oct-02, 5-Oct-02, 7-Oct-02, 8-Oct-02, 9-Oct-02, 10-Oct-02, 11-Oct-02, 15-Oct-02, 17-Oct-02, 18-Oct-02, 19-Oct-02, 21-Oct-02, 22-Oct-02, 23-Oct-02, 25-Oct-02, 28-Oct-02, 29-Oct-02, 31-Oct-02, 1-Nov-02, 4-Nov-02, 5-Nov-02, 6-Nov-02, 7-Nov-02, 8-Nov-02, 9-Nov-02, 12-Nov-02, 13-Nov-02, 14-Nov-02, 15-Nov-02, 16-Nov-02, 18-Nov-02, 19-Nov-02, 20-Nov-02, 21-Nov-02, 22-Nov-02, 24-Nov-02, 25-Nov-02, 26-Nov-02, 27-Nov-02, 29-Nov-02, 2-Dec-02, 3-Dec-02, 4-Dec-02, 5-Dec-02, 6-Dec-02, 9-Dec-02, 10-Dec-02, 11-Dec-02, 12-Dec-02, 13-Dec-02, 16-Dec-02, 17-Dec-02, 18-Dec-02, 19-Dec-02, 20-Dec-02, 21-Dec-02, 23-Dec-02, 24-Dec-02, 26-Dec-02, 27-Dec-02, 30-Dec-02, 31-Dec-02, 2-Jan-03, 3-Jan-03, 5-Jan-03, 6-Jan-03, 7-Jan-03, ...]</td>\n",
       "    </tr>\n",
       "    <tr>\n",
       "      <th>2</th>\n",
       "      <td>Incident Date</td>\n",
       "      <td>26807</td>\n",
       "      <td>[12/12/2002 0:00, 1/16/2004 0:00, 11/26/2003 0:00, 1/6/2003 0:00, 2/5/2005 0:00, 2/17/2005 0:00, 4/26/2007 0:00, 5/9/2002 0:00, 6/16/2002 0:00, 5/4/2002 0:00, 6/23/2005 0:00, 6/17/2005 0:00, 6/12/2002 0:00, 6/4/2002 0:00, nan, 5/31/2002 0:00, 3/11/2002 0:00, 3/6/2002 0:00, 7/10/2002 0:00, 7/26/2002 0:00, 7/19/2002 0:00, 6/22/2002 0:00, 7/12/2002 0:00, 7/13/2002 0:00, 6/28/2002 0:00, 8/23/2002 0:00, 8/30/2002 0:00, 8/19/2002 0:00, 8/5/2002 0:00, 8/2/2002 0:00, 8/12/2002 0:00, 7/28/2002 0:00, 7/23/2002 0:00, 8/16/2002 0:00, 8/13/2002 0:00, 9/1/2002 0:00, 8/14/2002 0:00, 12/31/2002 0:00, 7/1/2002 0:00, 8/20/2002 0:00, 8/21/2002 0:00, 8/24/2002 0:00, 7/27/2002 0:00, 8/31/2002 0:00, 8/15/2002 0:00, 9/12/2002 0:00, 8/29/2002 0:00, 9/10/2002 0:00, 7/31/2002 0:00, 8/3/2002 0:00, 8/21/2003 0:00, 9/3/2002 0:00, 9/26/2002 0:00, 8/22/2002 0:00, 8/7/2002 0:00, 7/18/2002 0:00, 9/8/2002 0:00, 9/9/2002 0:00, 9/25/2002 0:00, 4/10/2002 0:00, 10/7/2002 0:00, 9/29/2002 0:00, 9/20/2002 0:00, 9/24/2002 0:00, 9/27/2002 0:00, 9/22/2002 0:00, 9/15/2002 0:00, 10/2/2002 0:00, 9/28/2002 0:00, 9/13/2002 0:00, 9/14/2002 0:00, 8/9/2002 0:00, 10/19/2002 0:00, 10/3/2002 0:00, 9/21/2002 0:00, 10/14/2002 0:00, 10/13/2002 0:00, 8/28/2002 0:00, 10/1/2002 0:00, 10/6/2002 0:00, 10/8/2002 0:00, 9/18/2002 0:00, 10/10/2002 0:00, 10/9/2002 0:00, 10/20/2002 0:00, 9/11/2002 0:00, 10/16/2002 0:00, 10/5/2002 0:00, 10/15/2002 0:00, 10/27/2002 0:00, 10/18/2002 0:00, 10/22/2002 0:00, 10/21/2002 0:00, 10/23/2002 0:00, 10/7/2004 0:00, 7/24/2002 0:00, 10/28/2002 0:00, 9/19/2002 0:00, 10/26/2002 0:00, 9/30/2002 0:00, ...]</td>\n",
       "    </tr>\n",
       "    <tr>\n",
       "      <th>3</th>\n",
       "      <td>Airport Code</td>\n",
       "      <td>465</td>\n",
       "      <td>[EWR, SEA, STL, MIA, MCO, CAK, PHL, BWI, PHX, ATL, ORD, CLT, nan, SDF, RDU, BOS, PVD, CMH, MDW, BDL, JFK, DCA, BHM, TPA, CLE, COS, HOU, TSA, SAT, SYR, MOB, LAX, LGA, PIT, OAK, BNA, SLC, PBI, SMF, DTW, ORF, DFW, PSP, OKC, SAN, TOL, MSP, DEN, LAS, IAH, CVG, SJC, FNT, RIC, ELP, MEM, ABE, RSW, RNO, HNL, IAD, ABQ, PDX, ROC, SNA, AUS, MKE, PWM, FLL, LGB, ITO, GPT, BUR, LEX, JAX, TUL, MSO, TUS, BUF, BTR, ONT, MSY, DAB, DSM, BGM, CHA, CHS, JNU, MHT, IND, GEG, OMA, ISP, TYS, HSV, FWA, MDT, CLL, ALB, BGR, ...]</td>\n",
       "    </tr>\n",
       "    <tr>\n",
       "      <th>4</th>\n",
       "      <td>Airport Name</td>\n",
       "      <td>485</td>\n",
       "      <td>[Newark International Airport, Seattle-Tacoma International, Lambert St. Louis International, Miami International Airport, Orlando International Airport, Akron-Canton Regional, Philadelphia International Airport, Baltimore/Washington Intl Thurgood Marshall, Phoenix Sky Harbor International, Hartsfield-Jackson Atlanta International Airport, Chicago O'Hare International Airport, Charlotte/Douglas International Airport, nan, Louisville International, Raleigh-Durham International, Boston (Logan) International Airport, TF Green Airport; Providence, Port Columbus International, Midway International Airport, Bradley International Airport, John F. Kennedy International, Ronald Reagan Washington National Airport, Birmingham International Airport, Tampa International, Cleveland Hopkins International, Colorado Springs Municipal, William P. Hobby, TSA - Non-Specified Airport, San Antonio International, Syracuse-Hancock International, Mobile Regional, Los Angeles International Airport, LaGuardia, Pittsburgh International Airport, Metropolitan Oakland International, Nashville International, Salt Lake City International Airport, Palm Beach International, Sacramento International Airport, Detroit Metropolitan Wayne County Airport, Norfolk International, Dallas-Fort Worth International Airport, Palm Springs International, Will Rogers World, San Diego International, Toledo Express, Minneapolis/ St.Paul International Airport, Denver International Airport, McCarran International, Houston - George Bush Intercontinental Airport, Cincinnati/Northern Kentucky International, Norman Y Mineta San Jose International, Bishop International; Flint, Richmond International, El Paso International Airport, Memphis International Airport, Lehigh Valley International Airport; Allentown, Southwest Florida International, Reno/Tahoe International, Honolulu International Airport, Washington Dulles International, Albuquerque International Sunport Airport, Portland International, Greater Rochester International, John Wayne, Austin-Bergstrom International Airport, General Mitchell International Airport, Portland International Jetport, Ft. Lauderdale-Hollywood International, Long Beach, Hilo International, Gulfport-Biloxi International, Bob Hope, Blue Grass ;Lexington, Jacksonville International, Tulsa International Airport, Missoula International, Tucson International, Buffalo Niagara International, Baton Rouge Metropolitan, Ontario International, New Orleans International, Daytona Beach International, Des Moines International, Greater Binghamton Airport, Chattanooga Metropolitan, Charleston International, Juneau International, Manchester Regional Airport, Indianapolis International, Spokane International, Eppley Airfield, Long Island McArthur; Islip, Mcghee Tyson ;Knoxville, Huntsville International Airport, Ft. Wayne Municipal- Baer Field, Harrisburg International, Easterwood/College Station; TX, Albany International, Bangor International Airport, ...]</td>\n",
       "    </tr>\n",
       "    <tr>\n",
       "      <th>5</th>\n",
       "      <td>Airline Name</td>\n",
       "      <td>318</td>\n",
       "      <td>[Continental Airlines, nan, American Airlines, Delta (Song), Air Tran Airlines(do not use), USAir, Southwest Airlines, AirTran Airlines, Northwest Airlines, Delta Air Lines, America West, UAL, Virgin Atlantic, Jet Blue, Alaska Airlines, Aloha Airlines, Tran Meridian Airlines, Spirit Airlines, Frontier Airlines, American West, Air Canada, British Airways, America Trans Air, Aero Mexico, Hawaiian Airlines, Lufthansa, Horizon Air, Lan Airlines, Midwest Express Airlines, Qantus Airways, Frontier Aviation Inc, Korean Airlines, Air Jamaica, KLM Royal Dutch Airlines, Alitalia, Air France, Aer Lingus, Austrian Airlines, Japan Airlines, Sun Country Airlines Inc, Comair Inc, ATA Aerocondor, Tower Air, Singapore Airlines, Mexicana, Swiss Air, Aero Flot, Air 2000 Ltd Great Britain, Skywest Airlines Inc USA, Allegiant Air, TWA, American Eagle, Southeast Airlines, Cape Air, Air New Zealand, Air Phillipines, USA 3000 (U5), Iceland Air, Scandinavian Airlines Systems, China Airlines, Midway Airlines, Continental Express Inc, OMNI Air Express- (OY), Malaysian Airline System, Sun Jet International Airlines Inc, Britannia Airways Ltd, Northwest International Airways Ltd, Turkish Airlines, Air Pacific, Indian Airlines, Pan American Airways Corp., Thai Airways, Pakistan International Airlines Cor, All Nippon Airways, Sunworld International Airlines Inc, Pace Airlines, Western Pacific Airlines Inc Westpac, Virgin Express, Commercial Airways, China Eastern Airlines, Reno Air, Aloha Islandair Inc, Kuwait Airways, Mountain West, US Express, Cayman Airlines, LOT Polish Airlines, Wiggins Airways, British Midland Airways Ltd, Skywest Airlines Australia, Saudi Arabian Airlines, Royal Wings Airlines, South African Airways, Aeroflot Russian International, Canadian Airlines, EL AL Israeli Airlines, Kuwait Airlines, Egypt Air, Czech Airlines, Avianca, ...]</td>\n",
       "    </tr>\n",
       "    <tr>\n",
       "      <th>6</th>\n",
       "      <td>Claim Type</td>\n",
       "      <td>11</td>\n",
       "      <td>[Property Damage, Passenger Property Loss, nan, Personal Injury, Motor Vehicle, Passenger Theft, Employee Loss (MPCECA), -, Wrongful Death, Bus Terminal, Complaint, Compliment]</td>\n",
       "    </tr>\n",
       "    <tr>\n",
       "      <th>7</th>\n",
       "      <td>Claim Site</td>\n",
       "      <td>6</td>\n",
       "      <td>[Checkpoint, Checked Baggage, Other, Motor Vehicle, nan, Bus Station, -]</td>\n",
       "    </tr>\n",
       "    <tr>\n",
       "      <th>8</th>\n",
       "      <td>Item</td>\n",
       "      <td>4704</td>\n",
       "      <td>[Other, Luggage (all types including footlockers), Cell Phones, Baby - Strollers; car seats; playpen; etc., Professional Equipment, Clothing - Shoes; belts; accessories; etc., Computer - Laptop, Jewelry - Fine, Eyeglasses - (including contact lenses), Photographic Film, Stereo Items &amp; Accessories, Currency, Cameras - Digital, nan, Cosmetics - Perfume; toilet articles; medicines; soaps; etc., Locks, PDA - Personal Data Assistants, Clothing - Shoes; belts; accessories; etc.; Locks, DVD/CD Players, Musical Instruments - Other - Over $250, Fish/Game, Clothing - Shoes; belts; accessories; etc.; Luggage (all types including footlockers); Luggage (all types including footlockers), Clothing - Shoes; belts; accessories; etc.; DVD/CD Players, Cameras - Digital; Clothing - Shoes; belts; accessories; etc.; Clothing - Shoes; belts; accessories; etc., Cameras - Digital; Jewelry - Fine, Medicines, Clothing - Shoes; belts; accessories; etc.; Cosmetics - Perfume; toilet articles; medicines; soaps; etc., Clothing - Shoes; belts; accessories; etc.; Other, Clothing - Shoes; belts; accessories; etc.; Luggage (all types including footlockers), Clothing - Shoes; belts; accessories; etc.; Clothing - Shoes; belts; accessories; etc.; Luggage (all types including footlockers), Currency; Jewelry - Fine, Jewelry - Fine; Other, Cameras - Digital; Cell Phones; Currency, Jewelry - Fine; Jewelry - Fine, Clothing - Shoes; belts; accessories; etc.; Jewelry - Fine, Jewelry - Fine; Locks, Cameras - Digital; Luggage (all types including footlockers), Clothing - Shoes; belts; accessories; etc.; Clothing - Shoes; belts; accessories; etc., Cosmetics - Perfume; toilet articles; medicines; soaps; etc.; Jewelry - Fine, Clothing - Shoes; belts; accessories; etc.; Cosmetics - Perfume; toilet articles; medicines; soaps; etc.; Jewelry - Fine, Cameras - Digital; Computer - Laptop, Cameras - Digital; Cell Phones; Eyeglasses - (including contact lenses); Stereo Items &amp; Accessories, Cosmetics - Perfume; toilet articles; medicines; soaps; etc.; Luggage (all types including footlockers), Cameras - Digital; Computer - Laptop; PDA - Personal Data Assistants, Cameras - Digital; Jewelry - Fine; Other; Watches - Expensive more than $100, Cameras - Digital; Computer - Laptop; Other; Other, Clothing - Shoes; belts; accessories; etc.; Jewelry - Fine; Other, DVD/CD Players; Jewelry - Fine, Clothing - Shoes; belts; accessories; etc.; Clothing - Shoes; belts; accessories; etc.; Cosmetics - Perfume; toilet articles; medicines; soaps; etc.; DVD/CD Players, Clothing - Shoes; belts; accessories; etc.; Cosmetics - Perfume; toilet articles; medicines; soaps; etc.; Luggage (all types including footlockers), Alcoholic beverages; Clothing - Shoes; belts; accessories; etc.; Luggage (all types including footlockers), Automobile Parts, Cameras - Digital; Cell Phones; DVD/CD Players; Jewelry - Fine, Cameras - Digital; Cameras - Digital; Cell Phones, Cell Phones; Other, Cameras - Digital; Stereo Items &amp; Accessories, Eyeglasses - (including contact lenses); Jewelry - Fine; Locks, Cameras - Digital; Clothing - Shoes; belts; accessories; etc., Eyeglasses - (including contact lenses); Jewelry - Fine, Cell Phones; Clothing - Shoes; belts; accessories; etc.; Luggage (all types including footlockers), Clothing - Shoes; belts; accessories; etc.; Currency, Cell Phones; Clothing - Shoes; belts; accessories; etc., DVD/CD Players; Medicines, Cosmetics - Perfume; toilet articles; medicines; soaps; etc.; Jewelry - Fine; Luggage (all types including footlockers), Clothing - Shoes; belts; accessories; etc.; Cosmetics - Perfume; toilet articles; medicines; soaps; etc.; Medicines, Cameras - Digital; Cell Phones; Photographic Film, Clothing - Shoes; belts; accessories; etc.; DVD/CD Players; Luggage (all types including footlockers), Computer - Laptop; PDA - Personal Data Assistants, Other; Other, Clothing - Shoes; belts; accessories; etc.; PDA - Personal Data Assistants, Clothing - Shoes; belts; accessories; etc.; Medicines; Medicines, Clothing - Shoes; belts; accessories; etc.; Computer - Laptop; Cosmetics - Perfume; toilet articles; medicines; soaps; etc.; Medicines, Cameras - Digital; Cameras - Digital; Clothing - Shoes; belts; accessories; etc.; Stereo Items &amp; Accessories, Luggage (all types including footlockers); Medicines, Clothing - Shoes; belts; accessories; etc.; Cosmetics - Perfume; toilet articles; medicines; soaps; etc.; Jewelry - Fine; Medicines, Computer - Laptop; Other, Cameras - Digital; Clothing - Shoes; belts; accessories; etc.; Locks, Luggage (all types including footlockers); Other, Cell Phones; PDA - Personal Data Assistants, Currency; Other, Clothing - Shoes; belts; accessories; etc.; Clothing - Shoes; belts; accessories; etc.; Jewelry - Fine; Other, Clothing - Shoes; belts; accessories; etc.; Cosmetics - Perfume; toilet articles; medicines; soaps; etc.; Other, Eyeglasses - (including contact lenses); Medicines, DVD/CD Players; Locks; Luggage (all types including footlockers); Luggage (all types including footlockers), Cameras - Digital; Clothing - Shoes; belts; accessories; etc.; Luggage (all types including footlockers); Photographic Film, Eyeglasses - (including contact lenses); Other, Cameras - Digital; DVD/CD Players; Other, Cameras - Digital; Cosmetics - Perfume; toilet articles; medicines; soaps; etc., Locks; Luggage (all types including footlockers); Other, Clothing - Shoes; belts; accessories; etc.; Eyeglasses - (including contact lenses), Clothing - Shoes; belts; accessories; etc.; Clothing - Shoes; belts; accessories; etc.; Jewelry - Fine, Clothing - Shoes; belts; accessories; etc.; DVD/CD Players; Jewelry - Fine; Other, Cameras - Digital; Clothing - Shoes; belts; accessories; etc.; Eyeglasses - (including contact lenses); Locks, Locks; Luggage (all types including footlockers), Medicines; Other, Watches - Expensive more than $100, Cosmetics - Perfume; toilet articles; medicines; soaps; etc.; Luggage (all types including footlockers); Other, Cosmetics - Perfume; toilet articles; medicines; soaps; etc.; Locks; Medicines, Clothing - Shoes; belts; accessories; etc.; Luggage (all types including footlockers); Other, Cell Phones; Other; Stereo Items &amp; Accessories, ...]</td>\n",
       "    </tr>\n",
       "    <tr>\n",
       "      <th>9</th>\n",
       "      <td>Claim Amount</td>\n",
       "      <td>36117</td>\n",
       "      <td>[$350.00 , $100.00 , $278.88 , $50.00 , $84.79 , $459.01 , $106.52 , $75.00 , $2;270.09 , $4;457.29 , $79.95 , $43.49 , $16.71 , $450.00 , nan, $200.00 , $110;000.00 , $68.00 , $600.00 , $160.00 , $380.00 , $354.93 , $21.44 , $40.00 , $275.00 , $30.00 , $1;832.22 , $250.00 , $1;200.00 , $678.00 , $428.21 , $176.59 , $1;000.00 , $45.00 , $175.00 , $1;500.00 , $213.00 , $249.00 , $85.00 , $750.00 , $150.00 , $300.00 , $299.98 , $250;000.00 , $50;000.00 , $26.00 , $20.00 , $65.00 , $199.00 , $379.90 , $128.05 , $27.45 , $5;000.00 , $520.00 , $3;250.04 , $2;000.00 , $700.00 , $185.00 , $75.30 , $342.36 , $70.03 , $3;080.69 , $210.00 , $109.99 , $58.17 , $60.00 , $499.00 , $95.00 , $382.99 , $289.00 , $25.00 , $225.00 , $400.00 , $169.00 , $337.83 , $10.00 , $2.50 , $120.00 , $260.00 , $1;801.99 , $24.95 , $263.00 , $208.16 , $165.00 , $1;777.00 , $492.00 , $598.00 , $7;500.00 , $97.00 , $180.00 , $500.00 , $112.00 , $420.00 , $249.99 , $80.00 , $764.97 , $117.94 , $71.00 , $129.00 , $73.83 , ...]</td>\n",
       "    </tr>\n",
       "    <tr>\n",
       "      <th>10</th>\n",
       "      <td>Status</td>\n",
       "      <td>15</td>\n",
       "      <td>[Approved, Settled, Canceled, Denied, Insufficient; one of the following items required: sum certain; statement of fact; signature; location of incident; and date., In litigation, Closed as a contractor claim, In review, Claim entered, nan, Claim has been assigned for further investigation, Pending response from claimant, Deny, -, Settle, Approve in Full]</td>\n",
       "    </tr>\n",
       "    <tr>\n",
       "      <th>11</th>\n",
       "      <td>Close Amount</td>\n",
       "      <td>17162</td>\n",
       "      <td>[$350.00 , $50.00 , $227.92 , $84.79 , $227.00 , $106.52 , $75.00 , nan, $79.95 , $43.49 , $17.00 , $0.00 , $337.40 , $149.08 , $301.69 , $21.00 , $275.00 , $30.00 , $40.00 , $678.00 , $207.99 , $171.99 , $801.90 , $53.38 , $74.55 , $225.00 , $210.00 , $26.00 , $20.00 , $65.00 , $364.07 , $457.80 , $3;250.00 , $100.00 , $700.00 , $144.00 , $237.00 , $70.00 , $3;080.69 , $58.00 , $60.00 , $499.00 , $95.00 , $382.99 , $231.00 , $600.00 , $25.00 , $293.84 , $234.70 , $1;000.00 , $10.00 , $291.67 , $150.00 , $82.90 , $120.00 , $270.00 , $263.00 , $208.00 , $202.50 , $250.00 , $165.00 , $1;777.00 , $492.00 , $35.00 , $112.00 , $420.00 , $200.00 , $162.00 , $80.00 , $726.74 , $71.00 , $450.00 , $197.00 , $74.00 , $280.00 , $52.50 , $1;470.69 , $167.00 , $244.00 , $204.00 , $27.50 , $78.80 , $1;760.00 , $500.00 , $2;342.00 , $37.00 , $49.00 , $229.00 , $775.16 , $742.25 , $435.00 , $45.00 , $15.00 , $223.00 , $569.50 , $116.06 , $782.65 , $75.91 , $332.50 , $31.00 , ...]</td>\n",
       "    </tr>\n",
       "    <tr>\n",
       "      <th>12</th>\n",
       "      <td>Disposition</td>\n",
       "      <td>3</td>\n",
       "      <td>[Approve in Full, Settle, nan, Deny]</td>\n",
       "    </tr>\n",
       "  </tbody>\n",
       "</table>\n",
       "</div>"
      ],
      "text/plain": [
       "      Column Name  Number of Unique  \\\n",
       "0    Claim Number            204258   \n",
       "1   Date Received              4007   \n",
       "2   Incident Date             26807   \n",
       "3    Airport Code               465   \n",
       "4    Airport Name               485   \n",
       "5    Airline Name               318   \n",
       "6      Claim Type                11   \n",
       "7      Claim Site                 6   \n",
       "8            Item              4704   \n",
       "9    Claim Amount             36117   \n",
       "10         Status                15   \n",
       "11   Close Amount             17162   \n",
       "12    Disposition                 3   \n",
       "\n",
       "                                                                                                                                                                                                                                                                                                                                                                                                                                                                                                                                                                                                                                                                                                                                                                                                                                                                                                                                                                                                                                                                                                                                                                                                                                                                                                                                                                                                                                                                                                                                                                                                                                                                                                                                                                                                                                                                                                                                                                                                                                                                                                                                                                                                                                                                                                                                                                                                                                                                                                                                                                                                                                                                                                                                                                                                                                                                                                                                                                                                                                                                                                                                                                                                                                                                                                                                                                                                                                                                                                                                                                                                                                                                                                                                                                                                                                                                                                                                                                                                                                                                                                                                                                                                                                                                                                                                                                                                                                                                                                                                                                                                                                                                                                                                                                                                                                                                                                                                                                                                                                                                                                                                                                                                                                                                                                                                                                                                                                                                                                                                                                                                                                                                                                                                                                                                                                                                                                                                                                                                                                                                                                                                                                                                                                                                                                                                                                                                                                                                 Unique Sample  \n",
       "0                                                                                                                                                                                                                                                                                                                                                                                                                                                                                                                                                                                                                                                                                                                                                                                                                                                                                                                                                                                                                                                                                                                                                                                                                                                                                                                                                                                                                                                                                                                                                                                                                                                                                                                                                                                                                                                                                                                                                                                                                                                                                                                                                                                                                                                                                                                                                                                                                                                                                                                                                                                                                                                                                                                                                                                                                                                                                                                                                                                                                                                                                                                                                                                                                                                                                                                                                                                                                                                                                                                                                                                                                                                                                                                                                                                                                                                                                                                                                                                                                                                                                                                                                                                                                                                                                                                                                                                                                                                                                                                                                                                                                                                                                                                                                                                                                                                                                                                                                                                                                                                                                                                                                                                                                                                                                                                                                                                                                                                                                                                                                                                                 [0909802M, 0202417M, 0202445M, 0909816M, 2005032379513, 2005032479636, 2007050124750, 12772, 14268, 2004102965797, 2005071188575, 2005070788431, 14460, 13334, 0616771L, 15242, 15324, 15361, 0616636L, 0714534M, 0616540L, 16410, 0616723L, 2004092763985, 16403, 0702564M, 16759, 0616777L, 15352, 14907, 17892, 17846, 17201, 2004050550501, 18170, 18202, 18193, 18222, 18171, 18274, 0616726L, 18315, 16961, 17666, 18141, 18301, 0909839M, 15542, 18065, 18109, 18098, 18101, 18394, 0616699L, 18438, 18620, 21003, 21021, 0616631L, 18221, 0616675L, 18804, 0616760L, 18917, 18919, 21134, 19009, 0616624L, 20887, 21013, 19029, 18966, 19133, 23663, 0616802L, 15769, 18181, 23623, 0702504M, 0714563M, 0616579L, 23284, 18386, 18908, 23278, 21111, 21254, 0714547M, 19239, 19039, 19078, 20938, 21052, 21053, 21054, 21253, 0616528L, 19229, 20937, 0616610L, ...]  \n",
       "1                                                                                                                                                                                                                                                                                                                                                                                                                                                                                                                                                                                                                                                                                                                                                                                                                                                                                                                                                                                                                                                                                                                                                                                                                                                                                                                                                                                                                                                                                                                                                                                                                                                                                                                                                                                                                                                                                                                                                                                                                                                                                                                                                                                                                                                                                                                                                                                                                                                                                                                                                                                                                                                                                                                                                                                                                                                                                                                                                                                                                                                                                                                                                                                                                                                                                                                                                                                                                                                                                                                                                                                                                                                                                                                                                                                                                                                                                                                                                                                                                                                                                                                                                                                                                                                                                                                                                                                                                                                                                                                                                                                                                                                                                                                                                                                                                                                                                                                                                                                                                                                                                                                                                                                                                                                                                                                                                             [4-Jan-02, 2-Feb-02, 4-Feb-02, 7-Feb-02, 18-Feb-02, 30-Apr-02, 20-Jun-02, 25-Jun-02, 6-Jul-02, 7-Jul-02, 8-Jul-02, 12-Jul-02, 15-Jul-02, 18-Jul-02, 22-Jul-02, 24-Jul-02, 5-Aug-02, 8-Aug-02, 12-Aug-02, 19-Aug-02, 21-Aug-02, 9-Sep-02, 11-Sep-02, 16-Sep-02, 18-Sep-02, 19-Sep-02, 20-Sep-02, 23-Sep-02, 24-Sep-02, 25-Sep-02, 26-Sep-02, 27-Sep-02, 30-Sep-02, 2-Oct-02, 5-Oct-02, 7-Oct-02, 8-Oct-02, 9-Oct-02, 10-Oct-02, 11-Oct-02, 15-Oct-02, 17-Oct-02, 18-Oct-02, 19-Oct-02, 21-Oct-02, 22-Oct-02, 23-Oct-02, 25-Oct-02, 28-Oct-02, 29-Oct-02, 31-Oct-02, 1-Nov-02, 4-Nov-02, 5-Nov-02, 6-Nov-02, 7-Nov-02, 8-Nov-02, 9-Nov-02, 12-Nov-02, 13-Nov-02, 14-Nov-02, 15-Nov-02, 16-Nov-02, 18-Nov-02, 19-Nov-02, 20-Nov-02, 21-Nov-02, 22-Nov-02, 24-Nov-02, 25-Nov-02, 26-Nov-02, 27-Nov-02, 29-Nov-02, 2-Dec-02, 3-Dec-02, 4-Dec-02, 5-Dec-02, 6-Dec-02, 9-Dec-02, 10-Dec-02, 11-Dec-02, 12-Dec-02, 13-Dec-02, 16-Dec-02, 17-Dec-02, 18-Dec-02, 19-Dec-02, 20-Dec-02, 21-Dec-02, 23-Dec-02, 24-Dec-02, 26-Dec-02, 27-Dec-02, 30-Dec-02, 31-Dec-02, 2-Jan-03, 3-Jan-03, 5-Jan-03, 6-Jan-03, 7-Jan-03, ...]  \n",
       "2                                                                                                                                                                                                                                                                                                                                                                                                                                                                                                                                                                                                                                                                                                                                                                                                                                                                                                                                                                                                                                                                                                                                                                                                                                                                                                                                                                                                                                                                                                                                                                                                                                                                                                                                                                                                                                                                                                                                                                                                                                                                                                                                                                                                                                                                                                                                                                                                                                                                                                                                                                                                                                                                                                                                                                                                                                                                                                                                                                                                                                                                                                                                                                                                                                                                                                                                                                                                                                                                                                                                                                                                                                                                                                                                                                                                                                                                                                                                                                                                                                                                                                                                                                                                                                                                                                                                                                                                                                                                                                                                                                                                                                                                                                                                                                                                                  [12/12/2002 0:00, 1/16/2004 0:00, 11/26/2003 0:00, 1/6/2003 0:00, 2/5/2005 0:00, 2/17/2005 0:00, 4/26/2007 0:00, 5/9/2002 0:00, 6/16/2002 0:00, 5/4/2002 0:00, 6/23/2005 0:00, 6/17/2005 0:00, 6/12/2002 0:00, 6/4/2002 0:00, nan, 5/31/2002 0:00, 3/11/2002 0:00, 3/6/2002 0:00, 7/10/2002 0:00, 7/26/2002 0:00, 7/19/2002 0:00, 6/22/2002 0:00, 7/12/2002 0:00, 7/13/2002 0:00, 6/28/2002 0:00, 8/23/2002 0:00, 8/30/2002 0:00, 8/19/2002 0:00, 8/5/2002 0:00, 8/2/2002 0:00, 8/12/2002 0:00, 7/28/2002 0:00, 7/23/2002 0:00, 8/16/2002 0:00, 8/13/2002 0:00, 9/1/2002 0:00, 8/14/2002 0:00, 12/31/2002 0:00, 7/1/2002 0:00, 8/20/2002 0:00, 8/21/2002 0:00, 8/24/2002 0:00, 7/27/2002 0:00, 8/31/2002 0:00, 8/15/2002 0:00, 9/12/2002 0:00, 8/29/2002 0:00, 9/10/2002 0:00, 7/31/2002 0:00, 8/3/2002 0:00, 8/21/2003 0:00, 9/3/2002 0:00, 9/26/2002 0:00, 8/22/2002 0:00, 8/7/2002 0:00, 7/18/2002 0:00, 9/8/2002 0:00, 9/9/2002 0:00, 9/25/2002 0:00, 4/10/2002 0:00, 10/7/2002 0:00, 9/29/2002 0:00, 9/20/2002 0:00, 9/24/2002 0:00, 9/27/2002 0:00, 9/22/2002 0:00, 9/15/2002 0:00, 10/2/2002 0:00, 9/28/2002 0:00, 9/13/2002 0:00, 9/14/2002 0:00, 8/9/2002 0:00, 10/19/2002 0:00, 10/3/2002 0:00, 9/21/2002 0:00, 10/14/2002 0:00, 10/13/2002 0:00, 8/28/2002 0:00, 10/1/2002 0:00, 10/6/2002 0:00, 10/8/2002 0:00, 9/18/2002 0:00, 10/10/2002 0:00, 10/9/2002 0:00, 10/20/2002 0:00, 9/11/2002 0:00, 10/16/2002 0:00, 10/5/2002 0:00, 10/15/2002 0:00, 10/27/2002 0:00, 10/18/2002 0:00, 10/22/2002 0:00, 10/21/2002 0:00, 10/23/2002 0:00, 10/7/2004 0:00, 7/24/2002 0:00, 10/28/2002 0:00, 9/19/2002 0:00, 10/26/2002 0:00, 9/30/2002 0:00, ...]  \n",
       "3                                                                                                                                                                                                                                                                                                                                                                                                                                                                                                                                                                                                                                                                                                                                                                                                                                                                                                                                                                                                                                                                                                                                                                                                                                                                                                                                                                                                                                                                                                                                                                                                                                                                                                                                                                                                                                                                                                                                                                                                                                                                                                                                                                                                                                                                                                                                                                                                                                                                                                                                                                                                                                                                                                                                                                                                                                                                                                                                                                                                                                                                                                                                                                                                                                                                                                                                                                                                                                                                                                                                                                                                                                                                                                                                                                                                                                                                                                                                                                                                                                                                                                                                                                                                                                                                                                                                                                                                                                                                                                                                                                                                                                                                                                                                                                                                                                                                                                                                                                                                                                                                                                                                                                                                                                                                                                                                                                                                                                                                                                                                                                                                                                                                                                                                                                                                                                                                                                                                                    [EWR, SEA, STL, MIA, MCO, CAK, PHL, BWI, PHX, ATL, ORD, CLT, nan, SDF, RDU, BOS, PVD, CMH, MDW, BDL, JFK, DCA, BHM, TPA, CLE, COS, HOU, TSA, SAT, SYR, MOB, LAX, LGA, PIT, OAK, BNA, SLC, PBI, SMF, DTW, ORF, DFW, PSP, OKC, SAN, TOL, MSP, DEN, LAS, IAH, CVG, SJC, FNT, RIC, ELP, MEM, ABE, RSW, RNO, HNL, IAD, ABQ, PDX, ROC, SNA, AUS, MKE, PWM, FLL, LGB, ITO, GPT, BUR, LEX, JAX, TUL, MSO, TUS, BUF, BTR, ONT, MSY, DAB, DSM, BGM, CHA, CHS, JNU, MHT, IND, GEG, OMA, ISP, TYS, HSV, FWA, MDT, CLL, ALB, BGR, ...]  \n",
       "4                                                                                                                                                                                                                                                                                                                                                                                                                                                                                                                                                                                                                                                                                                                                                                                                                                                                                                                                                                                                                                                                                                                                                                                                                                                                                                                                                                                                                                                                                                                                                                                                                                                                                                                                                                                                                                                                                                                                                                                                                                                                                                                                                                                                                                                                                                                                                                                                                                                                                                                                                                                                                                                                                                                                                                                                                                                                                                                                                                                                                                                                                                                                                                                                                                                                                                                                                                                          [Newark International Airport, Seattle-Tacoma International, Lambert St. Louis International, Miami International Airport, Orlando International Airport, Akron-Canton Regional, Philadelphia International Airport, Baltimore/Washington Intl Thurgood Marshall, Phoenix Sky Harbor International, Hartsfield-Jackson Atlanta International Airport, Chicago O'Hare International Airport, Charlotte/Douglas International Airport, nan, Louisville International, Raleigh-Durham International, Boston (Logan) International Airport, TF Green Airport; Providence, Port Columbus International, Midway International Airport, Bradley International Airport, John F. Kennedy International, Ronald Reagan Washington National Airport, Birmingham International Airport, Tampa International, Cleveland Hopkins International, Colorado Springs Municipal, William P. Hobby, TSA - Non-Specified Airport, San Antonio International, Syracuse-Hancock International, Mobile Regional, Los Angeles International Airport, LaGuardia, Pittsburgh International Airport, Metropolitan Oakland International, Nashville International, Salt Lake City International Airport, Palm Beach International, Sacramento International Airport, Detroit Metropolitan Wayne County Airport, Norfolk International, Dallas-Fort Worth International Airport, Palm Springs International, Will Rogers World, San Diego International, Toledo Express, Minneapolis/ St.Paul International Airport, Denver International Airport, McCarran International, Houston - George Bush Intercontinental Airport, Cincinnati/Northern Kentucky International, Norman Y Mineta San Jose International, Bishop International; Flint, Richmond International, El Paso International Airport, Memphis International Airport, Lehigh Valley International Airport; Allentown, Southwest Florida International, Reno/Tahoe International, Honolulu International Airport, Washington Dulles International, Albuquerque International Sunport Airport, Portland International, Greater Rochester International, John Wayne, Austin-Bergstrom International Airport, General Mitchell International Airport, Portland International Jetport, Ft. Lauderdale-Hollywood International, Long Beach, Hilo International, Gulfport-Biloxi International, Bob Hope, Blue Grass ;Lexington, Jacksonville International, Tulsa International Airport, Missoula International, Tucson International, Buffalo Niagara International, Baton Rouge Metropolitan, Ontario International, New Orleans International, Daytona Beach International, Des Moines International, Greater Binghamton Airport, Chattanooga Metropolitan, Charleston International, Juneau International, Manchester Regional Airport, Indianapolis International, Spokane International, Eppley Airfield, Long Island McArthur; Islip, Mcghee Tyson ;Knoxville, Huntsville International Airport, Ft. Wayne Municipal- Baer Field, Harrisburg International, Easterwood/College Station; TX, Albany International, Bangor International Airport, ...]  \n",
       "5                                                                                                                                                                                                                                                                                                                                                                                                                                                                                                                                                                                                                                                                                                                                                                                                                                                                                                                                                                                                                                                                                                                                                                                                                                                                                                                                                                                                                                                                                                                                                                                                                                                                                                                                                                                                                                                                                                                                                                                                                                                                                                                                                                                                                                                                                                                                                                                                                                                                                                                                                                                                                                                                                                                                                                                                                                                                                                                                                                                                                                                                                                                                                                                                                                                                                                                                                                                                                                                                                                                                                                                                                                                                                                                                                                                                                                                                                                                                                                                                                                                                                                                                                                                                                                                                                                                                                                                                                                                                                                                                               [Continental Airlines, nan, American Airlines, Delta (Song), Air Tran Airlines(do not use), USAir, Southwest Airlines, AirTran Airlines, Northwest Airlines, Delta Air Lines, America West, UAL, Virgin Atlantic, Jet Blue, Alaska Airlines, Aloha Airlines, Tran Meridian Airlines, Spirit Airlines, Frontier Airlines, American West, Air Canada, British Airways, America Trans Air, Aero Mexico, Hawaiian Airlines, Lufthansa, Horizon Air, Lan Airlines, Midwest Express Airlines, Qantus Airways, Frontier Aviation Inc, Korean Airlines, Air Jamaica, KLM Royal Dutch Airlines, Alitalia, Air France, Aer Lingus, Austrian Airlines, Japan Airlines, Sun Country Airlines Inc, Comair Inc, ATA Aerocondor, Tower Air, Singapore Airlines, Mexicana, Swiss Air, Aero Flot, Air 2000 Ltd Great Britain, Skywest Airlines Inc USA, Allegiant Air, TWA, American Eagle, Southeast Airlines, Cape Air, Air New Zealand, Air Phillipines, USA 3000 (U5), Iceland Air, Scandinavian Airlines Systems, China Airlines, Midway Airlines, Continental Express Inc, OMNI Air Express- (OY), Malaysian Airline System, Sun Jet International Airlines Inc, Britannia Airways Ltd, Northwest International Airways Ltd, Turkish Airlines, Air Pacific, Indian Airlines, Pan American Airways Corp., Thai Airways, Pakistan International Airlines Cor, All Nippon Airways, Sunworld International Airlines Inc, Pace Airlines, Western Pacific Airlines Inc Westpac, Virgin Express, Commercial Airways, China Eastern Airlines, Reno Air, Aloha Islandair Inc, Kuwait Airways, Mountain West, US Express, Cayman Airlines, LOT Polish Airlines, Wiggins Airways, British Midland Airways Ltd, Skywest Airlines Australia, Saudi Arabian Airlines, Royal Wings Airlines, South African Airways, Aeroflot Russian International, Canadian Airlines, EL AL Israeli Airlines, Kuwait Airlines, Egypt Air, Czech Airlines, Avianca, ...]  \n",
       "6                                                                                                                                                                                                                                                                                                                                                                                                                                                                                                                                                                                                                                                                                                                                                                                                                                                                                                                                                                                                                                                                                                                                                                                                                                                                                                                                                                                                                                                                                                                                                                                                                                                                                                                                                                                                                                                                                                                                                                                                                                                                                                                                                                                                                                                                                                                                                                                                                                                                                                                                                                                                                                                                                                                                                                                                                                                                                                                                                                                                                                                                                                                                                                                                                                                                                                                                                                                                                                                                                                                                                                                                                                                                                                                                                                                                                                                                                                                                                                                                                                                                                                                                                                                                                                                                                                                                                                                                                                                                                                                                                                                                                                                                                                                                                                                                                                                                                                                                                                                                                                                                                                                                                                                                                                                                                                                                                                                                                                                                                                                                                                                                                                                                                                                                                                                                                                                                                                                                                                                                                                                                                                                                                                                                                                                                                             [Property Damage, Passenger Property Loss, nan, Personal Injury, Motor Vehicle, Passenger Theft, Employee Loss (MPCECA), -, Wrongful Death, Bus Terminal, Complaint, Compliment]  \n",
       "7                                                                                                                                                                                                                                                                                                                                                                                                                                                                                                                                                                                                                                                                                                                                                                                                                                                                                                                                                                                                                                                                                                                                                                                                                                                                                                                                                                                                                                                                                                                                                                                                                                                                                                                                                                                                                                                                                                                                                                                                                                                                                                                                                                                                                                                                                                                                                                                                                                                                                                                                                                                                                                                                                                                                                                                                                                                                                                                                                                                                                                                                                                                                                                                                                                                                                                                                                                                                                                                                                                                                                                                                                                                                                                                                                                                                                                                                                                                                                                                                                                                                                                                                                                                                                                                                                                                                                                                                                                                                                                                                                                                                                                                                                                                                                                                                                                                                                                                                                                                                                                                                                                                                                                                                                                                                                                                                                                                                                                                                                                                                                                                                                                                                                                                                                                                                                                                                                                                                                                                                                                                                                                                                                                                                                                                                                                                                                                                                     [Checkpoint, Checked Baggage, Other, Motor Vehicle, nan, Bus Station, -]  \n",
       "8   [Other, Luggage (all types including footlockers), Cell Phones, Baby - Strollers; car seats; playpen; etc., Professional Equipment, Clothing - Shoes; belts; accessories; etc., Computer - Laptop, Jewelry - Fine, Eyeglasses - (including contact lenses), Photographic Film, Stereo Items & Accessories, Currency, Cameras - Digital, nan, Cosmetics - Perfume; toilet articles; medicines; soaps; etc., Locks, PDA - Personal Data Assistants, Clothing - Shoes; belts; accessories; etc.; Locks, DVD/CD Players, Musical Instruments - Other - Over $250, Fish/Game, Clothing - Shoes; belts; accessories; etc.; Luggage (all types including footlockers); Luggage (all types including footlockers), Clothing - Shoes; belts; accessories; etc.; DVD/CD Players, Cameras - Digital; Clothing - Shoes; belts; accessories; etc.; Clothing - Shoes; belts; accessories; etc., Cameras - Digital; Jewelry - Fine, Medicines, Clothing - Shoes; belts; accessories; etc.; Cosmetics - Perfume; toilet articles; medicines; soaps; etc., Clothing - Shoes; belts; accessories; etc.; Other, Clothing - Shoes; belts; accessories; etc.; Luggage (all types including footlockers), Clothing - Shoes; belts; accessories; etc.; Clothing - Shoes; belts; accessories; etc.; Luggage (all types including footlockers), Currency; Jewelry - Fine, Jewelry - Fine; Other, Cameras - Digital; Cell Phones; Currency, Jewelry - Fine; Jewelry - Fine, Clothing - Shoes; belts; accessories; etc.; Jewelry - Fine, Jewelry - Fine; Locks, Cameras - Digital; Luggage (all types including footlockers), Clothing - Shoes; belts; accessories; etc.; Clothing - Shoes; belts; accessories; etc., Cosmetics - Perfume; toilet articles; medicines; soaps; etc.; Jewelry - Fine, Clothing - Shoes; belts; accessories; etc.; Cosmetics - Perfume; toilet articles; medicines; soaps; etc.; Jewelry - Fine, Cameras - Digital; Computer - Laptop, Cameras - Digital; Cell Phones; Eyeglasses - (including contact lenses); Stereo Items & Accessories, Cosmetics - Perfume; toilet articles; medicines; soaps; etc.; Luggage (all types including footlockers), Cameras - Digital; Computer - Laptop; PDA - Personal Data Assistants, Cameras - Digital; Jewelry - Fine; Other; Watches - Expensive more than $100, Cameras - Digital; Computer - Laptop; Other; Other, Clothing - Shoes; belts; accessories; etc.; Jewelry - Fine; Other, DVD/CD Players; Jewelry - Fine, Clothing - Shoes; belts; accessories; etc.; Clothing - Shoes; belts; accessories; etc.; Cosmetics - Perfume; toilet articles; medicines; soaps; etc.; DVD/CD Players, Clothing - Shoes; belts; accessories; etc.; Cosmetics - Perfume; toilet articles; medicines; soaps; etc.; Luggage (all types including footlockers), Alcoholic beverages; Clothing - Shoes; belts; accessories; etc.; Luggage (all types including footlockers), Automobile Parts, Cameras - Digital; Cell Phones; DVD/CD Players; Jewelry - Fine, Cameras - Digital; Cameras - Digital; Cell Phones, Cell Phones; Other, Cameras - Digital; Stereo Items & Accessories, Eyeglasses - (including contact lenses); Jewelry - Fine; Locks, Cameras - Digital; Clothing - Shoes; belts; accessories; etc., Eyeglasses - (including contact lenses); Jewelry - Fine, Cell Phones; Clothing - Shoes; belts; accessories; etc.; Luggage (all types including footlockers), Clothing - Shoes; belts; accessories; etc.; Currency, Cell Phones; Clothing - Shoes; belts; accessories; etc., DVD/CD Players; Medicines, Cosmetics - Perfume; toilet articles; medicines; soaps; etc.; Jewelry - Fine; Luggage (all types including footlockers), Clothing - Shoes; belts; accessories; etc.; Cosmetics - Perfume; toilet articles; medicines; soaps; etc.; Medicines, Cameras - Digital; Cell Phones; Photographic Film, Clothing - Shoes; belts; accessories; etc.; DVD/CD Players; Luggage (all types including footlockers), Computer - Laptop; PDA - Personal Data Assistants, Other; Other, Clothing - Shoes; belts; accessories; etc.; PDA - Personal Data Assistants, Clothing - Shoes; belts; accessories; etc.; Medicines; Medicines, Clothing - Shoes; belts; accessories; etc.; Computer - Laptop; Cosmetics - Perfume; toilet articles; medicines; soaps; etc.; Medicines, Cameras - Digital; Cameras - Digital; Clothing - Shoes; belts; accessories; etc.; Stereo Items & Accessories, Luggage (all types including footlockers); Medicines, Clothing - Shoes; belts; accessories; etc.; Cosmetics - Perfume; toilet articles; medicines; soaps; etc.; Jewelry - Fine; Medicines, Computer - Laptop; Other, Cameras - Digital; Clothing - Shoes; belts; accessories; etc.; Locks, Luggage (all types including footlockers); Other, Cell Phones; PDA - Personal Data Assistants, Currency; Other, Clothing - Shoes; belts; accessories; etc.; Clothing - Shoes; belts; accessories; etc.; Jewelry - Fine; Other, Clothing - Shoes; belts; accessories; etc.; Cosmetics - Perfume; toilet articles; medicines; soaps; etc.; Other, Eyeglasses - (including contact lenses); Medicines, DVD/CD Players; Locks; Luggage (all types including footlockers); Luggage (all types including footlockers), Cameras - Digital; Clothing - Shoes; belts; accessories; etc.; Luggage (all types including footlockers); Photographic Film, Eyeglasses - (including contact lenses); Other, Cameras - Digital; DVD/CD Players; Other, Cameras - Digital; Cosmetics - Perfume; toilet articles; medicines; soaps; etc., Locks; Luggage (all types including footlockers); Other, Clothing - Shoes; belts; accessories; etc.; Eyeglasses - (including contact lenses), Clothing - Shoes; belts; accessories; etc.; Clothing - Shoes; belts; accessories; etc.; Jewelry - Fine, Clothing - Shoes; belts; accessories; etc.; DVD/CD Players; Jewelry - Fine; Other, Cameras - Digital; Clothing - Shoes; belts; accessories; etc.; Eyeglasses - (including contact lenses); Locks, Locks; Luggage (all types including footlockers), Medicines; Other, Watches - Expensive more than $100, Cosmetics - Perfume; toilet articles; medicines; soaps; etc.; Luggage (all types including footlockers); Other, Cosmetics - Perfume; toilet articles; medicines; soaps; etc.; Locks; Medicines, Clothing - Shoes; belts; accessories; etc.; Luggage (all types including footlockers); Other, Cell Phones; Other; Stereo Items & Accessories, ...]  \n",
       "9                                                                                                                                                                                                                                                                                                                                                                                                                                                                                                                                                                                                                                                                                                                                                                                                                                                                                                                                                                                                                                                                                                                                                                                                                                                                                                                                                                                                                                                                                                                                                                                                                                                                                                                                                                                                                                                                                                                                                                                                                                                                                                                                                                                                                                                                                                                                                                                                                                                                                                                                                                                                                                                                                                                                                                                                                                                                                                                                                                                                                                                                                                                                                                                                                                                                                                                                                                                                                                                                                                                                                                                                                                                                                                                                                                                                                                                                                                                                                                                                                                                                                                                                                                                                                                                                                                                                                                                                                                                                                                                                                                                                                                                                                                                                                                                                                                                                                                                                                                                                                                                                                                                                                                                                                                                                                                                                                                                                                              [$350.00 , $100.00 , $278.88 , $50.00 , $84.79 , $459.01 , $106.52 , $75.00 , $2;270.09 , $4;457.29 , $79.95 , $43.49 , $16.71 , $450.00 , nan, $200.00 , $110;000.00 , $68.00 , $600.00 , $160.00 , $380.00 , $354.93 , $21.44 , $40.00 , $275.00 , $30.00 , $1;832.22 , $250.00 , $1;200.00 , $678.00 , $428.21 , $176.59 , $1;000.00 , $45.00 , $175.00 , $1;500.00 , $213.00 , $249.00 , $85.00 , $750.00 , $150.00 , $300.00 , $299.98 , $250;000.00 , $50;000.00 , $26.00 , $20.00 , $65.00 , $199.00 , $379.90 , $128.05 , $27.45 , $5;000.00 , $520.00 , $3;250.04 , $2;000.00 , $700.00 , $185.00 , $75.30 , $342.36 , $70.03 , $3;080.69 , $210.00 , $109.99 , $58.17 , $60.00 , $499.00 , $95.00 , $382.99 , $289.00 , $25.00 , $225.00 , $400.00 , $169.00 , $337.83 , $10.00 , $2.50 , $120.00 , $260.00 , $1;801.99 , $24.95 , $263.00 , $208.16 , $165.00 , $1;777.00 , $492.00 , $598.00 , $7;500.00 , $97.00 , $180.00 , $500.00 , $112.00 , $420.00 , $249.99 , $80.00 , $764.97 , $117.94 , $71.00 , $129.00 , $73.83 , ...]  \n",
       "10                                                                                                                                                                                                                                                                                                                                                                                                                                                                                                                                                                                                                                                                                                                                                                                                                                                                                                                                                                                                                                                                                                                                                                                                                                                                                                                                                                                                                                                                                                                                                                                                                                                                                                                                                                                                                                                                                                                                                                                                                                                                                                                                                                                                                                                                                                                                                                                                                                                                                                                                                                                                                                                                                                                                                                                                                                                                                                                                                                                                                                                                                                                                                                                                                                                                                                                                                                                                                                                                                                                                                                                                                                                                                                                                                                                                                                                                                                                                                                                                                                                                                                                                                                                                                                                                                                                                                                                                                                                                                                                                                                                                                                                                                                                                                                                                                                                                                                                                                                                                                                                                                                                                                                                                                                                                                                                                                                                                                                                                                                                                                                                                                                                                                                                                                                                                                                                                                                                                                                                                                                                                                                       [Approved, Settled, Canceled, Denied, Insufficient; one of the following items required: sum certain; statement of fact; signature; location of incident; and date., In litigation, Closed as a contractor claim, In review, Claim entered, nan, Claim has been assigned for further investigation, Pending response from claimant, Deny, -, Settle, Approve in Full]  \n",
       "11                                                                                                                                                                                                                                                                                                                                                                                                                                                                                                                                                                                                                                                                                                                                                                                                                                                                                                                                                                                                                                                                                                                                                                                                                                                                                                                                                                                                                                                                                                                                                                                                                                                                                                                                                                                                                                                                                                                                                                                                                                                                                                                                                                                                                                                                                                                                                                                                                                                                                                                                                                                                                                                                                                                                                                                                                                                                                                                                                                                                                                                                                                                                                                                                                                                                                                                                                                                                                                                                                                                                                                                                                                                                                                                                                                                                                                                                                                                                                                                                                                                                                                                                                                                                                                                                                                                                                                                                                                                                                                                                                                                                                                                                                                                                                                                                                                                                                                                                                                                                                                                                                                                                                                                                                                                                                                                                                                                                                                                          [$350.00 , $50.00 , $227.92 , $84.79 , $227.00 , $106.52 , $75.00 , nan, $79.95 , $43.49 , $17.00 , $0.00 , $337.40 , $149.08 , $301.69 , $21.00 , $275.00 , $30.00 , $40.00 , $678.00 , $207.99 , $171.99 , $801.90 , $53.38 , $74.55 , $225.00 , $210.00 , $26.00 , $20.00 , $65.00 , $364.07 , $457.80 , $3;250.00 , $100.00 , $700.00 , $144.00 , $237.00 , $70.00 , $3;080.69 , $58.00 , $60.00 , $499.00 , $95.00 , $382.99 , $231.00 , $600.00 , $25.00 , $293.84 , $234.70 , $1;000.00 , $10.00 , $291.67 , $150.00 , $82.90 , $120.00 , $270.00 , $263.00 , $208.00 , $202.50 , $250.00 , $165.00 , $1;777.00 , $492.00 , $35.00 , $112.00 , $420.00 , $200.00 , $162.00 , $80.00 , $726.74 , $71.00 , $450.00 , $197.00 , $74.00 , $280.00 , $52.50 , $1;470.69 , $167.00 , $244.00 , $204.00 , $27.50 , $78.80 , $1;760.00 , $500.00 , $2;342.00 , $37.00 , $49.00 , $229.00 , $775.16 , $742.25 , $435.00 , $45.00 , $15.00 , $223.00 , $569.50 , $116.06 , $782.65 , $75.91 , $332.50 , $31.00 , ...]  \n",
       "12                                                                                                                                                                                                                                                                                                                                                                                                                                                                                                                                                                                                                                                                                                                                                                                                                                                                                                                                                                                                                                                                                                                                                                                                                                                                                                                                                                                                                                                                                                                                                                                                                                                                                                                                                                                                                                                                                                                                                                                                                                                                                                                                                                                                                                                                                                                                                                                                                                                                                                                                                                                                                                                                                                                                                                                                                                                                                                                                                                                                                                                                                                                                                                                                                                                                                                                                                                                                                                                                                                                                                                                                                                                                                                                                                                                                                                                                                                                                                                                                                                                                                                                                                                                                                                                                                                                                                                                                                                                                                                                                                                                                                                                                                                                                                                                                                                                                                                                                                                                                                                                                                                                                                                                                                                                                                                                                                                                                                                                                                                                                                                                                                                                                                                                                                                                                                                                                                                                                                                                                                                                                                                                                                                                                                                                                                                                                                                                                                                        [Approve in Full, Settle, nan, Deny]  "
      ]
     },
     "execution_count": 6,
     "metadata": {},
     "output_type": "execute_result"
    }
   ],
   "source": [
    "# Melihat data unik di setiap kolom dalam dataset\n",
    "pd.set_option('display.max_colwidth', None)\n",
    "listItem = []\n",
    "for col in Dataset.columns :\n",
    "    listItem.append( [col, Dataset[col].nunique(), Dataset[col].unique()])\n",
    "\n",
    "tabel_Desc = pd.DataFrame(columns=['Column Name', 'Number of Unique', 'Unique Sample'],\n",
    "                     data=listItem)\n",
    "tabel_Desc"
   ]
  },
  {
   "cell_type": "code",
   "execution_count": 7,
   "metadata": {},
   "outputs": [
    {
     "data": {
      "text/plain": [
       "Claim Number      0.000000\n",
       "Date Received     0.128753\n",
       "Incident Date     1.068699\n",
       "Airport Code      4.172970\n",
       "Airport Name      4.172970\n",
       "Airline Name     16.827975\n",
       "Claim Type        3.873851\n",
       "Claim Site        0.362271\n",
       "Item              1.941576\n",
       "Claim Amount      1.979272\n",
       "Status            0.002448\n",
       "Close Amount     33.755820\n",
       "Disposition      35.692501\n",
       "dtype: float64"
      ]
     },
     "execution_count": 7,
     "metadata": {},
     "output_type": "execute_result"
    }
   ],
   "source": [
    "# Melihat persentase missing value\n",
    "Dataset.isna().sum()/Dataset.shape[0]*100"
   ]
  },
  {
   "cell_type": "markdown",
   "metadata": {},
   "source": [
    "Berdasarkan informasi di atas, dapat diperoleh beberapa temuan awal yaitu :\n",
    "* Dataset tsa_claims memiliki 13 kolom dan 204267 baris\n",
    "* Terdapat data kosong di semua kolom terkecuali kolom Claim Number. Setiap data kosong diwakili oleh NaN.\n",
    "* Kolom Claim Number berisikan nomor unik dari setiap klaim yang diajukan penumpang, sehingga tidak relevan dalam analisis dan dapat dihapus.\n",
    "* Kolom Date Received dan Incident Date seharusnya memiliki tipe data DateTime karena berkaitan dengan waktu, bukan objek.\n",
    "* Terdapat duplikat value pada kolom Airport Code yang saling berhubungan dengan kolom Airport Name.\n",
    "* Kolom Airline Name berisikan nama maskapai yang dipakai oleh penumpang, namun kolom ini tidak relevan dengan tujuan analisis sehingga dapat dihapus.\n",
    "* Kolom Claim Amount berisikan harga klaim yang diajukan penumpang, namun kolom ini tidak relevan dengan tujuan analisis sehingga dapat dihapus.\n",
    "* Kolom Close Amount berisikan harga klaim yang dibayarkan oleh TSA pada penumpang, namun kolom ini tidak relevan dengan tujuan analisis sehingga dapat dihapus.\n",
    "* Kolom item berisikan item/barang yang diajukan dalam klaim oleh penumpang, namun kolom ini tidak relevan dengan tujuan analisis sehingga dapat dihapus.\n",
    "* Kolom Status dan Disposition berisikan status proses dari pengajuan klaim, sehingga tidak relevan dalam analisis dan dapat dihapus.\n",
    "* *Missing value* di kolom `Airlane Name`, `Close Amount`, dan `Dispotion` memiliki proporsi yang paling besar di antara kolom yang lainnya.\n",
    "\n",
    "Selanjutnya kita akan melakukan data cleaning yang tujuannya untuk memudahkan kita dalam proses analisa\n",
    " "
   ]
  },
  {
   "cell_type": "markdown",
   "metadata": {},
   "source": [
    "# **3. Data Cleaning**"
   ]
  },
  {
   "cell_type": "code",
   "execution_count": 8,
   "metadata": {},
   "outputs": [
    {
     "name": "stdout",
     "output_type": "stream",
     "text": [
      "<class 'pandas.core.frame.DataFrame'>\n",
      "RangeIndex: 204267 entries, 0 to 204266\n",
      "Data columns (total 13 columns):\n",
      " #   Column         Non-Null Count   Dtype \n",
      "---  ------         --------------   ----- \n",
      " 0   Claim Number   204267 non-null  object\n",
      " 1   Date Received  204004 non-null  object\n",
      " 2   Incident Date  202084 non-null  object\n",
      " 3   Airport Code   195743 non-null  object\n",
      " 4   Airport Name   195743 non-null  object\n",
      " 5   Airline Name   169893 non-null  object\n",
      " 6   Claim Type     196354 non-null  object\n",
      " 7   Claim Site     203527 non-null  object\n",
      " 8   Item           200301 non-null  object\n",
      " 9   Claim Amount   200224 non-null  object\n",
      " 10  Status         204262 non-null  object\n",
      " 11  Close Amount   135315 non-null  object\n",
      " 12  Disposition    131359 non-null  object\n",
      "dtypes: object(13)\n",
      "memory usage: 20.3+ MB\n"
     ]
    }
   ],
   "source": [
    "# Melihat informasi kolom setalah dilakukan penghapusan beberapa kolom yang tidak relevan dalam analisis\n",
    "Dataset.info()"
   ]
  },
  {
   "cell_type": "markdown",
   "metadata": {},
   "source": [
    "Dari info data diatas masih ada beberapa kolom yang tidak dibutuhkan dan tipe data yang tidak sesuai selanjutnya kita akan menghapus kolom-kolom yang tidak dibutuhkan dan merubah tipe data untuk memudahkan kita dalam proses analisa nantinya"
   ]
  },
  {
   "cell_type": "code",
   "execution_count": 9,
   "metadata": {},
   "outputs": [],
   "source": [
    "# Menghapus kolom yang tidak relevan dalam analisis\n",
    "Dataset.drop(columns=[\"Airline Name\", \"Item\",\"Claim Amount\", \"Claim Number\", \"Status\", \"Close Amount\", \"Disposition\"], inplace=True)"
   ]
  },
  {
   "cell_type": "markdown",
   "metadata": {},
   "source": [
    "Setelah dilakukan penghapusan kolom yang tidak relevan, tersisa 6 kolom yaitu Date Received, Incident Date, Airport Code, Airport Name, Claim Type, dan Claim Site. Kolom-kolom tersebut akan diproses dalam tahapan data cleaning, kemudian dianalisis."
   ]
  },
  {
   "cell_type": "code",
   "execution_count": 10,
   "metadata": {},
   "outputs": [
    {
     "data": {
      "text/plain": [
       "Date Received    0.128753\n",
       "Incident Date    1.068699\n",
       "Airport Code     4.172970\n",
       "Airport Name     4.172970\n",
       "Claim Type       3.873851\n",
       "Claim Site       0.362271\n",
       "dtype: float64"
      ]
     },
     "execution_count": 10,
     "metadata": {},
     "output_type": "execute_result"
    }
   ],
   "source": [
    "# Persentase missing value\n",
    "Dataset.isna().sum()/Dataset.shape[0]*100"
   ]
  },
  {
   "cell_type": "markdown",
   "metadata": {},
   "source": [
    "* *Missing value* di kolom `Airport Code`, `Airport Name`, dan `Claim Type` memiliki proporsi yang paling besar di antara yang lainnya, dimana *missing value* di kolom `Airport Code`, `Airport Name` sebesar 4.1% dan di kolom `Claim Type` sebesar 3.8%.\n",
    "\n",
    "Terdapat dua cara dalam menangani *missing value*, yaitu :\n",
    "* Cara pertama dengan menghapus baris/kolom yang berisi *missing value*.\n",
    "* Cara kedua dengan mengisi data yang hilang. Ada beberapa metode yang bisa digunakan untuk mengisi missing value, cara yang paling baik adalah dengan mengisi data yang hilang dengan nilai sebenarnya, atau sedekat mungkin dengan nilai asli. Jika masih ada kolom yang tidak bisa diisi, bisa diisi dengan angka *mean, median* atau *modus*. Menghapus data akan menjadi opsi terakhir.\n",
    "\n",
    "\n",
    "Setelah melihat informasi mengenai anomali-anomali yang ada pada dataset secara garis besar, langkah selanjutnya dapat dilakukan penanganan terhadap anomali-anomali yang ada secara lebih mendalam."
   ]
  },
  {
   "cell_type": "markdown",
   "metadata": {},
   "source": [
    "**Date Received dan Incident Date**\n",
    "Kolom Date Received dan Incident Date sama sama berisikan waktu yang spesifik. Date Received memiliki missing value sebesar 0.12% dan Incident Date sebesar 1.06%."
   ]
  },
  {
   "cell_type": "code",
   "execution_count": 11,
   "metadata": {},
   "outputs": [
    {
     "data": {
      "text/plain": [
       "Date Received     263\n",
       "Incident Date    2183\n",
       "dtype: int64"
      ]
     },
     "execution_count": 11,
     "metadata": {},
     "output_type": "execute_result"
    }
   ],
   "source": [
    "# Jumlah missing value pada kolom Date Received dan Incident Date\n",
    "Dataset[['Date Received','Incident Date']].isna().sum()"
   ]
  },
  {
   "cell_type": "markdown",
   "metadata": {},
   "source": [
    "Untuk penanganan missing value pada kedua kolom tersebut dapat dilakukan penghapusan karena proporsinya yang kecil serta tidak ada cara lain yang cukup meyakinkan untuk menambahkan value yang baru. Hal ini terjadi karena kedua kolom tersebut berisikan waktu yang spesifik."
   ]
  },
  {
   "cell_type": "code",
   "execution_count": 12,
   "metadata": {},
   "outputs": [],
   "source": [
    "# Menghapus Missing Value pada kolom Date Received dan Incident Date\n",
    "Dataset.dropna(subset=['Date Received','Incident Date'],inplace=True)"
   ]
  },
  {
   "cell_type": "code",
   "execution_count": 13,
   "metadata": {},
   "outputs": [
    {
     "data": {
      "text/plain": [
       "Date Received       0\n",
       "Incident Date       0\n",
       "Airport Code     7030\n",
       "Airport Name     7030\n",
       "Claim Type       6403\n",
       "Claim Site        532\n",
       "dtype: int64"
      ]
     },
     "execution_count": 13,
     "metadata": {},
     "output_type": "execute_result"
    }
   ],
   "source": [
    "# Mengecek kembali missing value yang sudah dihapus\n",
    "Dataset.isna().sum()"
   ]
  },
  {
   "cell_type": "markdown",
   "metadata": {},
   "source": [
    "Setelah menangani missing value, pada pengecekan lebih lanjut tipe data pada kolom `Date Received` dan `Incident Date` adalah object, karena tidak sesuai dengan value yang ada di dalamnya sehingga perlu diubah terlebih dahulu menjadi tipe data date time."
   ]
  },
  {
   "cell_type": "code",
   "execution_count": 14,
   "metadata": {},
   "outputs": [
    {
     "name": "stdout",
     "output_type": "stream",
     "text": [
      "<class 'pandas.core.frame.DataFrame'>\n",
      "Int64Index: 201945 entries, 0 to 204266\n",
      "Data columns (total 6 columns):\n",
      " #   Column         Non-Null Count   Dtype         \n",
      "---  ------         --------------   -----         \n",
      " 0   Date Received  201945 non-null  datetime64[ns]\n",
      " 1   Incident Date  201781 non-null  datetime64[ns]\n",
      " 2   Airport Code   194915 non-null  object        \n",
      " 3   Airport Name   194915 non-null  object        \n",
      " 4   Claim Type     195542 non-null  object        \n",
      " 5   Claim Site     201413 non-null  object        \n",
      "dtypes: datetime64[ns](2), object(4)\n",
      "memory usage: 10.8+ MB\n"
     ]
    }
   ],
   "source": [
    "# Mengubah tipe data Date Received dan Incident Date menjadi date time\n",
    "Dataset['Date Received'] = pd.to_datetime(Dataset['Date Received'])\n",
    "Dataset['Incident Date'] = pd.to_datetime(Dataset['Incident Date'], errors='coerce')\n",
    "Dataset.info()"
   ]
  },
  {
   "cell_type": "markdown",
   "metadata": {},
   "source": [
    "Pada kolom Incident Date terdapat error pada penulisan beberapa value sehingga tidak dapat diubah ke dalam tipe data date time. Value tersebut tidak bisa diisi atau diganti dengan value yang lain, oleh karena itu data tersebut diubah menjadi data kosong dan kemudian dilakukan penghapusan kembali."
   ]
  },
  {
   "cell_type": "code",
   "execution_count": 15,
   "metadata": {},
   "outputs": [
    {
     "data": {
      "text/plain": [
       "164"
      ]
     },
     "execution_count": 15,
     "metadata": {},
     "output_type": "execute_result"
    }
   ],
   "source": [
    "# Mengecek missing value pada Incident Date\n",
    "Dataset['Incident Date'].isnull().sum()"
   ]
  },
  {
   "cell_type": "code",
   "execution_count": 16,
   "metadata": {},
   "outputs": [],
   "source": [
    "# Menghapus missing value pada Incident Date\n",
    "Dataset.dropna(subset=['Incident Date'],inplace=True)"
   ]
  },
  {
   "cell_type": "code",
   "execution_count": 17,
   "metadata": {},
   "outputs": [
    {
     "data": {
      "text/plain": [
       "0"
      ]
     },
     "execution_count": 17,
     "metadata": {},
     "output_type": "execute_result"
    }
   ],
   "source": [
    "# Mengecek kembali missing value setelah dihapus\n",
    "Dataset['Incident Date'].isna().sum()"
   ]
  },
  {
   "cell_type": "markdown",
   "metadata": {},
   "source": [
    "Setelah menangani missing value dan juga mengubah tipe data menjadi date time, dilakukan pengecekan lebih mendalam terkait data pada kolom Date Received dan Incident Date."
   ]
  },
  {
   "cell_type": "code",
   "execution_count": 18,
   "metadata": {},
   "outputs": [
    {
     "data": {
      "text/plain": [
       "1994        1\n",
       "1996        1\n",
       "2000        4\n",
       "2002      932\n",
       "2003    21115\n",
       "2004    29531\n",
       "2005    24353\n",
       "2006    18993\n",
       "2007    18558\n",
       "2008    16395\n",
       "2009    12770\n",
       "2010    10925\n",
       "2011    10905\n",
       "2012    10069\n",
       "2013     9698\n",
       "2014     8855\n",
       "2015     8667\n",
       "2020        1\n",
       "2025        5\n",
       "2040        1\n",
       "2044        1\n",
       "2055        1\n",
       "Name: Date Received, dtype: int64"
      ]
     },
     "execution_count": 18,
     "metadata": {},
     "output_type": "execute_result"
    }
   ],
   "source": [
    "# Mengecek tahun dari kolom Date Received\n",
    "Dataset['Date Received'].dt.year.value_counts().sort_index()"
   ]
  },
  {
   "cell_type": "code",
   "execution_count": 19,
   "metadata": {},
   "outputs": [
    {
     "data": {
      "text/plain": [
       "1996        1\n",
       "2000       14\n",
       "2001       15\n",
       "2002     2123\n",
       "2003    24465\n",
       "2004    28953\n",
       "2005    22964\n",
       "2006    18796\n",
       "2007    18261\n",
       "2008    15887\n",
       "2009    11172\n",
       "2010    12215\n",
       "2011    10994\n",
       "2012     9984\n",
       "2013     9536\n",
       "2014     8680\n",
       "2015     7721\n",
       "Name: Incident Date, dtype: int64"
      ]
     },
     "execution_count": 19,
     "metadata": {},
     "output_type": "execute_result"
    }
   ],
   "source": [
    "# Mengecek tahun dari kolom Incident Date\n",
    "Dataset['Incident Date'].dt.year.value_counts().sort_index()"
   ]
  },
  {
   "cell_type": "markdown",
   "metadata": {},
   "source": [
    "Dari pengecekan data di atas, diperoleh informasi bahwa terdapat value yang memiliki waktu (tahun) tidak sesuai dengan pernyataan rentang dataset dari tahun 2002 - 2015. Oleh karena itu data tersebut akan dihapus karena proporsi kekeliruan value yang rendah, jarak tahun yang terlalu jauh, serta tidak ada cara sesuai yang dapat menggantikan value-value tersebut."
   ]
  },
  {
   "cell_type": "code",
   "execution_count": 20,
   "metadata": {},
   "outputs": [],
   "source": [
    "# Menghilangkan value yang memiliki tahun tidak sesuai dengan rentang tahun 2002 - 2015\n",
    "Dataset = Dataset[Dataset['Date Received'].dt.year.isin(range(2002,2016))]\n",
    "Dataset = Dataset[Dataset['Incident Date'].dt.year.isin(range(2002,2016))]"
   ]
  },
  {
   "cell_type": "code",
   "execution_count": 21,
   "metadata": {},
   "outputs": [
    {
     "data": {
      "text/plain": [
       "2002      932\n",
       "2003    21111\n",
       "2004    29516\n",
       "2005    24350\n",
       "2006    18990\n",
       "2007    18555\n",
       "2008    16393\n",
       "2009    12770\n",
       "2010    10925\n",
       "2011    10905\n",
       "2012    10069\n",
       "2013     9698\n",
       "2014     8855\n",
       "2015     8667\n",
       "Name: Date Received, dtype: int64"
      ]
     },
     "execution_count": 21,
     "metadata": {},
     "output_type": "execute_result"
    }
   ],
   "source": [
    "# Mengecek kembali tahun dikolom date received\n",
    "Dataset['Date Received'].dt.year.value_counts().sort_index()"
   ]
  },
  {
   "cell_type": "code",
   "execution_count": 22,
   "metadata": {},
   "outputs": [
    {
     "data": {
      "text/plain": [
       "2002     2123\n",
       "2003    24463\n",
       "2004    28952\n",
       "2005    22956\n",
       "2006    18793\n",
       "2007    18260\n",
       "2008    15887\n",
       "2009    11172\n",
       "2010    12215\n",
       "2011    10994\n",
       "2012     9984\n",
       "2013     9536\n",
       "2014     8680\n",
       "2015     7721\n",
       "Name: Incident Date, dtype: int64"
      ]
     },
     "execution_count": 22,
     "metadata": {},
     "output_type": "execute_result"
    }
   ],
   "source": [
    "# Mengecek tahun di kolom incident date\n",
    "Dataset['Incident Date'].dt.year.value_counts().sort_index()"
   ]
  },
  {
   "cell_type": "markdown",
   "metadata": {},
   "source": [
    "Kolom Date Received berisi waktu saat pengajuan klaim dibuat dan kolom Incident Date berisikan waktu saat terjadinya kejadian, sehingga waktu dalam Date Received tentunya harus lebih baru daripada waktu Incident Date. Namun, setelah pengecekan lebih lanjut terdapat beberapa value yang tidak sesuai, dimana waktu dari Incident date lebih baru daripada waktu Date Received. Oleh karena itu, data tersebut harus dihapus karena tidak bisa diubah atau digantikan dengan value yang lain karena berkaitan dengan waktu yang spesifik."
   ]
  },
  {
   "cell_type": "code",
   "execution_count": 23,
   "metadata": {},
   "outputs": [
    {
     "data": {
      "text/html": [
       "<div>\n",
       "<style scoped>\n",
       "    .dataframe tbody tr th:only-of-type {\n",
       "        vertical-align: middle;\n",
       "    }\n",
       "\n",
       "    .dataframe tbody tr th {\n",
       "        vertical-align: top;\n",
       "    }\n",
       "\n",
       "    .dataframe thead th {\n",
       "        text-align: right;\n",
       "    }\n",
       "</style>\n",
       "<table border=\"1\" class=\"dataframe\">\n",
       "  <thead>\n",
       "    <tr style=\"text-align: right;\">\n",
       "      <th></th>\n",
       "      <th>Date Received</th>\n",
       "      <th>Incident Date</th>\n",
       "      <th>Airport Code</th>\n",
       "      <th>Airport Name</th>\n",
       "      <th>Claim Type</th>\n",
       "      <th>Claim Site</th>\n",
       "    </tr>\n",
       "  </thead>\n",
       "  <tbody>\n",
       "    <tr>\n",
       "      <th>0</th>\n",
       "      <td>2002-01-04</td>\n",
       "      <td>2002-12-12 00:00:00</td>\n",
       "      <td>EWR</td>\n",
       "      <td>Newark International Airport</td>\n",
       "      <td>Property Damage</td>\n",
       "      <td>Checkpoint</td>\n",
       "    </tr>\n",
       "    <tr>\n",
       "      <th>1</th>\n",
       "      <td>2002-02-02</td>\n",
       "      <td>2004-01-16 00:00:00</td>\n",
       "      <td>SEA</td>\n",
       "      <td>Seattle-Tacoma International</td>\n",
       "      <td>Property Damage</td>\n",
       "      <td>Checked Baggage</td>\n",
       "    </tr>\n",
       "    <tr>\n",
       "      <th>2</th>\n",
       "      <td>2002-02-04</td>\n",
       "      <td>2003-11-26 00:00:00</td>\n",
       "      <td>STL</td>\n",
       "      <td>Lambert St. Louis International</td>\n",
       "      <td>Property Damage</td>\n",
       "      <td>Checked Baggage</td>\n",
       "    </tr>\n",
       "    <tr>\n",
       "      <th>3</th>\n",
       "      <td>2002-02-07</td>\n",
       "      <td>2003-01-06 00:00:00</td>\n",
       "      <td>MIA</td>\n",
       "      <td>Miami International Airport</td>\n",
       "      <td>Property Damage</td>\n",
       "      <td>Checkpoint</td>\n",
       "    </tr>\n",
       "    <tr>\n",
       "      <th>4</th>\n",
       "      <td>2002-02-18</td>\n",
       "      <td>2005-02-05 00:00:00</td>\n",
       "      <td>MCO</td>\n",
       "      <td>Orlando International Airport</td>\n",
       "      <td>Property Damage</td>\n",
       "      <td>Checkpoint</td>\n",
       "    </tr>\n",
       "    <tr>\n",
       "      <th>...</th>\n",
       "      <td>...</td>\n",
       "      <td>...</td>\n",
       "      <td>...</td>\n",
       "      <td>...</td>\n",
       "      <td>...</td>\n",
       "      <td>...</td>\n",
       "    </tr>\n",
       "    <tr>\n",
       "      <th>185745</th>\n",
       "      <td>2013-11-16</td>\n",
       "      <td>2013-11-16 11:22:00</td>\n",
       "      <td>EWR</td>\n",
       "      <td>Newark International Airport</td>\n",
       "      <td>Passenger Property Loss</td>\n",
       "      <td>Checkpoint</td>\n",
       "    </tr>\n",
       "    <tr>\n",
       "      <th>185827</th>\n",
       "      <td>2013-11-20</td>\n",
       "      <td>2013-11-20 06:00:00</td>\n",
       "      <td>LAX</td>\n",
       "      <td>Los Angeles International Airport</td>\n",
       "      <td>Property Damage</td>\n",
       "      <td>Checked Baggage</td>\n",
       "    </tr>\n",
       "    <tr>\n",
       "      <th>186051</th>\n",
       "      <td>2013-12-02</td>\n",
       "      <td>2013-12-02 07:00:00</td>\n",
       "      <td>DFW</td>\n",
       "      <td>Dallas-Fort Worth International Airport</td>\n",
       "      <td>Property Damage</td>\n",
       "      <td>Checked Baggage</td>\n",
       "    </tr>\n",
       "    <tr>\n",
       "      <th>186298</th>\n",
       "      <td>2013-12-11</td>\n",
       "      <td>2013-12-11 12:20:00</td>\n",
       "      <td>-</td>\n",
       "      <td>-</td>\n",
       "      <td>Property Damage</td>\n",
       "      <td>Checkpoint</td>\n",
       "    </tr>\n",
       "    <tr>\n",
       "      <th>186449</th>\n",
       "      <td>2013-12-17</td>\n",
       "      <td>2013-12-17 06:05:00</td>\n",
       "      <td>CLT</td>\n",
       "      <td>Charlotte/Douglas International Airport</td>\n",
       "      <td>Passenger Property Loss</td>\n",
       "      <td>Checkpoint</td>\n",
       "    </tr>\n",
       "  </tbody>\n",
       "</table>\n",
       "<p>1710 rows × 6 columns</p>\n",
       "</div>"
      ],
      "text/plain": [
       "       Date Received       Incident Date Airport Code  \\\n",
       "0         2002-01-04 2002-12-12 00:00:00          EWR   \n",
       "1         2002-02-02 2004-01-16 00:00:00          SEA   \n",
       "2         2002-02-04 2003-11-26 00:00:00          STL   \n",
       "3         2002-02-07 2003-01-06 00:00:00          MIA   \n",
       "4         2002-02-18 2005-02-05 00:00:00          MCO   \n",
       "...              ...                 ...          ...   \n",
       "185745    2013-11-16 2013-11-16 11:22:00          EWR   \n",
       "185827    2013-11-20 2013-11-20 06:00:00          LAX   \n",
       "186051    2013-12-02 2013-12-02 07:00:00          DFW   \n",
       "186298    2013-12-11 2013-12-11 12:20:00            -   \n",
       "186449    2013-12-17 2013-12-17 06:05:00          CLT   \n",
       "\n",
       "                                    Airport Name               Claim Type  \\\n",
       "0                   Newark International Airport          Property Damage   \n",
       "1                   Seattle-Tacoma International          Property Damage   \n",
       "2                Lambert St. Louis International          Property Damage   \n",
       "3                    Miami International Airport          Property Damage   \n",
       "4                  Orlando International Airport          Property Damage   \n",
       "...                                          ...                      ...   \n",
       "185745              Newark International Airport  Passenger Property Loss   \n",
       "185827        Los Angeles International Airport           Property Damage   \n",
       "186051  Dallas-Fort Worth International Airport           Property Damage   \n",
       "186298                                         -          Property Damage   \n",
       "186449   Charlotte/Douglas International Airport  Passenger Property Loss   \n",
       "\n",
       "             Claim Site  \n",
       "0            Checkpoint  \n",
       "1       Checked Baggage  \n",
       "2       Checked Baggage  \n",
       "3            Checkpoint  \n",
       "4            Checkpoint  \n",
       "...                 ...  \n",
       "185745       Checkpoint  \n",
       "185827  Checked Baggage  \n",
       "186051  Checked Baggage  \n",
       "186298       Checkpoint  \n",
       "186449       Checkpoint  \n",
       "\n",
       "[1710 rows x 6 columns]"
      ]
     },
     "execution_count": 23,
     "metadata": {},
     "output_type": "execute_result"
    }
   ],
   "source": [
    "# Menampilkan data Incident Date yang lebih baru dari Date Received\n",
    "Dataset.loc[Dataset['Incident Date'] > Dataset['Date Received']]"
   ]
  },
  {
   "cell_type": "code",
   "execution_count": 24,
   "metadata": {},
   "outputs": [
    {
     "data": {
      "text/html": [
       "<div>\n",
       "<style scoped>\n",
       "    .dataframe tbody tr th:only-of-type {\n",
       "        vertical-align: middle;\n",
       "    }\n",
       "\n",
       "    .dataframe tbody tr th {\n",
       "        vertical-align: top;\n",
       "    }\n",
       "\n",
       "    .dataframe thead th {\n",
       "        text-align: right;\n",
       "    }\n",
       "</style>\n",
       "<table border=\"1\" class=\"dataframe\">\n",
       "  <thead>\n",
       "    <tr style=\"text-align: right;\">\n",
       "      <th></th>\n",
       "      <th>Date Received</th>\n",
       "      <th>Incident Date</th>\n",
       "      <th>Airport Code</th>\n",
       "      <th>Airport Name</th>\n",
       "      <th>Claim Type</th>\n",
       "      <th>Claim Site</th>\n",
       "    </tr>\n",
       "  </thead>\n",
       "  <tbody>\n",
       "    <tr>\n",
       "      <th>0</th>\n",
       "      <td>2002-06-20</td>\n",
       "      <td>2002-05-09</td>\n",
       "      <td>BWI</td>\n",
       "      <td>Baltimore/Washington Intl Thurgood Marshall</td>\n",
       "      <td>NaN</td>\n",
       "      <td>Checkpoint</td>\n",
       "    </tr>\n",
       "    <tr>\n",
       "      <th>1</th>\n",
       "      <td>2002-06-20</td>\n",
       "      <td>2002-06-16</td>\n",
       "      <td>PHX</td>\n",
       "      <td>Phoenix Sky Harbor International</td>\n",
       "      <td>Property Damage</td>\n",
       "      <td>Checkpoint</td>\n",
       "    </tr>\n",
       "    <tr>\n",
       "      <th>2</th>\n",
       "      <td>2002-06-25</td>\n",
       "      <td>2002-05-04</td>\n",
       "      <td>ATL</td>\n",
       "      <td>Hartsfield-Jackson Atlanta International Airport</td>\n",
       "      <td>Passenger Property Loss</td>\n",
       "      <td>Checkpoint</td>\n",
       "    </tr>\n",
       "    <tr>\n",
       "      <th>3</th>\n",
       "      <td>2002-07-08</td>\n",
       "      <td>2002-06-12</td>\n",
       "      <td>BWI</td>\n",
       "      <td>Baltimore/Washington Intl Thurgood Marshall</td>\n",
       "      <td>NaN</td>\n",
       "      <td>Checkpoint</td>\n",
       "    </tr>\n",
       "    <tr>\n",
       "      <th>4</th>\n",
       "      <td>2002-07-08</td>\n",
       "      <td>2002-06-04</td>\n",
       "      <td>BWI</td>\n",
       "      <td>Baltimore/Washington Intl Thurgood Marshall</td>\n",
       "      <td>NaN</td>\n",
       "      <td>Other</td>\n",
       "    </tr>\n",
       "  </tbody>\n",
       "</table>\n",
       "</div>"
      ],
      "text/plain": [
       "  Date Received Incident Date Airport Code  \\\n",
       "0    2002-06-20    2002-05-09          BWI   \n",
       "1    2002-06-20    2002-06-16          PHX   \n",
       "2    2002-06-25    2002-05-04          ATL   \n",
       "3    2002-07-08    2002-06-12          BWI   \n",
       "4    2002-07-08    2002-06-04          BWI   \n",
       "\n",
       "                                       Airport Name               Claim Type  \\\n",
       "0       Baltimore/Washington Intl Thurgood Marshall                      NaN   \n",
       "1                  Phoenix Sky Harbor International          Property Damage   \n",
       "2  Hartsfield-Jackson Atlanta International Airport  Passenger Property Loss   \n",
       "3       Baltimore/Washington Intl Thurgood Marshall                      NaN   \n",
       "4       Baltimore/Washington Intl Thurgood Marshall                      NaN   \n",
       "\n",
       "   Claim Site  \n",
       "0  Checkpoint  \n",
       "1  Checkpoint  \n",
       "2  Checkpoint  \n",
       "3  Checkpoint  \n",
       "4       Other  "
      ]
     },
     "metadata": {},
     "output_type": "display_data"
    },
    {
     "data": {
      "text/html": [
       "<div>\n",
       "<style scoped>\n",
       "    .dataframe tbody tr th:only-of-type {\n",
       "        vertical-align: middle;\n",
       "    }\n",
       "\n",
       "    .dataframe tbody tr th {\n",
       "        vertical-align: top;\n",
       "    }\n",
       "\n",
       "    .dataframe thead th {\n",
       "        text-align: right;\n",
       "    }\n",
       "</style>\n",
       "<table border=\"1\" class=\"dataframe\">\n",
       "  <thead>\n",
       "    <tr style=\"text-align: right;\">\n",
       "      <th></th>\n",
       "      <th>Date Received</th>\n",
       "      <th>Incident Date</th>\n",
       "      <th>Airport Code</th>\n",
       "      <th>Airport Name</th>\n",
       "      <th>Claim Type</th>\n",
       "      <th>Claim Site</th>\n",
       "    </tr>\n",
       "  </thead>\n",
       "  <tbody>\n",
       "    <tr>\n",
       "      <th>200021</th>\n",
       "      <td>2015-11-20</td>\n",
       "      <td>2015-10-16</td>\n",
       "      <td>-</td>\n",
       "      <td>-</td>\n",
       "      <td>Property Damage</td>\n",
       "      <td>Checked Baggage</td>\n",
       "    </tr>\n",
       "    <tr>\n",
       "      <th>200022</th>\n",
       "      <td>2015-12-17</td>\n",
       "      <td>2015-12-02</td>\n",
       "      <td>-</td>\n",
       "      <td>-</td>\n",
       "      <td>Property Damage</td>\n",
       "      <td>Checked Baggage</td>\n",
       "    </tr>\n",
       "    <tr>\n",
       "      <th>200023</th>\n",
       "      <td>2015-12-22</td>\n",
       "      <td>2015-12-20</td>\n",
       "      <td>-</td>\n",
       "      <td>-</td>\n",
       "      <td>Passenger Property Loss</td>\n",
       "      <td>Checked Baggage</td>\n",
       "    </tr>\n",
       "    <tr>\n",
       "      <th>200024</th>\n",
       "      <td>2015-12-30</td>\n",
       "      <td>2015-12-28</td>\n",
       "      <td>-</td>\n",
       "      <td>-</td>\n",
       "      <td>Passenger Property Loss</td>\n",
       "      <td>Checked Baggage</td>\n",
       "    </tr>\n",
       "    <tr>\n",
       "      <th>200025</th>\n",
       "      <td>2015-12-31</td>\n",
       "      <td>2015-11-23</td>\n",
       "      <td>-</td>\n",
       "      <td>-</td>\n",
       "      <td>Passenger Property Loss</td>\n",
       "      <td>Checkpoint</td>\n",
       "    </tr>\n",
       "  </tbody>\n",
       "</table>\n",
       "</div>"
      ],
      "text/plain": [
       "       Date Received Incident Date Airport Code Airport Name  \\\n",
       "200021    2015-11-20    2015-10-16            -            -   \n",
       "200022    2015-12-17    2015-12-02            -            -   \n",
       "200023    2015-12-22    2015-12-20            -            -   \n",
       "200024    2015-12-30    2015-12-28            -            -   \n",
       "200025    2015-12-31    2015-11-23            -            -   \n",
       "\n",
       "                     Claim Type       Claim Site  \n",
       "200021          Property Damage  Checked Baggage  \n",
       "200022          Property Damage  Checked Baggage  \n",
       "200023  Passenger Property Loss  Checked Baggage  \n",
       "200024  Passenger Property Loss  Checked Baggage  \n",
       "200025  Passenger Property Loss       Checkpoint  "
      ]
     },
     "metadata": {},
     "output_type": "display_data"
    }
   ],
   "source": [
    "# Menghapus data Incident Date yang lebih baru daripada Date Received\n",
    "index_date = Dataset[Dataset['Incident Date'] > Dataset['Date Received']].index\n",
    "Dataset.drop(index=index_date, inplace=True)\n",
    "Dataset.reset_index(drop=True, inplace=True)\n",
    "display(Dataset.head(), Dataset.tail())\n"
   ]
  },
  {
   "cell_type": "markdown",
   "metadata": {},
   "source": [
    "**Airport Code dan Airport Name**\n",
    "\n",
    "Selanjutnya dilakukan pengecekan pada kolom Airport Code dan Airport Name, dimana kedua kolom ini saling berhubungan. Kedua kolom tersebut berisikan data yang bersifat kategorikal. Untuk menangani missing value dari kedua kolom tersebut, tidak ada cara yang baik dan cukup meyakinkan untuk mengisi value Airport Code dan Airport Name. Selain itu, kedua kolom tersebut juga memiliki proporsi *missing value* yang kecil. Oleh karena itu, missing value dari kedua kolom tersebut akan dihapus.  "
   ]
  },
  {
   "cell_type": "code",
   "execution_count": 25,
   "metadata": {},
   "outputs": [
    {
     "data": {
      "text/plain": [
       "Airport Code    6940\n",
       "Airport Name    6940\n",
       "dtype: int64"
      ]
     },
     "execution_count": 25,
     "metadata": {},
     "output_type": "execute_result"
    }
   ],
   "source": [
    "# Mengcek kumlah missing value pada kolom Airport Code dan Airport Name\n",
    "Dataset[['Airport Code','Airport Name']].isna().sum()"
   ]
  },
  {
   "cell_type": "code",
   "execution_count": 26,
   "metadata": {},
   "outputs": [],
   "source": [
    "# Menghapus missing value pada kolom Airport Code dan Airport Name\n",
    "Dataset.dropna(subset=['Airport Code', 'Airport Name'], inplace = True)"
   ]
  },
  {
   "cell_type": "code",
   "execution_count": 27,
   "metadata": {},
   "outputs": [
    {
     "data": {
      "text/plain": [
       "Airport Code    0\n",
       "Airport Name    0\n",
       "dtype: int64"
      ]
     },
     "execution_count": 27,
     "metadata": {},
     "output_type": "execute_result"
    }
   ],
   "source": [
    "# Mengecek kembali missing value setelah dilakukan penghapusan\n",
    "Dataset[['Airport Code','Airport Name']].isna().sum()"
   ]
  },
  {
   "cell_type": "markdown",
   "metadata": {},
   "source": [
    "Berdasarkan data di atas dapat dilihat bahwa kolom Airport Code dan Airport Name sudah tidak lagi memiliki missing value. Langkah selanjutkan akan dilakukan pengecekan lebih lanjut terkait data pada Airport Code dan Airport Name yang bertujuan untuk memudahkan proses analisis."
   ]
  },
  {
   "cell_type": "code",
   "execution_count": 28,
   "metadata": {},
   "outputs": [
    {
     "name": "stdout",
     "output_type": "stream",
     "text": [
      "Airport Code\n",
      "BOS          [Boston (Logan) International Airport, Boston (Logan) International Airport ]\n",
      "BUR                                                                  [Bob Hope, Bob Hope ]\n",
      "BZN                            [Gallatin Field, Bozeman Yellowstone International Airport]\n",
      "DEN                          [Denver International Airport, Denver International Airport ]\n",
      "DFW    [Dallas-Fort Worth International Airport, Dallas-Fort Worth International Airport ]\n",
      "DUJ                                    [Dubois Jefferson County, Dubois Jefferson County ]\n",
      "EAR                                [Kearney Municipal Airport, Kearney Municipal Airport ]\n",
      "HIB                                [Chisolm-Hibbing Municipal, Chisolm-Hibbing Municipal ]\n",
      "INL                                            [Falls International, Falls International ]\n",
      "JHM                                                    [Kapalua Airport, Kapalua Airport ]\n",
      "LAX                [Los Angeles International Airport, Los Angeles International Airport ]\n",
      "LGA                                                                [LaGuardia, LaGuardia ]\n",
      "MCW                          [Mason City Municipal Airport, Mason City Municipal Airport ]\n",
      "MKK                                                    [Molokai Airport, Molokai Airport ]\n",
      "MMH                                                        [Mammoth Lakes , Mammoth Lakes]\n",
      "OAJ                          [Albert J Ellis; Jacksonville,  Albert J Ellis; Jacksonville]\n",
      "PGV                                    [Pitt-Greenville Airport, Pitt-Greenville Airport ]\n",
      "PNS                                  [Pensacola Regional, Pensacola International Airport]\n",
      "SHD                                                [Shenandoah Valley, Shenandoah Valley ]\n",
      "SWF                                                      [Stewart  Field, Stewart  Field ]\n",
      "Name: Airport Name, dtype: object\n",
      "20\n"
     ]
    }
   ],
   "source": [
    "# Menampilkan Airport Code yang memiliki Airport Name lebih dari satu (Duplikat)\n",
    "Ap_code_name = Dataset.groupby(\"Airport Code\")['Airport Name'].nunique().sort_values(ascending=False)\n",
    "print(Dataset[Dataset['Airport Code'].isin(Ap_code_name[Ap_code_name > 1].index)].groupby(\"Airport Code\")['Airport Name'].unique())\n",
    "print(len(Dataset[Dataset['Airport Code'].isin(Ap_code_name[Ap_code_name > 1].index)].groupby('Airport Code')['Airport Name'].nunique()))"
   ]
  },
  {
   "cell_type": "markdown",
   "metadata": {},
   "source": [
    "Berdasarkan data di atas, dapat dilihat bahwa terdapat 20 value dari Airport Code yang memiliki Airport Name lebih dari satu. Selain itu juga terdapat spasi yang berlebih pada penulisan beberapa Airport Name. Airport Code merupakan kode unik untuk setiap Airport Name. Pada Airport Code PNS terdapat terdapat Airport Name yang berbeda karena penulisan yang berbeda yaitu Pensacola Regional yang seharusnya adalah Pensacola International Airport. Oleh karena itu value Pensacola Regional tersebut harus diganti. Sedangkan pada Airport code BZN terdapat Airport Name Gallatin Field. Value tersebut tidak perlu diganti karena Gallatin Field merupakan nama lain dari bandara Bozeman Yellowstone International Airport yang saat itu belum dilakukan penggantian nama.  "
   ]
  },
  {
   "cell_type": "code",
   "execution_count": 29,
   "metadata": {},
   "outputs": [],
   "source": [
    "# Menghilangkan spasi dari kolom airport code dan airport name\n",
    "Dataset['Airport Code'] = Dataset['Airport Code'].str.strip()\n",
    "Dataset['Airport Name'] = Dataset['Airport Name'].str.strip()"
   ]
  },
  {
   "cell_type": "code",
   "execution_count": 30,
   "metadata": {},
   "outputs": [],
   "source": [
    "# Mengubah value Pensacola Regional\n",
    "Dataset['Airport Name'] = Dataset['Airport Name'].replace(to_replace= 'Pensacola Regional', value= 'Pensacola International Airport')"
   ]
  },
  {
   "cell_type": "markdown",
   "metadata": {},
   "source": [
    "Pada kolom Airport Code dan Airport Name terdapat value berupa (-) sebanyak 441. Value tersebut tidak dapat diganti dengan value yang lain karena dapat menimbulkan bias, oleh karena itu harus dilakukan penghapusan."
   ]
  },
  {
   "cell_type": "code",
   "execution_count": 31,
   "metadata": {},
   "outputs": [
    {
     "data": {
      "text/html": [
       "<div>\n",
       "<style scoped>\n",
       "    .dataframe tbody tr th:only-of-type {\n",
       "        vertical-align: middle;\n",
       "    }\n",
       "\n",
       "    .dataframe tbody tr th {\n",
       "        vertical-align: top;\n",
       "    }\n",
       "\n",
       "    .dataframe thead th {\n",
       "        text-align: right;\n",
       "    }\n",
       "</style>\n",
       "<table border=\"1\" class=\"dataframe\">\n",
       "  <thead>\n",
       "    <tr style=\"text-align: right;\">\n",
       "      <th></th>\n",
       "      <th>Date Received</th>\n",
       "      <th>Incident Date</th>\n",
       "      <th>Airport Code</th>\n",
       "      <th>Airport Name</th>\n",
       "      <th>Claim Type</th>\n",
       "      <th>Claim Site</th>\n",
       "    </tr>\n",
       "  </thead>\n",
       "  <tbody>\n",
       "    <tr>\n",
       "      <th>141265</th>\n",
       "      <td>2010-01-19</td>\n",
       "      <td>2010-01-19 00:00:00</td>\n",
       "      <td>-</td>\n",
       "      <td>-</td>\n",
       "      <td>Personal Injury</td>\n",
       "      <td>Checkpoint</td>\n",
       "    </tr>\n",
       "    <tr>\n",
       "      <th>141504</th>\n",
       "      <td>2010-01-28</td>\n",
       "      <td>2010-01-04 13:00:00</td>\n",
       "      <td>-</td>\n",
       "      <td>-</td>\n",
       "      <td>Property Damage</td>\n",
       "      <td>-</td>\n",
       "    </tr>\n",
       "    <tr>\n",
       "      <th>141661</th>\n",
       "      <td>2010-02-03</td>\n",
       "      <td>2010-01-23 19:00:00</td>\n",
       "      <td>-</td>\n",
       "      <td>-</td>\n",
       "      <td>Passenger Property Loss</td>\n",
       "      <td>Checked Baggage</td>\n",
       "    </tr>\n",
       "    <tr>\n",
       "      <th>141663</th>\n",
       "      <td>2010-02-04</td>\n",
       "      <td>2010-02-04 00:00:00</td>\n",
       "      <td>-</td>\n",
       "      <td>-</td>\n",
       "      <td>-</td>\n",
       "      <td>-</td>\n",
       "    </tr>\n",
       "    <tr>\n",
       "      <th>141664</th>\n",
       "      <td>2010-02-04</td>\n",
       "      <td>2010-01-02 00:00:00</td>\n",
       "      <td>-</td>\n",
       "      <td>-</td>\n",
       "      <td>-</td>\n",
       "      <td>-</td>\n",
       "    </tr>\n",
       "    <tr>\n",
       "      <th>...</th>\n",
       "      <td>...</td>\n",
       "      <td>...</td>\n",
       "      <td>...</td>\n",
       "      <td>...</td>\n",
       "      <td>...</td>\n",
       "      <td>...</td>\n",
       "    </tr>\n",
       "    <tr>\n",
       "      <th>200021</th>\n",
       "      <td>2015-11-20</td>\n",
       "      <td>2015-10-16 00:00:00</td>\n",
       "      <td>-</td>\n",
       "      <td>-</td>\n",
       "      <td>Property Damage</td>\n",
       "      <td>Checked Baggage</td>\n",
       "    </tr>\n",
       "    <tr>\n",
       "      <th>200022</th>\n",
       "      <td>2015-12-17</td>\n",
       "      <td>2015-12-02 00:00:00</td>\n",
       "      <td>-</td>\n",
       "      <td>-</td>\n",
       "      <td>Property Damage</td>\n",
       "      <td>Checked Baggage</td>\n",
       "    </tr>\n",
       "    <tr>\n",
       "      <th>200023</th>\n",
       "      <td>2015-12-22</td>\n",
       "      <td>2015-12-20 00:00:00</td>\n",
       "      <td>-</td>\n",
       "      <td>-</td>\n",
       "      <td>Passenger Property Loss</td>\n",
       "      <td>Checked Baggage</td>\n",
       "    </tr>\n",
       "    <tr>\n",
       "      <th>200024</th>\n",
       "      <td>2015-12-30</td>\n",
       "      <td>2015-12-28 00:00:00</td>\n",
       "      <td>-</td>\n",
       "      <td>-</td>\n",
       "      <td>Passenger Property Loss</td>\n",
       "      <td>Checked Baggage</td>\n",
       "    </tr>\n",
       "    <tr>\n",
       "      <th>200025</th>\n",
       "      <td>2015-12-31</td>\n",
       "      <td>2015-11-23 00:00:00</td>\n",
       "      <td>-</td>\n",
       "      <td>-</td>\n",
       "      <td>Passenger Property Loss</td>\n",
       "      <td>Checkpoint</td>\n",
       "    </tr>\n",
       "  </tbody>\n",
       "</table>\n",
       "<p>421 rows × 6 columns</p>\n",
       "</div>"
      ],
      "text/plain": [
       "       Date Received       Incident Date Airport Code Airport Name  \\\n",
       "141265    2010-01-19 2010-01-19 00:00:00            -            -   \n",
       "141504    2010-01-28 2010-01-04 13:00:00            -            -   \n",
       "141661    2010-02-03 2010-01-23 19:00:00            -            -   \n",
       "141663    2010-02-04 2010-02-04 00:00:00            -            -   \n",
       "141664    2010-02-04 2010-01-02 00:00:00            -            -   \n",
       "...              ...                 ...          ...          ...   \n",
       "200021    2015-11-20 2015-10-16 00:00:00            -            -   \n",
       "200022    2015-12-17 2015-12-02 00:00:00            -            -   \n",
       "200023    2015-12-22 2015-12-20 00:00:00            -            -   \n",
       "200024    2015-12-30 2015-12-28 00:00:00            -            -   \n",
       "200025    2015-12-31 2015-11-23 00:00:00            -            -   \n",
       "\n",
       "                     Claim Type       Claim Site  \n",
       "141265          Personal Injury       Checkpoint  \n",
       "141504          Property Damage                -  \n",
       "141661  Passenger Property Loss  Checked Baggage  \n",
       "141663                        -                -  \n",
       "141664                        -                -  \n",
       "...                         ...              ...  \n",
       "200021          Property Damage  Checked Baggage  \n",
       "200022          Property Damage  Checked Baggage  \n",
       "200023  Passenger Property Loss  Checked Baggage  \n",
       "200024  Passenger Property Loss  Checked Baggage  \n",
       "200025  Passenger Property Loss       Checkpoint  \n",
       "\n",
       "[421 rows x 6 columns]"
      ]
     },
     "execution_count": 31,
     "metadata": {},
     "output_type": "execute_result"
    }
   ],
   "source": [
    "# Menampilkan data yang memiliki value (-) pada Airport Code\n",
    "Dataset.loc[Dataset[\"Airport Code\"] == \"-\"]"
   ]
  },
  {
   "cell_type": "code",
   "execution_count": 32,
   "metadata": {},
   "outputs": [],
   "source": [
    "# Menghilangkan data yang memiliki value (-) pada Airport Name\n",
    "Dataset_new = Dataset.loc[Dataset[\"Airport Name\"] != \"-\"]\n",
    "Dataset = Dataset_new"
   ]
  },
  {
   "cell_type": "markdown",
   "metadata": {},
   "source": [
    "Kita sudah berhasil menghapus (-) karena tidak dibutuhkan"
   ]
  },
  {
   "cell_type": "markdown",
   "metadata": {},
   "source": [
    "Selain (-), pada kolom Airport Name juga terdapat value berupa *Unspecified Personal  Injury* dan *Non TSA Airport (motor vehicle)*. Padahal seharusnya kolom Airport Name hanya berisikan nama nama bandara. Baik value *Unspecified Personal  Injury* dan *Non TSA Airport (motor vehicle)*, keduanya tidak bisa diganti dengan value nama bandara tertentu karena akan menimbulkan bias saat melakukan analisis nantinya. Oleh karena itu data data yang memiliki value tersebut akan dihapus."
   ]
  },
  {
   "cell_type": "code",
   "execution_count": 33,
   "metadata": {},
   "outputs": [
    {
     "data": {
      "text/html": [
       "<div>\n",
       "<style scoped>\n",
       "    .dataframe tbody tr th:only-of-type {\n",
       "        vertical-align: middle;\n",
       "    }\n",
       "\n",
       "    .dataframe tbody tr th {\n",
       "        vertical-align: top;\n",
       "    }\n",
       "\n",
       "    .dataframe thead th {\n",
       "        text-align: right;\n",
       "    }\n",
       "</style>\n",
       "<table border=\"1\" class=\"dataframe\">\n",
       "  <thead>\n",
       "    <tr style=\"text-align: right;\">\n",
       "      <th></th>\n",
       "      <th>Date Received</th>\n",
       "      <th>Incident Date</th>\n",
       "      <th>Airport Code</th>\n",
       "      <th>Airport Name</th>\n",
       "      <th>Claim Type</th>\n",
       "      <th>Claim Site</th>\n",
       "    </tr>\n",
       "  </thead>\n",
       "  <tbody>\n",
       "    <tr>\n",
       "      <th>164793</th>\n",
       "      <td>2012-03-05</td>\n",
       "      <td>2010-03-09 00:00:00</td>\n",
       "      <td>ZZZ</td>\n",
       "      <td>Unspecified Personal Injury</td>\n",
       "      <td>Personal Injury</td>\n",
       "      <td>Other</td>\n",
       "    </tr>\n",
       "    <tr>\n",
       "      <th>168476</th>\n",
       "      <td>2012-07-17</td>\n",
       "      <td>2012-05-14 00:00:00</td>\n",
       "      <td>ZZZ</td>\n",
       "      <td>Unspecified Personal Injury</td>\n",
       "      <td>Personal Injury</td>\n",
       "      <td>Motor Vehicle</td>\n",
       "    </tr>\n",
       "    <tr>\n",
       "      <th>171621</th>\n",
       "      <td>2012-11-09</td>\n",
       "      <td>2012-10-15 00:00:00</td>\n",
       "      <td>ZZZ</td>\n",
       "      <td>Unspecified Personal Injury</td>\n",
       "      <td>Personal Injury</td>\n",
       "      <td>Other</td>\n",
       "    </tr>\n",
       "    <tr>\n",
       "      <th>176104</th>\n",
       "      <td>2013-05-01</td>\n",
       "      <td>2013-03-01 21:40:00</td>\n",
       "      <td>ZZZ</td>\n",
       "      <td>Unspecified Personal Injury</td>\n",
       "      <td>Personal Injury</td>\n",
       "      <td>Checkpoint</td>\n",
       "    </tr>\n",
       "    <tr>\n",
       "      <th>177227</th>\n",
       "      <td>2013-06-12</td>\n",
       "      <td>2012-06-09 02:00:00</td>\n",
       "      <td>ZZZ</td>\n",
       "      <td>Unspecified Personal Injury</td>\n",
       "      <td>Personal Injury</td>\n",
       "      <td>Other</td>\n",
       "    </tr>\n",
       "    <tr>\n",
       "      <th>178860</th>\n",
       "      <td>2013-08-07</td>\n",
       "      <td>2013-08-02 00:00:00</td>\n",
       "      <td>ZZZ</td>\n",
       "      <td>Unspecified Personal Injury</td>\n",
       "      <td>Personal Injury</td>\n",
       "      <td>Motor Vehicle</td>\n",
       "    </tr>\n",
       "    <tr>\n",
       "      <th>180863</th>\n",
       "      <td>2013-10-22</td>\n",
       "      <td>2013-03-08 00:00:00</td>\n",
       "      <td>ZZZ</td>\n",
       "      <td>Unspecified Personal Injury</td>\n",
       "      <td>Personal Injury</td>\n",
       "      <td>Motor Vehicle</td>\n",
       "    </tr>\n",
       "    <tr>\n",
       "      <th>180928</th>\n",
       "      <td>2013-10-25</td>\n",
       "      <td>2013-09-26 00:00:00</td>\n",
       "      <td>ZZZ</td>\n",
       "      <td>Unspecified Personal Injury</td>\n",
       "      <td>Personal Injury</td>\n",
       "      <td>Motor Vehicle</td>\n",
       "    </tr>\n",
       "    <tr>\n",
       "      <th>181619</th>\n",
       "      <td>2013-11-21</td>\n",
       "      <td>2013-11-09 09:00:00</td>\n",
       "      <td>ZZZ</td>\n",
       "      <td>Unspecified Personal Injury</td>\n",
       "      <td>Complaint</td>\n",
       "      <td>Other</td>\n",
       "    </tr>\n",
       "    <tr>\n",
       "      <th>182595</th>\n",
       "      <td>2014-02-03</td>\n",
       "      <td>2012-02-04 00:00:00</td>\n",
       "      <td>ZZZ</td>\n",
       "      <td>Unspecified Personal Injury</td>\n",
       "      <td>Personal Injury</td>\n",
       "      <td>Other</td>\n",
       "    </tr>\n",
       "    <tr>\n",
       "      <th>183622</th>\n",
       "      <td>2014-02-10</td>\n",
       "      <td>2013-03-20 00:00:00</td>\n",
       "      <td>ZZZ</td>\n",
       "      <td>Unspecified Personal Injury</td>\n",
       "      <td>Personal Injury</td>\n",
       "      <td>Motor Vehicle</td>\n",
       "    </tr>\n",
       "    <tr>\n",
       "      <th>185419</th>\n",
       "      <td>2014-05-12</td>\n",
       "      <td>2013-01-21 00:00:00</td>\n",
       "      <td>ZZZ</td>\n",
       "      <td>Unspecified Personal Injury</td>\n",
       "      <td>Personal Injury</td>\n",
       "      <td>Other</td>\n",
       "    </tr>\n",
       "    <tr>\n",
       "      <th>199967</th>\n",
       "      <td>2015-07-16</td>\n",
       "      <td>2013-07-18 00:00:00</td>\n",
       "      <td>ZZZ</td>\n",
       "      <td>Unspecified Personal Injury</td>\n",
       "      <td>Personal Injury</td>\n",
       "      <td>Other</td>\n",
       "    </tr>\n",
       "    <tr>\n",
       "      <th>199968</th>\n",
       "      <td>2015-10-16</td>\n",
       "      <td>2014-11-12 00:00:00</td>\n",
       "      <td>ZZZ</td>\n",
       "      <td>Unspecified Personal Injury</td>\n",
       "      <td>Personal Injury</td>\n",
       "      <td>Motor Vehicle</td>\n",
       "    </tr>\n",
       "  </tbody>\n",
       "</table>\n",
       "</div>"
      ],
      "text/plain": [
       "       Date Received       Incident Date Airport Code  \\\n",
       "164793    2012-03-05 2010-03-09 00:00:00          ZZZ   \n",
       "168476    2012-07-17 2012-05-14 00:00:00          ZZZ   \n",
       "171621    2012-11-09 2012-10-15 00:00:00          ZZZ   \n",
       "176104    2013-05-01 2013-03-01 21:40:00          ZZZ   \n",
       "177227    2013-06-12 2012-06-09 02:00:00          ZZZ   \n",
       "178860    2013-08-07 2013-08-02 00:00:00          ZZZ   \n",
       "180863    2013-10-22 2013-03-08 00:00:00          ZZZ   \n",
       "180928    2013-10-25 2013-09-26 00:00:00          ZZZ   \n",
       "181619    2013-11-21 2013-11-09 09:00:00          ZZZ   \n",
       "182595    2014-02-03 2012-02-04 00:00:00          ZZZ   \n",
       "183622    2014-02-10 2013-03-20 00:00:00          ZZZ   \n",
       "185419    2014-05-12 2013-01-21 00:00:00          ZZZ   \n",
       "199967    2015-07-16 2013-07-18 00:00:00          ZZZ   \n",
       "199968    2015-10-16 2014-11-12 00:00:00          ZZZ   \n",
       "\n",
       "                       Airport Name       Claim Type     Claim Site  \n",
       "164793  Unspecified Personal Injury  Personal Injury          Other  \n",
       "168476  Unspecified Personal Injury  Personal Injury  Motor Vehicle  \n",
       "171621  Unspecified Personal Injury  Personal Injury          Other  \n",
       "176104  Unspecified Personal Injury  Personal Injury     Checkpoint  \n",
       "177227  Unspecified Personal Injury  Personal Injury          Other  \n",
       "178860  Unspecified Personal Injury  Personal Injury  Motor Vehicle  \n",
       "180863  Unspecified Personal Injury  Personal Injury  Motor Vehicle  \n",
       "180928  Unspecified Personal Injury  Personal Injury  Motor Vehicle  \n",
       "181619  Unspecified Personal Injury        Complaint          Other  \n",
       "182595  Unspecified Personal Injury  Personal Injury          Other  \n",
       "183622  Unspecified Personal Injury  Personal Injury  Motor Vehicle  \n",
       "185419  Unspecified Personal Injury  Personal Injury          Other  \n",
       "199967  Unspecified Personal Injury  Personal Injury          Other  \n",
       "199968  Unspecified Personal Injury  Personal Injury  Motor Vehicle  "
      ]
     },
     "execution_count": 33,
     "metadata": {},
     "output_type": "execute_result"
    }
   ],
   "source": [
    "# Menampilkan data yang memiliki value Unspecified Personal Injury pada Airport Name\n",
    "Dataset.loc[Dataset[\"Airport Name\"] == \"Unspecified Personal Injury\"]"
   ]
  },
  {
   "cell_type": "code",
   "execution_count": 34,
   "metadata": {},
   "outputs": [],
   "source": [
    "# Menghilangkan data yang memiliki nilai Unspecified Personal Injury pada Airport Name\n",
    "Dataset_new = Dataset.loc[Dataset[\"Airport Name\"] != \"Unspecified Personal Injury\"]\n",
    "Dataset = Dataset_new"
   ]
  },
  {
   "cell_type": "code",
   "execution_count": 35,
   "metadata": {},
   "outputs": [
    {
     "data": {
      "text/html": [
       "<div>\n",
       "<style scoped>\n",
       "    .dataframe tbody tr th:only-of-type {\n",
       "        vertical-align: middle;\n",
       "    }\n",
       "\n",
       "    .dataframe tbody tr th {\n",
       "        vertical-align: top;\n",
       "    }\n",
       "\n",
       "    .dataframe thead th {\n",
       "        text-align: right;\n",
       "    }\n",
       "</style>\n",
       "<table border=\"1\" class=\"dataframe\">\n",
       "  <thead>\n",
       "    <tr style=\"text-align: right;\">\n",
       "      <th></th>\n",
       "      <th>Date Received</th>\n",
       "      <th>Incident Date</th>\n",
       "      <th>Airport Code</th>\n",
       "      <th>Airport Name</th>\n",
       "      <th>Claim Type</th>\n",
       "      <th>Claim Site</th>\n",
       "    </tr>\n",
       "  </thead>\n",
       "  <tbody>\n",
       "    <tr>\n",
       "      <th>36940</th>\n",
       "      <td>2004-06-29</td>\n",
       "      <td>2004-05-26</td>\n",
       "      <td>ZZX</td>\n",
       "      <td>Non TSA Airport (motor vehicle)</td>\n",
       "      <td>Property Damage</td>\n",
       "      <td>Checked Baggage</td>\n",
       "    </tr>\n",
       "    <tr>\n",
       "      <th>66233</th>\n",
       "      <td>2005-07-28</td>\n",
       "      <td>2005-07-11</td>\n",
       "      <td>ZZX</td>\n",
       "      <td>Non TSA Airport (motor vehicle)</td>\n",
       "      <td>Property Damage</td>\n",
       "      <td>Checked Baggage</td>\n",
       "    </tr>\n",
       "    <tr>\n",
       "      <th>81238</th>\n",
       "      <td>2006-04-24</td>\n",
       "      <td>2006-02-24</td>\n",
       "      <td>ZZX</td>\n",
       "      <td>Non TSA Airport (motor vehicle)</td>\n",
       "      <td>Property Damage</td>\n",
       "      <td>Other</td>\n",
       "    </tr>\n",
       "    <tr>\n",
       "      <th>103497</th>\n",
       "      <td>2007-07-09</td>\n",
       "      <td>2007-05-30</td>\n",
       "      <td>ZZX</td>\n",
       "      <td>Non TSA Airport (motor vehicle)</td>\n",
       "      <td>Motor Vehicle</td>\n",
       "      <td>Motor Vehicle</td>\n",
       "    </tr>\n",
       "    <tr>\n",
       "      <th>104731</th>\n",
       "      <td>2007-08-01</td>\n",
       "      <td>2007-06-07</td>\n",
       "      <td>ZZX</td>\n",
       "      <td>Non TSA Airport (motor vehicle)</td>\n",
       "      <td>Motor Vehicle</td>\n",
       "      <td>Motor Vehicle</td>\n",
       "    </tr>\n",
       "    <tr>\n",
       "      <th>...</th>\n",
       "      <td>...</td>\n",
       "      <td>...</td>\n",
       "      <td>...</td>\n",
       "      <td>...</td>\n",
       "      <td>...</td>\n",
       "      <td>...</td>\n",
       "    </tr>\n",
       "    <tr>\n",
       "      <th>199962</th>\n",
       "      <td>2015-09-29</td>\n",
       "      <td>2015-09-22</td>\n",
       "      <td>ZZX</td>\n",
       "      <td>Non TSA Airport (motor vehicle)</td>\n",
       "      <td>Motor Vehicle</td>\n",
       "      <td>Motor Vehicle</td>\n",
       "    </tr>\n",
       "    <tr>\n",
       "      <th>199963</th>\n",
       "      <td>2015-10-13</td>\n",
       "      <td>2015-07-16</td>\n",
       "      <td>ZZX</td>\n",
       "      <td>Non TSA Airport (motor vehicle)</td>\n",
       "      <td>Motor Vehicle</td>\n",
       "      <td>Motor Vehicle</td>\n",
       "    </tr>\n",
       "    <tr>\n",
       "      <th>199964</th>\n",
       "      <td>2015-10-20</td>\n",
       "      <td>2015-09-29</td>\n",
       "      <td>ZZX</td>\n",
       "      <td>Non TSA Airport (motor vehicle)</td>\n",
       "      <td>Motor Vehicle</td>\n",
       "      <td>Motor Vehicle</td>\n",
       "    </tr>\n",
       "    <tr>\n",
       "      <th>199965</th>\n",
       "      <td>2015-12-08</td>\n",
       "      <td>2014-12-03</td>\n",
       "      <td>ZZX</td>\n",
       "      <td>Non TSA Airport (motor vehicle)</td>\n",
       "      <td>Motor Vehicle</td>\n",
       "      <td>Motor Vehicle</td>\n",
       "    </tr>\n",
       "    <tr>\n",
       "      <th>199966</th>\n",
       "      <td>2015-12-15</td>\n",
       "      <td>2015-05-08</td>\n",
       "      <td>ZZX</td>\n",
       "      <td>Non TSA Airport (motor vehicle)</td>\n",
       "      <td>Motor Vehicle</td>\n",
       "      <td>Motor Vehicle</td>\n",
       "    </tr>\n",
       "  </tbody>\n",
       "</table>\n",
       "<p>249 rows × 6 columns</p>\n",
       "</div>"
      ],
      "text/plain": [
       "       Date Received Incident Date Airport Code  \\\n",
       "36940     2004-06-29    2004-05-26          ZZX   \n",
       "66233     2005-07-28    2005-07-11          ZZX   \n",
       "81238     2006-04-24    2006-02-24          ZZX   \n",
       "103497    2007-07-09    2007-05-30          ZZX   \n",
       "104731    2007-08-01    2007-06-07          ZZX   \n",
       "...              ...           ...          ...   \n",
       "199962    2015-09-29    2015-09-22          ZZX   \n",
       "199963    2015-10-13    2015-07-16          ZZX   \n",
       "199964    2015-10-20    2015-09-29          ZZX   \n",
       "199965    2015-12-08    2014-12-03          ZZX   \n",
       "199966    2015-12-15    2015-05-08          ZZX   \n",
       "\n",
       "                           Airport Name       Claim Type       Claim Site  \n",
       "36940   Non TSA Airport (motor vehicle)  Property Damage  Checked Baggage  \n",
       "66233   Non TSA Airport (motor vehicle)  Property Damage  Checked Baggage  \n",
       "81238   Non TSA Airport (motor vehicle)  Property Damage            Other  \n",
       "103497  Non TSA Airport (motor vehicle)    Motor Vehicle    Motor Vehicle  \n",
       "104731  Non TSA Airport (motor vehicle)    Motor Vehicle    Motor Vehicle  \n",
       "...                                 ...              ...              ...  \n",
       "199962  Non TSA Airport (motor vehicle)    Motor Vehicle    Motor Vehicle  \n",
       "199963  Non TSA Airport (motor vehicle)    Motor Vehicle    Motor Vehicle  \n",
       "199964  Non TSA Airport (motor vehicle)    Motor Vehicle    Motor Vehicle  \n",
       "199965  Non TSA Airport (motor vehicle)    Motor Vehicle    Motor Vehicle  \n",
       "199966  Non TSA Airport (motor vehicle)    Motor Vehicle    Motor Vehicle  \n",
       "\n",
       "[249 rows x 6 columns]"
      ]
     },
     "execution_count": 35,
     "metadata": {},
     "output_type": "execute_result"
    }
   ],
   "source": [
    "# Menampilkan data yang memiliki value Non TSA Airport (motor vehicle) pada Airport Name\n",
    "Dataset.loc[Dataset[\"Airport Name\"] == \"Non TSA Airport (motor vehicle)\"]"
   ]
  },
  {
   "cell_type": "code",
   "execution_count": 36,
   "metadata": {},
   "outputs": [],
   "source": [
    "# Menghilangkan data yang memiliki nilai Non TSA Airport (motor vehicle) pada Airport Name\n",
    "Dataset_new = Dataset.loc[Dataset[\"Airport Name\"] != \"Non TSA Airport (motor vehicle)\"]\n",
    "df = Dataset_new"
   ]
  },
  {
   "cell_type": "markdown",
   "metadata": {},
   "source": [
    "**Claim Type dan Claim Site**\n",
    "\n",
    "Claim Type dan Claim Site merupakan data kategorikal. Dalam kolom *Claim Type* dan kolom *Claim Site*, keduanya memiliki nilai *Other*. Oleh karena itu, untuk menangani missing value pada data tersebut dapat dilakukan dengan mengisi *missing value* tersebut menjadi *Other*. "
   ]
  },
  {
   "cell_type": "code",
   "execution_count": 37,
   "metadata": {},
   "outputs": [
    {
     "data": {
      "text/plain": [
       "Claim Type    5382\n",
       "Claim Site     341\n",
       "dtype: int64"
      ]
     },
     "execution_count": 37,
     "metadata": {},
     "output_type": "execute_result"
    }
   ],
   "source": [
    "# Jumlah missing value pada Claim Type dan Claim Site\n",
    "Dataset[['Claim Type', 'Claim Site']].isna().sum()"
   ]
  },
  {
   "cell_type": "code",
   "execution_count": 38,
   "metadata": {},
   "outputs": [],
   "source": [
    "# Mengubah missing value pada kolom Claim Type dan Claim Site dengan Other\n",
    "Dataset[['Claim Type', 'Claim Site']] = Dataset[['Claim Type', 'Claim Site']].fillna('Other')"
   ]
  },
  {
   "cell_type": "code",
   "execution_count": 39,
   "metadata": {},
   "outputs": [
    {
     "data": {
      "text/plain": [
       "Claim Type    0\n",
       "Claim Site    0\n",
       "dtype: int64"
      ]
     },
     "execution_count": 39,
     "metadata": {},
     "output_type": "execute_result"
    }
   ],
   "source": [
    "# Mengecek jumlah missing value setelah dilakukan pengubahan missing value menjadi Other\n",
    "Dataset[['Claim Type', 'Claim Site']].isna().sum()"
   ]
  },
  {
   "cell_type": "markdown",
   "metadata": {},
   "source": [
    "Berdasarkan informasi di atas, kolom *Claim Type* dan *Claim Site* sudah tidak lagi memiliki missing value. Setelah dilakukan pengecekan lebih lanjut, pada kolom Claim Type dan Claim Site terdapat beberapa value (-). Value tersebut akan diubah juga menjadi kategori *Other*."
   ]
  },
  {
   "cell_type": "markdown",
   "metadata": {},
   "source": [
    "**Claim Type**"
   ]
  },
  {
   "cell_type": "code",
   "execution_count": 40,
   "metadata": {},
   "outputs": [
    {
     "data": {
      "text/plain": [
       "Passenger Property Loss    113578\n",
       "Property Damage             70783\n",
       "Other                        5382\n",
       "Personal Injury              1408\n",
       "Employee Loss (MPCECA)        468\n",
       "Passenger Theft               446\n",
       "Motor Vehicle                 336\n",
       "-                             199\n",
       "Complaint                      44\n",
       "Wrongful Death                  4\n",
       "Compliment                      2\n",
       "Bus Terminal                    1\n",
       "Name: Claim Type, dtype: int64"
      ]
     },
     "execution_count": 40,
     "metadata": {},
     "output_type": "execute_result"
    }
   ],
   "source": [
    "# Jumlah setiap value pada kolom Claim Type\n",
    "Dataset['Claim Type'].value_counts()"
   ]
  },
  {
   "cell_type": "code",
   "execution_count": 41,
   "metadata": {},
   "outputs": [],
   "source": [
    "# Mengubah value - pada kolom Claim Type menjadi Other\n",
    "Dataset.loc[Dataset['Claim Type'] == '-', 'Claim Type'] = 'Other'"
   ]
  },
  {
   "cell_type": "code",
   "execution_count": 42,
   "metadata": {},
   "outputs": [
    {
     "data": {
      "text/plain": [
       "Passenger Property Loss    113578\n",
       "Property Damage             70783\n",
       "Other                        5581\n",
       "Personal Injury              1408\n",
       "Employee Loss (MPCECA)        468\n",
       "Passenger Theft               446\n",
       "Motor Vehicle                 336\n",
       "Complaint                      44\n",
       "Wrongful Death                  4\n",
       "Compliment                      2\n",
       "Bus Terminal                    1\n",
       "Name: Claim Type, dtype: int64"
      ]
     },
     "execution_count": 42,
     "metadata": {},
     "output_type": "execute_result"
    }
   ],
   "source": [
    "# Jumlah setiap value pada kolom Claim Type setelah dilakukan pengubahan\n",
    "Dataset['Claim Type'].value_counts()"
   ]
  },
  {
   "cell_type": "markdown",
   "metadata": {},
   "source": [
    "**Claim Site**"
   ]
  },
  {
   "cell_type": "code",
   "execution_count": 43,
   "metadata": {},
   "outputs": [
    {
     "data": {
      "text/plain": [
       "Checked Baggage    152241\n",
       "Checkpoint          38136\n",
       "Other                1664\n",
       "Motor Vehicle         424\n",
       "-                     171\n",
       "Bus Station            15\n",
       "Name: Claim Site, dtype: int64"
      ]
     },
     "execution_count": 43,
     "metadata": {},
     "output_type": "execute_result"
    }
   ],
   "source": [
    "# Jumlah setiap value pada kolom Claim Type\n",
    "Dataset['Claim Site'].value_counts()"
   ]
  },
  {
   "cell_type": "code",
   "execution_count": 44,
   "metadata": {},
   "outputs": [],
   "source": [
    "# Mengubah value - pada kolom Claim Site menjadi Other\n",
    "Dataset.loc[Dataset['Claim Site'] == '-', 'Claim Site'] = 'Other'"
   ]
  },
  {
   "cell_type": "code",
   "execution_count": 45,
   "metadata": {},
   "outputs": [
    {
     "data": {
      "text/plain": [
       "Checked Baggage    152241\n",
       "Checkpoint          38136\n",
       "Other                1835\n",
       "Motor Vehicle         424\n",
       "Bus Station            15\n",
       "Name: Claim Site, dtype: int64"
      ]
     },
     "execution_count": 45,
     "metadata": {},
     "output_type": "execute_result"
    }
   ],
   "source": [
    "# Mengecek jumlah setiap value pada kolom Claim Site setelah dilakukan pengubahan\n",
    "Dataset['Claim Site'].value_counts()"
   ]
  },
  {
   "cell_type": "markdown",
   "metadata": {},
   "source": [
    "Dari data diatas kita sudah berhasil menghapus nilai - nilai yang tidak dibutuhkan, mengubah kolom kosong menjadi kolom other dan menghilangkan missing value pada kolom Claim Site yang bertujuan untuk memudahkan proses analisis"
   ]
  },
  {
   "cell_type": "code",
   "execution_count": 46,
   "metadata": {},
   "outputs": [
    {
     "data": {
      "text/plain": [
       "Date Received    0\n",
       "Incident Date    0\n",
       "Airport Code     0\n",
       "Airport Name     0\n",
       "Claim Type       0\n",
       "Claim Site       0\n",
       "dtype: int64"
      ]
     },
     "execution_count": 46,
     "metadata": {},
     "output_type": "execute_result"
    }
   ],
   "source": [
    "# Mengecek semua kolom yang akan dipakai dalam analisis sudah tidak memiliki missing value\n",
    "Dataset.isna().sum()"
   ]
  },
  {
   "cell_type": "markdown",
   "metadata": {},
   "source": [
    "Kita sudah berhasil menghapus missing value dari kolom - kolom diatas yang berarti kita sudah mendapatkan data yang bersih dan memudahkan kita untuk melakukan proses analisis"
   ]
  },
  {
   "cell_type": "code",
   "execution_count": 47,
   "metadata": {},
   "outputs": [
    {
     "name": "stdout",
     "output_type": "stream",
     "text": [
      "(192402, 6)\n"
     ]
    },
    {
     "data": {
      "text/html": [
       "<div>\n",
       "<style scoped>\n",
       "    .dataframe tbody tr th:only-of-type {\n",
       "        vertical-align: middle;\n",
       "    }\n",
       "\n",
       "    .dataframe tbody tr th {\n",
       "        vertical-align: top;\n",
       "    }\n",
       "\n",
       "    .dataframe thead th {\n",
       "        text-align: right;\n",
       "    }\n",
       "</style>\n",
       "<table border=\"1\" class=\"dataframe\">\n",
       "  <thead>\n",
       "    <tr style=\"text-align: right;\">\n",
       "      <th></th>\n",
       "      <th>dataFeatures</th>\n",
       "      <th>dataType</th>\n",
       "      <th>null</th>\n",
       "      <th>unique</th>\n",
       "      <th>uniqueSample</th>\n",
       "    </tr>\n",
       "  </thead>\n",
       "  <tbody>\n",
       "    <tr>\n",
       "      <th>0</th>\n",
       "      <td>Date Received</td>\n",
       "      <td>datetime64[ns]</td>\n",
       "      <td>0</td>\n",
       "      <td>3892</td>\n",
       "      <td>[2015-08-26T00:00:00.000000000, 2007-03-08T00:00:00.000000000]</td>\n",
       "    </tr>\n",
       "    <tr>\n",
       "      <th>1</th>\n",
       "      <td>Incident Date</td>\n",
       "      <td>datetime64[ns]</td>\n",
       "      <td>0</td>\n",
       "      <td>26029</td>\n",
       "      <td>[2012-07-28T21:55:00.000000000, 2009-09-23T11:20:00.000000000]</td>\n",
       "    </tr>\n",
       "    <tr>\n",
       "      <th>2</th>\n",
       "      <td>Airport Code</td>\n",
       "      <td>object</td>\n",
       "      <td>0</td>\n",
       "      <td>462</td>\n",
       "      <td>[FLO, PIH]</td>\n",
       "    </tr>\n",
       "    <tr>\n",
       "      <th>3</th>\n",
       "      <td>Airport Name</td>\n",
       "      <td>object</td>\n",
       "      <td>0</td>\n",
       "      <td>463</td>\n",
       "      <td>[Trenton-Mercer, Saipan International]</td>\n",
       "    </tr>\n",
       "    <tr>\n",
       "      <th>4</th>\n",
       "      <td>Claim Type</td>\n",
       "      <td>object</td>\n",
       "      <td>0</td>\n",
       "      <td>11</td>\n",
       "      <td>[Complaint, Passenger Theft]</td>\n",
       "    </tr>\n",
       "    <tr>\n",
       "      <th>5</th>\n",
       "      <td>Claim Site</td>\n",
       "      <td>object</td>\n",
       "      <td>0</td>\n",
       "      <td>6</td>\n",
       "      <td>[-, Bus Station]</td>\n",
       "    </tr>\n",
       "  </tbody>\n",
       "</table>\n",
       "</div>"
      ],
      "text/plain": [
       "    dataFeatures        dataType  null  unique  \\\n",
       "0  Date Received  datetime64[ns]     0    3892   \n",
       "1  Incident Date  datetime64[ns]     0   26029   \n",
       "2   Airport Code          object     0     462   \n",
       "3   Airport Name          object     0     463   \n",
       "4     Claim Type          object     0      11   \n",
       "5     Claim Site          object     0       6   \n",
       "\n",
       "                                                     uniqueSample  \n",
       "0  [2015-08-26T00:00:00.000000000, 2007-03-08T00:00:00.000000000]  \n",
       "1  [2012-07-28T21:55:00.000000000, 2009-09-23T11:20:00.000000000]  \n",
       "2                                                      [FLO, PIH]  \n",
       "3                          [Trenton-Mercer, Saipan International]  \n",
       "4                                    [Complaint, Passenger Theft]  \n",
       "5                                                [-, Bus Station]  "
      ]
     },
     "execution_count": 47,
     "metadata": {},
     "output_type": "execute_result"
    }
   ],
   "source": [
    "# Membuat deskripsi DataFrame dari kolom-kolom dalam DataFrame `Dataset`\n",
    "'''\n",
    "Langkah-langkah:\n",
    "1. Membuat list kosong `listItem`.\n",
    "2. Melakukan iterasi untuk setiap kolom dalam `Dataset`.\n",
    "   - Menambahkan informasi berikut ke dalam `listItem` untuk setiap kolom:\n",
    "     - Nama kolom.\n",
    "     - Tipe data kolom.\n",
    "     - Jumlah nilai null dalam kolom.\n",
    "     - Jumlah nilai unik dalam kolom.\n",
    "     - Dua sampel unik dari kolom yang diambil secara acak.\n",
    "3. Membuat DataFrame `Dataset_Desc` dengan kolom: 'dataFeatures', 'dataType', 'null', 'unique', 'uniqueSample'.\n",
    "   - Mengisi DataFrame dengan data dari `listItem`.\n",
    "4. Mencetak ukuran dari DataFrame `Dataset`.\n",
    "5. Menampilkan DataFrame `Dataset`.'''\n",
    "listItem = []\n",
    "for col in Dataset.columns :\n",
    "    listItem.append([col, Dataset[col].dtype, Dataset[col].isna().sum(),\n",
    "                    df[col].nunique(), list(df[col].drop_duplicates().sample(2).values)]);\n",
    "\n",
    "Dataset_Desc = pd.DataFrame(columns=['dataFeatures', 'dataType', 'null', 'unique', 'uniqueSample'],\n",
    "                    data=listItem)\n",
    "print(df.shape)\n",
    "Dataset_Desc"
   ]
  },
  {
   "cell_type": "markdown",
   "metadata": {},
   "source": [
    "**Kesimpulan**\n",
    "\n",
    "Sebelum proses data cleaning, dataset tsa_claims secara keseluruhan memiliki 13 kolom dan 204267 baris. Setelah melalui proses data cleaning, sekarang dataset memiliki 6 kolom dan 192402 baris. Sekitar 11 ribu lebih data telah dihapus, baik data kosong, missing value ataupun data yang tidak relevan pada kolom serta tidak dapat diganti dengan value lain. Proses ini penting untuk memastikan kualitas dan integritas data sehingga analisis selanjutnya dapat dilakukan dengan lebih akurat dan efektif."
   ]
  },
  {
   "cell_type": "markdown",
   "metadata": {},
   "source": [
    "# **4. Data Analysis**"
   ]
  },
  {
   "cell_type": "code",
   "execution_count": 48,
   "metadata": {},
   "outputs": [],
   "source": [
    "# Import modul untuk melakukan uji kolerasi dan mencari p-value\n",
    "from scipy import stats\n",
    "import numpy as np"
   ]
  },
  {
   "cell_type": "code",
   "execution_count": 49,
   "metadata": {},
   "outputs": [
    {
     "name": "stdout",
     "output_type": "stream",
     "text": [
      "Jumlah Airport : 463, \n",
      "Jumlah Klaim : 192651\n"
     ]
    }
   ],
   "source": [
    "# Melihat jumlah airport dan jumlah klaim yang diajukan\n",
    "jumlah_airport = Dataset['Airport Code'].value_counts()\n",
    "print(f'''Jumlah Airport : {jumlah_airport.count()}, \n",
    "Jumlah Klaim : {jumlah_airport.sum()}''')"
   ]
  },
  {
   "cell_type": "markdown",
   "metadata": {},
   "source": [
    "Terdapat 463 airport dengan jumlah klaim yang diajukan sebanyak 192651. Analisis data akan dilakukan dengan melihat karakteristik :\n",
    "\n",
    "* Perkembangan jumlah klaim yang diajukan setiap tahun (2002 - 2015) \n",
    "* Bandara yang memiliki jumlah klaim paling banyak\n",
    "* Jumlah klaim yang diajukan pada setiap bandara\n",
    "* Jenis klaim apa saja yang paling banyak dilaporkan\n",
    "* Titik lokasi yang paling banyak menerima laporan klaim\n"
   ]
  },
  {
   "cell_type": "markdown",
   "metadata": {},
   "source": [
    "**1. Perkembangan jumlah klaim yang diajukan penumpang dari tahun 2002 - 2015**"
   ]
  },
  {
   "cell_type": "code",
   "execution_count": 50,
   "metadata": {},
   "outputs": [
    {
     "data": {
      "text/html": [
       "<div>\n",
       "<style scoped>\n",
       "    .dataframe tbody tr th:only-of-type {\n",
       "        vertical-align: middle;\n",
       "    }\n",
       "\n",
       "    .dataframe tbody tr th {\n",
       "        vertical-align: top;\n",
       "    }\n",
       "\n",
       "    .dataframe thead th {\n",
       "        text-align: right;\n",
       "    }\n",
       "</style>\n",
       "<table border=\"1\" class=\"dataframe\">\n",
       "  <thead>\n",
       "    <tr style=\"text-align: right;\">\n",
       "      <th></th>\n",
       "      <th>Date Received</th>\n",
       "      <th>Incident Date</th>\n",
       "      <th>Airport Code</th>\n",
       "      <th>Airport Name</th>\n",
       "      <th>Claim Type</th>\n",
       "      <th>Claim Site</th>\n",
       "      <th>Year</th>\n",
       "    </tr>\n",
       "  </thead>\n",
       "  <tbody>\n",
       "    <tr>\n",
       "      <th>0</th>\n",
       "      <td>2002-06-20</td>\n",
       "      <td>2002-05-09</td>\n",
       "      <td>BWI</td>\n",
       "      <td>Baltimore/Washington Intl Thurgood Marshall</td>\n",
       "      <td>Other</td>\n",
       "      <td>Checkpoint</td>\n",
       "      <td>2002</td>\n",
       "    </tr>\n",
       "    <tr>\n",
       "      <th>1</th>\n",
       "      <td>2002-06-20</td>\n",
       "      <td>2002-06-16</td>\n",
       "      <td>PHX</td>\n",
       "      <td>Phoenix Sky Harbor International</td>\n",
       "      <td>Property Damage</td>\n",
       "      <td>Checkpoint</td>\n",
       "      <td>2002</td>\n",
       "    </tr>\n",
       "    <tr>\n",
       "      <th>2</th>\n",
       "      <td>2002-06-25</td>\n",
       "      <td>2002-05-04</td>\n",
       "      <td>ATL</td>\n",
       "      <td>Hartsfield-Jackson Atlanta International Airport</td>\n",
       "      <td>Passenger Property Loss</td>\n",
       "      <td>Checkpoint</td>\n",
       "      <td>2002</td>\n",
       "    </tr>\n",
       "    <tr>\n",
       "      <th>3</th>\n",
       "      <td>2002-07-08</td>\n",
       "      <td>2002-06-12</td>\n",
       "      <td>BWI</td>\n",
       "      <td>Baltimore/Washington Intl Thurgood Marshall</td>\n",
       "      <td>Other</td>\n",
       "      <td>Checkpoint</td>\n",
       "      <td>2002</td>\n",
       "    </tr>\n",
       "    <tr>\n",
       "      <th>4</th>\n",
       "      <td>2002-07-08</td>\n",
       "      <td>2002-06-04</td>\n",
       "      <td>BWI</td>\n",
       "      <td>Baltimore/Washington Intl Thurgood Marshall</td>\n",
       "      <td>Other</td>\n",
       "      <td>Other</td>\n",
       "      <td>2002</td>\n",
       "    </tr>\n",
       "  </tbody>\n",
       "</table>\n",
       "</div>"
      ],
      "text/plain": [
       "  Date Received Incident Date Airport Code  \\\n",
       "0    2002-06-20    2002-05-09          BWI   \n",
       "1    2002-06-20    2002-06-16          PHX   \n",
       "2    2002-06-25    2002-05-04          ATL   \n",
       "3    2002-07-08    2002-06-12          BWI   \n",
       "4    2002-07-08    2002-06-04          BWI   \n",
       "\n",
       "                                       Airport Name               Claim Type  \\\n",
       "0       Baltimore/Washington Intl Thurgood Marshall                    Other   \n",
       "1                  Phoenix Sky Harbor International          Property Damage   \n",
       "2  Hartsfield-Jackson Atlanta International Airport  Passenger Property Loss   \n",
       "3       Baltimore/Washington Intl Thurgood Marshall                    Other   \n",
       "4       Baltimore/Washington Intl Thurgood Marshall                    Other   \n",
       "\n",
       "   Claim Site  Year  \n",
       "0  Checkpoint  2002  \n",
       "1  Checkpoint  2002  \n",
       "2  Checkpoint  2002  \n",
       "3  Checkpoint  2002  \n",
       "4       Other  2002  "
      ]
     },
     "execution_count": 50,
     "metadata": {},
     "output_type": "execute_result"
    }
   ],
   "source": [
    "# Menampilkan data frame dari 'Dataset'\n",
    "Dataset['Year'] = Dataset['Date Received'].dt.year\n",
    "Dataset.head()"
   ]
  },
  {
   "cell_type": "code",
   "execution_count": 51,
   "metadata": {},
   "outputs": [
    {
     "data": {
      "text/html": [
       "<div>\n",
       "<style scoped>\n",
       "    .dataframe tbody tr th:only-of-type {\n",
       "        vertical-align: middle;\n",
       "    }\n",
       "\n",
       "    .dataframe tbody tr th {\n",
       "        vertical-align: top;\n",
       "    }\n",
       "\n",
       "    .dataframe thead th {\n",
       "        text-align: right;\n",
       "    }\n",
       "</style>\n",
       "<table border=\"1\" class=\"dataframe\">\n",
       "  <thead>\n",
       "    <tr style=\"text-align: right;\">\n",
       "      <th></th>\n",
       "      <th>Year</th>\n",
       "      <th>Airport Code</th>\n",
       "    </tr>\n",
       "  </thead>\n",
       "  <tbody>\n",
       "    <tr>\n",
       "      <th>0</th>\n",
       "      <td>2002</td>\n",
       "      <td>837</td>\n",
       "    </tr>\n",
       "    <tr>\n",
       "      <th>1</th>\n",
       "      <td>2003</td>\n",
       "      <td>17287</td>\n",
       "    </tr>\n",
       "    <tr>\n",
       "      <th>2</th>\n",
       "      <td>2004</td>\n",
       "      <td>27246</td>\n",
       "    </tr>\n",
       "    <tr>\n",
       "      <th>3</th>\n",
       "      <td>2005</td>\n",
       "      <td>23481</td>\n",
       "    </tr>\n",
       "    <tr>\n",
       "      <th>4</th>\n",
       "      <td>2006</td>\n",
       "      <td>18477</td>\n",
       "    </tr>\n",
       "    <tr>\n",
       "      <th>5</th>\n",
       "      <td>2007</td>\n",
       "      <td>18201</td>\n",
       "    </tr>\n",
       "    <tr>\n",
       "      <th>6</th>\n",
       "      <td>2008</td>\n",
       "      <td>16132</td>\n",
       "    </tr>\n",
       "    <tr>\n",
       "      <th>7</th>\n",
       "      <td>2009</td>\n",
       "      <td>12559</td>\n",
       "    </tr>\n",
       "    <tr>\n",
       "      <th>8</th>\n",
       "      <td>2010</td>\n",
       "      <td>10748</td>\n",
       "    </tr>\n",
       "    <tr>\n",
       "      <th>9</th>\n",
       "      <td>2011</td>\n",
       "      <td>10756</td>\n",
       "    </tr>\n",
       "    <tr>\n",
       "      <th>10</th>\n",
       "      <td>2012</td>\n",
       "      <td>9958</td>\n",
       "    </tr>\n",
       "    <tr>\n",
       "      <th>11</th>\n",
       "      <td>2013</td>\n",
       "      <td>9575</td>\n",
       "    </tr>\n",
       "    <tr>\n",
       "      <th>12</th>\n",
       "      <td>2014</td>\n",
       "      <td>8786</td>\n",
       "    </tr>\n",
       "    <tr>\n",
       "      <th>13</th>\n",
       "      <td>2015</td>\n",
       "      <td>8608</td>\n",
       "    </tr>\n",
       "  </tbody>\n",
       "</table>\n",
       "</div>"
      ],
      "text/plain": [
       "    Year  Airport Code\n",
       "0   2002           837\n",
       "1   2003         17287\n",
       "2   2004         27246\n",
       "3   2005         23481\n",
       "4   2006         18477\n",
       "5   2007         18201\n",
       "6   2008         16132\n",
       "7   2009         12559\n",
       "8   2010         10748\n",
       "9   2011         10756\n",
       "10  2012          9958\n",
       "11  2013          9575\n",
       "12  2014          8786\n",
       "13  2015          8608"
      ]
     },
     "execution_count": 51,
     "metadata": {},
     "output_type": "execute_result"
    }
   ],
   "source": [
    "# Menggabungkan kolom Year dan Airport Code\n",
    "claim_year = Dataset.groupby('Year', as_index= False)['Airport Code'].count()\n",
    "claim_year"
   ]
  },
  {
   "cell_type": "markdown",
   "metadata": {},
   "source": [
    "Penggambungan 2 kolom ini bertujuan untuk menampilkan visualisasi line chart 'Jumlah Klaim Setiap Tahun'"
   ]
  },
  {
   "cell_type": "code",
   "execution_count": 52,
   "metadata": {},
   "outputs": [
    {
     "data": {
      "image/png": "[encoded data removed]",
      "text/plain": [
       "<Figure size 800x600 with 1 Axes>"
      ]
     },
     "metadata": {},
     "output_type": "display_data"
    }
   ],
   "source": [
    "# Menampilkan line chart \n",
    "x = claim_year['Year']\n",
    "y = claim_year['Airport Code']\n",
    "\n",
    "plt.style.use('seaborn')\n",
    "plt.figure(figsize=(8,6))\n",
    "plt.plot(x, y, color='green', marker='o')\n",
    "plt.title('Jumlah Klaim Setiap Tahun')\n",
    "plt.xlabel('Tahun', size=12)\n",
    "plt.ylabel('Jumlah Klaim')\n",
    "plt.show()"
   ]
  },
  {
   "cell_type": "markdown",
   "metadata": {},
   "source": [
    "Berdasarkan grafik di atas, terlihat bahwa jumlah klaim yang paling sedikit terjadi pada tahun 2002. Kemudian pada tahun 2004 terjadi lonjakan yang tajam dan merupakan jumlah klaim tertinggi dari rentang tahun 2002 sampai 2014. Namun setelah tahun 2004, jumlah klaim cenderung mengalami bearish (menurun). Ini menandakan adanya evaluasi yang serius dalam menangani kasus diatas sehingga selalu mengalami penurunan setelah tahun 2004.\n"
   ]
  },
  {
   "cell_type": "markdown",
   "metadata": {},
   "source": [
    "**Bandara dengan jumlah klaim terbanyak**"
   ]
  },
  {
   "cell_type": "code",
   "execution_count": 53,
   "metadata": {},
   "outputs": [
    {
     "data": {
      "text/html": [
       "<div>\n",
       "<style scoped>\n",
       "    .dataframe tbody tr th:only-of-type {\n",
       "        vertical-align: middle;\n",
       "    }\n",
       "\n",
       "    .dataframe tbody tr th {\n",
       "        vertical-align: top;\n",
       "    }\n",
       "\n",
       "    .dataframe thead th {\n",
       "        text-align: right;\n",
       "    }\n",
       "</style>\n",
       "<table border=\"1\" class=\"dataframe\">\n",
       "  <thead>\n",
       "    <tr style=\"text-align: right;\">\n",
       "      <th></th>\n",
       "      <th>Airport Name</th>\n",
       "      <th>Jumlah Klaim</th>\n",
       "    </tr>\n",
       "  </thead>\n",
       "  <tbody>\n",
       "    <tr>\n",
       "      <th>0</th>\n",
       "      <td>Aberdeen Regional Airport</td>\n",
       "      <td>31</td>\n",
       "    </tr>\n",
       "    <tr>\n",
       "      <th>1</th>\n",
       "      <td>Abilene Regional</td>\n",
       "      <td>44</td>\n",
       "    </tr>\n",
       "    <tr>\n",
       "      <th>2</th>\n",
       "      <td>Abraham Lincoln Capital Airport; Springfield</td>\n",
       "      <td>20</td>\n",
       "    </tr>\n",
       "    <tr>\n",
       "      <th>3</th>\n",
       "      <td>Adak Mitchell Field Airport</td>\n",
       "      <td>1</td>\n",
       "    </tr>\n",
       "    <tr>\n",
       "      <th>4</th>\n",
       "      <td>Akron-Canton Regional</td>\n",
       "      <td>233</td>\n",
       "    </tr>\n",
       "    <tr>\n",
       "      <th>...</th>\n",
       "      <td>...</td>\n",
       "      <td>...</td>\n",
       "    </tr>\n",
       "    <tr>\n",
       "      <th>459</th>\n",
       "      <td>Yeager; Charleston</td>\n",
       "      <td>79</td>\n",
       "    </tr>\n",
       "    <tr>\n",
       "      <th>460</th>\n",
       "      <td>Yellowstone</td>\n",
       "      <td>9</td>\n",
       "    </tr>\n",
       "    <tr>\n",
       "      <th>461</th>\n",
       "      <td>Yellowstone Regional</td>\n",
       "      <td>11</td>\n",
       "    </tr>\n",
       "    <tr>\n",
       "      <th>462</th>\n",
       "      <td>Youngstown-Warren Regional</td>\n",
       "      <td>24</td>\n",
       "    </tr>\n",
       "    <tr>\n",
       "      <th>463</th>\n",
       "      <td>Yuma International Airport</td>\n",
       "      <td>32</td>\n",
       "    </tr>\n",
       "  </tbody>\n",
       "</table>\n",
       "<p>464 rows × 2 columns</p>\n",
       "</div>"
      ],
      "text/plain": [
       "                                     Airport Name  Jumlah Klaim\n",
       "0                       Aberdeen Regional Airport            31\n",
       "1                                Abilene Regional            44\n",
       "2    Abraham Lincoln Capital Airport; Springfield            20\n",
       "3                     Adak Mitchell Field Airport             1\n",
       "4                           Akron-Canton Regional           233\n",
       "..                                            ...           ...\n",
       "459                            Yeager; Charleston            79\n",
       "460                                   Yellowstone             9\n",
       "461                          Yellowstone Regional            11\n",
       "462                    Youngstown-Warren Regional            24\n",
       "463                    Yuma International Airport            32\n",
       "\n",
       "[464 rows x 2 columns]"
      ]
     },
     "execution_count": 53,
     "metadata": {},
     "output_type": "execute_result"
    }
   ],
   "source": [
    "# Melakukan penggabungan kolom 'Airport Name' dan 'Jumlah Klaim' bertujuan untuk menampilkan visualisasi\n",
    "claim_by_airport = Dataset.groupby('Airport Name', as_index= False)['Claim Type'].count()\n",
    "claim_by_airport.rename(columns = {'Claim Type' : 'Jumlah Klaim'}, inplace= True)\n",
    "claim_by_airport"
   ]
  },
  {
   "cell_type": "code",
   "execution_count": 54,
   "metadata": {},
   "outputs": [
    {
     "data": {
      "text/html": [
       "<div>\n",
       "<style scoped>\n",
       "    .dataframe tbody tr th:only-of-type {\n",
       "        vertical-align: middle;\n",
       "    }\n",
       "\n",
       "    .dataframe tbody tr th {\n",
       "        vertical-align: top;\n",
       "    }\n",
       "\n",
       "    .dataframe thead th {\n",
       "        text-align: right;\n",
       "    }\n",
       "</style>\n",
       "<table border=\"1\" class=\"dataframe\">\n",
       "  <thead>\n",
       "    <tr style=\"text-align: right;\">\n",
       "      <th></th>\n",
       "      <th>Jumlah Klaim</th>\n",
       "    </tr>\n",
       "  </thead>\n",
       "  <tbody>\n",
       "    <tr>\n",
       "      <th>count</th>\n",
       "      <td>464.000000</td>\n",
       "    </tr>\n",
       "    <tr>\n",
       "      <th>mean</th>\n",
       "      <td>415.196121</td>\n",
       "    </tr>\n",
       "    <tr>\n",
       "      <th>std</th>\n",
       "      <td>1161.047318</td>\n",
       "    </tr>\n",
       "    <tr>\n",
       "      <th>min</th>\n",
       "      <td>1.000000</td>\n",
       "    </tr>\n",
       "    <tr>\n",
       "      <th>25%</th>\n",
       "      <td>7.000000</td>\n",
       "    </tr>\n",
       "    <tr>\n",
       "      <th>50%</th>\n",
       "      <td>33.000000</td>\n",
       "    </tr>\n",
       "    <tr>\n",
       "      <th>75%</th>\n",
       "      <td>182.500000</td>\n",
       "    </tr>\n",
       "    <tr>\n",
       "      <th>max</th>\n",
       "      <td>9451.000000</td>\n",
       "    </tr>\n",
       "  </tbody>\n",
       "</table>\n",
       "</div>"
      ],
      "text/plain": [
       "       Jumlah Klaim\n",
       "count    464.000000\n",
       "mean     415.196121\n",
       "std     1161.047318\n",
       "min        1.000000\n",
       "25%        7.000000\n",
       "50%       33.000000\n",
       "75%      182.500000\n",
       "max     9451.000000"
      ]
     },
     "execution_count": 54,
     "metadata": {},
     "output_type": "execute_result"
    }
   ],
   "source": [
    "'''Menampilkan statistik deskriptif dari metode ini digunakan \n",
    "untuk memberikan ringkasan statistik deskriptif dari DataFrame'''\n",
    "claim_by_airport.describe()"
   ]
  },
  {
   "cell_type": "code",
   "execution_count": 55,
   "metadata": {},
   "outputs": [
    {
     "data": {
      "text/plain": [
       "<AxesSubplot:xlabel='Jumlah Klaim'>"
      ]
     },
     "execution_count": 55,
     "metadata": {},
     "output_type": "execute_result"
    },
    {
     "data": {
      "image/png": "[encoded data removed]",
      "text/plain": [
       "<Figure size 1000x400 with 1 Axes>"
      ]
     },
     "metadata": {},
     "output_type": "display_data"
    }
   ],
   "source": [
    "# Menampilkan visualisasi dalam bentuk bar plot\n",
    "plt.figure(figsize = (10,4))\n",
    "sns.boxplot(x = claim_by_airport['Jumlah Klaim'], color='red')"
   ]
  },
  {
   "cell_type": "markdown",
   "metadata": {},
   "source": [
    "**Melakukan uji statistik descriptive**"
   ]
  },
  {
   "cell_type": "code",
   "execution_count": 56,
   "metadata": {},
   "outputs": [
    {
     "data": {
      "text/plain": [
       "78"
      ]
     },
     "execution_count": 56,
     "metadata": {},
     "output_type": "execute_result"
    }
   ],
   "source": [
    "# Menghitung jumlah outlier berdasarkan kolom 'Jumlah Klaim' dalam DataFrame `claim_by_airport`.\n",
    "Q1 = claim_by_airport['Jumlah Klaim'].describe()['25%']\n",
    "Q3 = claim_by_airport['Jumlah Klaim'].describe()['75%']\n",
    "IQR = Q3 - Q1\n",
    "upper = Q3 + 1.5*IQR\n",
    "\n",
    "jumlah_outlier = claim_by_airport[claim_by_airport['Jumlah Klaim']> upper]['Airport Name'].count()\n",
    "jumlah_outlier"
   ]
  },
  {
   "cell_type": "markdown",
   "metadata": {},
   "source": [
    "Setelah mengecek apakah masih ada outlier dan dapat kita lihat masih adanya outlier tetapi outlier ini jumlahnya sangat kecil dari total data yang kita punya jadi outlier ini akan dibiarkan saja"
   ]
  },
  {
   "cell_type": "markdown",
   "metadata": {},
   "source": [
    "Terdapat 78 bandara yang termasuk ke dalam outlier. Data bandara yang termasuk outlier tersebut tidak akan dihapus karena tujuan dilakukannya analisis ini salah satunya adalah untuk mengetahui bandara yang paling banyak menerima klaim dari penumpang. Oleh karena itu bandara-bandara yang termasuk ke dalam outlier tersebut akan dianalisis lebih lanjut."
   ]
  },
  {
   "cell_type": "code",
   "execution_count": 57,
   "metadata": {},
   "outputs": [],
   "source": [
    "# Jumlah airport yang termasuk outlier\n",
    "total_airport = claim_by_airport[claim_by_airport['Jumlah Klaim']> upper]\n",
    "\n",
    "# Menghitung rata-rata jumlah klaim\n",
    "total_airport_mean = total_airport['Jumlah Klaim'].mean()"
   ]
  },
  {
   "cell_type": "code",
   "execution_count": 58,
   "metadata": {},
   "outputs": [
    {
     "data": {
      "text/html": [
       "<div>\n",
       "<style scoped>\n",
       "    .dataframe tbody tr th:only-of-type {\n",
       "        vertical-align: middle;\n",
       "    }\n",
       "\n",
       "    .dataframe tbody tr th {\n",
       "        vertical-align: top;\n",
       "    }\n",
       "\n",
       "    .dataframe thead th {\n",
       "        text-align: right;\n",
       "    }\n",
       "</style>\n",
       "<table border=\"1\" class=\"dataframe\">\n",
       "  <thead>\n",
       "    <tr style=\"text-align: right;\">\n",
       "      <th></th>\n",
       "      <th>Airport Name</th>\n",
       "      <th>Jumlah Klaim</th>\n",
       "    </tr>\n",
       "  </thead>\n",
       "  <tbody>\n",
       "    <tr>\n",
       "      <th>239</th>\n",
       "      <td>Los Angeles International Airport</td>\n",
       "      <td>9451</td>\n",
       "    </tr>\n",
       "    <tr>\n",
       "      <th>190</th>\n",
       "      <td>John F. Kennedy International</td>\n",
       "      <td>9122</td>\n",
       "    </tr>\n",
       "    <tr>\n",
       "      <th>295</th>\n",
       "      <td>Newark International Airport</td>\n",
       "      <td>6769</td>\n",
       "    </tr>\n",
       "    <tr>\n",
       "      <th>65</th>\n",
       "      <td>Chicago O'Hare International Airport</td>\n",
       "      <td>6738</td>\n",
       "    </tr>\n",
       "    <tr>\n",
       "      <th>267</th>\n",
       "      <td>Miami International Airport</td>\n",
       "      <td>6336</td>\n",
       "    </tr>\n",
       "    <tr>\n",
       "      <th>311</th>\n",
       "      <td>Orlando International Airport</td>\n",
       "      <td>6323</td>\n",
       "    </tr>\n",
       "    <tr>\n",
       "      <th>164</th>\n",
       "      <td>Hartsfield-Jackson Atlanta International Airport</td>\n",
       "      <td>5792</td>\n",
       "    </tr>\n",
       "    <tr>\n",
       "      <th>383</th>\n",
       "      <td>Seattle-Tacoma International</td>\n",
       "      <td>5344</td>\n",
       "    </tr>\n",
       "    <tr>\n",
       "      <th>328</th>\n",
       "      <td>Phoenix Sky Harbor International</td>\n",
       "      <td>4994</td>\n",
       "    </tr>\n",
       "    <tr>\n",
       "      <th>253</th>\n",
       "      <td>McCarran International</td>\n",
       "      <td>4991</td>\n",
       "    </tr>\n",
       "    <tr>\n",
       "      <th>327</th>\n",
       "      <td>Philadelphia International Airport</td>\n",
       "      <td>4610</td>\n",
       "    </tr>\n",
       "    <tr>\n",
       "      <th>85</th>\n",
       "      <td>Dallas-Fort Worth International Airport</td>\n",
       "      <td>4344</td>\n",
       "    </tr>\n",
       "    <tr>\n",
       "      <th>41</th>\n",
       "      <td>Boston (Logan) International Airport</td>\n",
       "      <td>4075</td>\n",
       "    </tr>\n",
       "    <tr>\n",
       "      <th>130</th>\n",
       "      <td>Ft. Lauderdale-Hollywood International</td>\n",
       "      <td>4055</td>\n",
       "    </tr>\n",
       "    <tr>\n",
       "      <th>92</th>\n",
       "      <td>Denver International Airport</td>\n",
       "      <td>3886</td>\n",
       "    </tr>\n",
       "    <tr>\n",
       "      <th>439</th>\n",
       "      <td>Washington Dulles International</td>\n",
       "      <td>3867</td>\n",
       "    </tr>\n",
       "    <tr>\n",
       "      <th>217</th>\n",
       "      <td>LaGuardia</td>\n",
       "      <td>3820</td>\n",
       "    </tr>\n",
       "    <tr>\n",
       "      <th>409</th>\n",
       "      <td>Tampa International</td>\n",
       "      <td>3303</td>\n",
       "    </tr>\n",
       "    <tr>\n",
       "      <th>177</th>\n",
       "      <td>Houston - George Bush Intercontinental Airport</td>\n",
       "      <td>3212</td>\n",
       "    </tr>\n",
       "    <tr>\n",
       "      <th>274</th>\n",
       "      <td>Minneapolis/ St.Paul International Airport</td>\n",
       "      <td>3155</td>\n",
       "    </tr>\n",
       "    <tr>\n",
       "      <th>374</th>\n",
       "      <td>San Diego International</td>\n",
       "      <td>3019</td>\n",
       "    </tr>\n",
       "    <tr>\n",
       "      <th>94</th>\n",
       "      <td>Detroit Metropolitan Wayne County Airport</td>\n",
       "      <td>2902</td>\n",
       "    </tr>\n",
       "    <tr>\n",
       "      <th>22</th>\n",
       "      <td>Baltimore/Washington Intl Thurgood Marshall</td>\n",
       "      <td>2831</td>\n",
       "    </tr>\n",
       "  </tbody>\n",
       "</table>\n",
       "</div>"
      ],
      "text/plain": [
       "                                         Airport Name  Jumlah Klaim\n",
       "239                 Los Angeles International Airport          9451\n",
       "190                     John F. Kennedy International          9122\n",
       "295                      Newark International Airport          6769\n",
       "65               Chicago O'Hare International Airport          6738\n",
       "267                       Miami International Airport          6336\n",
       "311                     Orlando International Airport          6323\n",
       "164  Hartsfield-Jackson Atlanta International Airport          5792\n",
       "383                      Seattle-Tacoma International          5344\n",
       "328                  Phoenix Sky Harbor International          4994\n",
       "253                            McCarran International          4991\n",
       "327                Philadelphia International Airport          4610\n",
       "85            Dallas-Fort Worth International Airport          4344\n",
       "41               Boston (Logan) International Airport          4075\n",
       "130            Ft. Lauderdale-Hollywood International          4055\n",
       "92                       Denver International Airport          3886\n",
       "439                   Washington Dulles International          3867\n",
       "217                                         LaGuardia          3820\n",
       "409                               Tampa International          3303\n",
       "177    Houston - George Bush Intercontinental Airport          3212\n",
       "274        Minneapolis/ St.Paul International Airport          3155\n",
       "374                           San Diego International          3019\n",
       "94          Detroit Metropolitan Wayne County Airport          2902\n",
       "22        Baltimore/Washington Intl Thurgood Marshall          2831"
      ]
     },
     "execution_count": 58,
     "metadata": {},
     "output_type": "execute_result"
    }
   ],
   "source": [
    "# Melihat airport dengan jumlah klaim di atas rata-rata\n",
    "t_airport = total_airport[total_airport['Jumlah Klaim'] > total_airport_mean].sort_values('Jumlah Klaim', ascending = False)\n",
    "t_airport"
   ]
  },
  {
   "cell_type": "code",
   "execution_count": 59,
   "metadata": {},
   "outputs": [
    {
     "data": {
      "text/html": [
       "<div>\n",
       "<style scoped>\n",
       "    .dataframe tbody tr th:only-of-type {\n",
       "        vertical-align: middle;\n",
       "    }\n",
       "\n",
       "    .dataframe tbody tr th {\n",
       "        vertical-align: top;\n",
       "    }\n",
       "\n",
       "    .dataframe thead th {\n",
       "        text-align: right;\n",
       "    }\n",
       "</style>\n",
       "<table border=\"1\" class=\"dataframe\">\n",
       "  <thead>\n",
       "    <tr style=\"text-align: right;\">\n",
       "      <th></th>\n",
       "      <th>Jumlah Klaim</th>\n",
       "    </tr>\n",
       "  </thead>\n",
       "  <tbody>\n",
       "    <tr>\n",
       "      <th>count</th>\n",
       "      <td>23.000000</td>\n",
       "    </tr>\n",
       "    <tr>\n",
       "      <th>mean</th>\n",
       "      <td>4910.391304</td>\n",
       "    </tr>\n",
       "    <tr>\n",
       "      <th>std</th>\n",
       "      <td>1856.291801</td>\n",
       "    </tr>\n",
       "    <tr>\n",
       "      <th>min</th>\n",
       "      <td>2831.000000</td>\n",
       "    </tr>\n",
       "    <tr>\n",
       "      <th>25%</th>\n",
       "      <td>3561.500000</td>\n",
       "    </tr>\n",
       "    <tr>\n",
       "      <th>50%</th>\n",
       "      <td>4344.000000</td>\n",
       "    </tr>\n",
       "    <tr>\n",
       "      <th>75%</th>\n",
       "      <td>6057.500000</td>\n",
       "    </tr>\n",
       "    <tr>\n",
       "      <th>max</th>\n",
       "      <td>9451.000000</td>\n",
       "    </tr>\n",
       "  </tbody>\n",
       "</table>\n",
       "</div>"
      ],
      "text/plain": [
       "       Jumlah Klaim\n",
       "count     23.000000\n",
       "mean    4910.391304\n",
       "std     1856.291801\n",
       "min     2831.000000\n",
       "25%     3561.500000\n",
       "50%     4344.000000\n",
       "75%     6057.500000\n",
       "max     9451.000000"
      ]
     },
     "execution_count": 59,
     "metadata": {},
     "output_type": "execute_result"
    }
   ],
   "source": [
    "# Melihat data statistik dari kolom 'Jumlah Klaim\n",
    "t_airport.describe()"
   ]
  },
  {
   "cell_type": "code",
   "execution_count": 60,
   "metadata": {},
   "outputs": [
    {
     "data": {
      "image/png": "[encoded data removed]",
      "text/plain": [
       "<Figure size 1200x800 with 1 Axes>"
      ]
     },
     "metadata": {},
     "output_type": "display_data"
    }
   ],
   "source": [
    "# Menampilkan visualisasi dari data diatas\n",
    "plt.style.use('seaborn')\n",
    "plt.figure(figsize=(12, 8))\n",
    "plt.title('Bandara Dengan Jumlah Klaim Paling Banyak', size='xx-large') \n",
    "plt.bar(t_airport['Airport Name'], t_airport['Jumlah Klaim'])\n",
    "plt.xlabel('Nama Bandara', size='x-large')\n",
    "plt.ylabel('Jumlah Klaim', size='x-large')\n",
    "plt.xticks(rotation='vertical')\n",
    "plt.show()"
   ]
  },
  {
   "cell_type": "markdown",
   "metadata": {},
   "source": [
    "Berdasarkan grafik di atas, terlihat bahwa bandara yang paling banyak menerima klaim adalah bandara dengan kode LAX (Los Angeles International Airport) yaitu sebanyak 9451 klaim, kemudian diikuti oleh bandara JFK (John F. Kennedy Airport) dengan jumlah klaim sebanyak 9122. Berdasarkan data yang dilansir dari [Wikipedia](https://en.wikipedia.org/wiki/List_of_the_busiest_airports_in_the_United_States), Los Angeles International Airport dan John F. Kennedy Airport merupakan bandara yang termasuk ke dalam bandara tersibuk di Amerika Serikat. Begitupun dengan mayoritas bandara-bandara yang ada pada grafik juga termasuk ke dalam list bandara tersibuk di Amerika Serikat. Oleh karena itu, wajar jika bandara-bandara tersebut memiliki jumlah klaim yang tinggi karena tingginya arus lalu lintas penumpang. Namun data diatas dapat berubah seiring berjalannya waktu."
   ]
  },
  {
   "cell_type": "markdown",
   "metadata": {},
   "source": [
    "**2. Jenis klaim yang paling banyak dilaporkan**"
   ]
  },
  {
   "cell_type": "markdown",
   "metadata": {},
   "source": [
    "Setelah melakukan analisis bandara yang paling banyak menerima klaim, selanjutnya akan dianalisis jenis klaim yang paling banyak dilaporkan oleh penumpang di bandara."
   ]
  },
  {
   "cell_type": "code",
   "execution_count": 61,
   "metadata": {},
   "outputs": [
    {
     "data": {
      "text/plain": [
       "Passenger Property Loss    113578\n",
       "Property Damage             70783\n",
       "Other                        5581\n",
       "Personal Injury              1408\n",
       "Employee Loss (MPCECA)        468\n",
       "Passenger Theft               446\n",
       "Motor Vehicle                 336\n",
       "Complaint                      44\n",
       "Wrongful Death                  4\n",
       "Compliment                      2\n",
       "Bus Terminal                    1\n",
       "Name: Claim Type, dtype: int64"
      ]
     },
     "execution_count": 61,
     "metadata": {},
     "output_type": "execute_result"
    }
   ],
   "source": [
    "# Melihat nilai dari kolom 'Claim Type'\n",
    "Dataset['Claim Type'].value_counts()"
   ]
  },
  {
   "cell_type": "markdown",
   "metadata": {},
   "source": [
    "Dari data diatas bisa kita lihat jenis klaim paling banyak yaitu 'Passenger Property Loss' disusul oleh 'Property Damage ' ini menandakkan kurangnya perhatian yang serius dari klaim dari data diatas ini bisa disebabkan juga oleh arus penumpang yang sangat banyak."
   ]
  },
  {
   "cell_type": "code",
   "execution_count": 62,
   "metadata": {},
   "outputs": [
    {
     "data": {
      "text/html": [
       "<div>\n",
       "<style scoped>\n",
       "    .dataframe tbody tr th:only-of-type {\n",
       "        vertical-align: middle;\n",
       "    }\n",
       "\n",
       "    .dataframe tbody tr th {\n",
       "        vertical-align: top;\n",
       "    }\n",
       "\n",
       "    .dataframe thead th {\n",
       "        text-align: right;\n",
       "    }\n",
       "</style>\n",
       "<table border=\"1\" class=\"dataframe\">\n",
       "  <thead>\n",
       "    <tr style=\"text-align: right;\">\n",
       "      <th></th>\n",
       "      <th>Claim Type</th>\n",
       "      <th>Frequency</th>\n",
       "    </tr>\n",
       "  </thead>\n",
       "  <tbody>\n",
       "    <tr>\n",
       "      <th>0</th>\n",
       "      <td>Bus Terminal</td>\n",
       "      <td>1</td>\n",
       "    </tr>\n",
       "    <tr>\n",
       "      <th>1</th>\n",
       "      <td>Complaint</td>\n",
       "      <td>44</td>\n",
       "    </tr>\n",
       "    <tr>\n",
       "      <th>2</th>\n",
       "      <td>Compliment</td>\n",
       "      <td>2</td>\n",
       "    </tr>\n",
       "    <tr>\n",
       "      <th>3</th>\n",
       "      <td>Employee Loss (MPCECA)</td>\n",
       "      <td>468</td>\n",
       "    </tr>\n",
       "    <tr>\n",
       "      <th>4</th>\n",
       "      <td>Motor Vehicle</td>\n",
       "      <td>336</td>\n",
       "    </tr>\n",
       "    <tr>\n",
       "      <th>5</th>\n",
       "      <td>Other</td>\n",
       "      <td>5581</td>\n",
       "    </tr>\n",
       "    <tr>\n",
       "      <th>6</th>\n",
       "      <td>Passenger Property Loss</td>\n",
       "      <td>113578</td>\n",
       "    </tr>\n",
       "    <tr>\n",
       "      <th>7</th>\n",
       "      <td>Passenger Theft</td>\n",
       "      <td>446</td>\n",
       "    </tr>\n",
       "    <tr>\n",
       "      <th>8</th>\n",
       "      <td>Personal Injury</td>\n",
       "      <td>1408</td>\n",
       "    </tr>\n",
       "    <tr>\n",
       "      <th>9</th>\n",
       "      <td>Property Damage</td>\n",
       "      <td>70783</td>\n",
       "    </tr>\n",
       "    <tr>\n",
       "      <th>10</th>\n",
       "      <td>Wrongful Death</td>\n",
       "      <td>4</td>\n",
       "    </tr>\n",
       "  </tbody>\n",
       "</table>\n",
       "</div>"
      ],
      "text/plain": [
       "                 Claim Type  Frequency\n",
       "0              Bus Terminal          1\n",
       "1                 Complaint         44\n",
       "2                Compliment          2\n",
       "3    Employee Loss (MPCECA)        468\n",
       "4             Motor Vehicle        336\n",
       "5                     Other       5581\n",
       "6   Passenger Property Loss     113578\n",
       "7           Passenger Theft        446\n",
       "8           Personal Injury       1408\n",
       "9           Property Damage      70783\n",
       "10           Wrongful Death          4"
      ]
     },
     "execution_count": 62,
     "metadata": {},
     "output_type": "execute_result"
    }
   ],
   "source": [
    "# Menghitung frekuensi setiap jenis klaim dalam DataFrame `Dataset` dan mengubah nama kolom count\n",
    "claim_type = Dataset.groupby('Claim Type', as_index=False)['Claim Type'].value_counts()\n",
    "claim_type.rename(columns = {'count' : 'Frequency'}, inplace= True)\n",
    "claim_type"
   ]
  },
  {
   "cell_type": "code",
   "execution_count": 63,
   "metadata": {},
   "outputs": [],
   "source": [
    "# Mengurutkan jenis klaim berdasarkan frekuensi dan membagi hasilnya menjadi tiga \n",
    "'''Mengurutkan DataFrame `claim_type` berdasarkan kolom 'Frequency' dalam urutan menurun.\n",
    "   - Menggunakan metode `sort_values()` dengan parameter `ascending=False` untuk mengurutkan dari frekuensi tertinggi ke terendah.\n",
    "   - Menggunakan metode `reset_index(drop=True)` untuk mengatur ulang index setelah pengurutan'''\n",
    "new_claim = claim_type.sort_values(\"Frequency\", ascending=False).reset_index(drop=True)\n",
    "\n",
    "# berisi tiga jenis klaim dengan frekuensi tertinggi\n",
    "claim1 = new_claim[0:3]\n",
    "\n",
    "# berisi empat jenis klaim dengan frekuensi tertinggi berikutnya\n",
    "claim2 = new_claim[3:7]\n",
    "\n",
    "# berisi empat jenis klaim dengan frekuensi tertinggi setelahnya\n",
    "claim3 = new_claim[7:11]"
   ]
  },
  {
   "cell_type": "code",
   "execution_count": 64,
   "metadata": {},
   "outputs": [
    {
     "data": {
      "image/png": "[encoded data removed]",
      "text/plain": [
       "<Figure size 800x400 with 1 Axes>"
      ]
     },
     "metadata": {},
     "output_type": "display_data"
    }
   ],
   "source": [
    "# Menampilkan visualisasi dalam bentuk bar chart dari frekuensi paling tinggi\n",
    "plt.style.use('seaborn')\n",
    "plt.figure(figsize=(8,4))\n",
    "plt.title('Jenis Klaim yang Dilaporkan', size='xx-large') \n",
    "plt.bar(claim1['Claim Type'], claim1['Frequency'], color='orange')\n",
    "plt.xlabel('Jenis Klaim', size='x-large')\n",
    "plt.ylabel('Total', size='x-large')\n",
    "plt.show()"
   ]
  },
  {
   "cell_type": "code",
   "execution_count": 65,
   "metadata": {},
   "outputs": [
    {
     "data": {
      "image/png": "[encoded data removed]",
      "text/plain": [
       "<Figure size 800x400 with 1 Axes>"
      ]
     },
     "metadata": {},
     "output_type": "display_data"
    }
   ],
   "source": [
    "# Menampilkan visualisasi dalam bentuk bar chart dari frekuensi tertinggi berikutnya\n",
    "plt.style.use('seaborn')\n",
    "plt.figure(figsize=(8,4))\n",
    "plt.title('Jenis Klaim Yang Dilaporkan', size='xx-large') \n",
    "plt.bar(claim2['Claim Type'], claim2['Frequency'], color='grey')\n",
    "plt.xlabel('Jenis Klaim', size='x-large')\n",
    "plt.ylabel('Total', size='x-large')\n",
    "plt.show()"
   ]
  },
  {
   "cell_type": "code",
   "execution_count": 66,
   "metadata": {},
   "outputs": [
    {
     "data": {
      "image/png": "[encoded data removed]",
      "text/plain": [
       "<Figure size 800x400 with 1 Axes>"
      ]
     },
     "metadata": {},
     "output_type": "display_data"
    }
   ],
   "source": [
    "# Menampilkan visualisasi dalam bentuk bar chart dari frekuensi tertinggi setelahnya\n",
    "plt.style.use('seaborn')\n",
    "plt.figure(figsize=(8,4))\n",
    "plt.title('Jenis Klaim Yang Dilaporkan', size='xx-large') \n",
    "plt.bar(claim3['Claim Type'], claim3['Frequency'], color='purple')\n",
    "plt.xlabel('Jenis Klaim', size='x-large')\n",
    "plt.ylabel('Total', size='x-large')\n",
    "plt.show()"
   ]
  },
  {
   "cell_type": "markdown",
   "metadata": {},
   "source": [
    "Berdasarkan grafik-grafik di atas, dapat diketahui bahwa jenis klaim yang paling banyak dilaporkan oleh penumpang di bandara adalah **Passenger Property Loss** sebanyak 113569 klaim dan **Property Damage** sebanyak 70757 klaim. Data-data tersebut menunjukkan bahwa klaim yang dilaporkan banyak berkaitan dengan barang-barang yang dibawa oleh penumpang. Mengingat dari data 3 klaim teratas ini sangat berkaitan dengan padatnya arus penumpang dibandara tersebut."
   ]
  },
  {
   "cell_type": "markdown",
   "metadata": {},
   "source": [
    "**3. Rencana perbaikan yang spesifik untuk bandara dengan klaim tertinggi**"
   ]
  },
  {
   "cell_type": "markdown",
   "metadata": {},
   "source": [
    "**Uji Statistik Descpritive**"
   ]
  },
  {
   "cell_type": "code",
   "execution_count": 67,
   "metadata": {},
   "outputs": [
    {
     "name": "stdout",
     "output_type": "stream",
     "text": [
      "Claim test dari klaim tertinggi: 12.835377040382667\n"
     ]
    }
   ],
   "source": [
    "claim_test = Dataset['Year'].var()\n",
    "print('Claim test dari klaim tertinggi:',claim_test)"
   ]
  },
  {
   "cell_type": "code",
   "execution_count": 68,
   "metadata": {},
   "outputs": [
    {
     "name": "stdout",
     "output_type": "stream",
     "text": [
      "Standar_deviasi: 3.5826494442496974\n",
      "Skewness: 0.5042262482483755\n",
      "Kurtosis: -0.8951495287909856\n"
     ]
    }
   ],
   "source": [
    "# Menghitung standar deviasi dari sebuah kolom \"Year\"\n",
    "print(f\"Standar_deviasi: {Dataset['Year'].std()}\")\n",
    "# Menghitung nilai kemiringan (skewness) dari sebuah kolom \"Rating\" dalam dataframe Dataset\n",
    "print(f\"Skewness: {Dataset['Year'].skew()}\")\n",
    "# Menghitung kurtosis dari kolom \"Rating\" dalam dataframe Dataset\n",
    "print(f\"Kurtosis: {Dataset['Year'].kurtosis()}\")"
   ]
  },
  {
   "cell_type": "markdown",
   "metadata": {},
   "source": [
    "Dari data diatas bisa kita lihat ini menunjukkan tingkat variasi atau penyebaran jumlah klaim di bandara. Nilai 3.58 mengindikasikan bahwa jumlah klaim per bandara bervariasi dengan rata-rata sekitar 3.58 klaim dari rata-rata jumlah klaim. Standard deviation 3.58 berarti sebagian besar bandara memiliki jumlah klaim yang berkisar antara 96.42 hingga 103.58 klaim (rata-rata ± 1 standard deviation)."
   ]
  },
  {
   "cell_type": "markdown",
   "metadata": {},
   "source": [
    "**4. Mengimplementasikan perbaikan pelayanan**"
   ]
  },
  {
   "cell_type": "markdown",
   "metadata": {},
   "source": [
    "**Uji Statistik inferential**"
   ]
  },
  {
   "cell_type": "code",
   "execution_count": 69,
   "metadata": {},
   "outputs": [
    {
     "name": "stdout",
     "output_type": "stream",
     "text": [
      "Average = 2007.6935546662098\n",
      "Minimum = 2002\n",
      "Maximum = 2015\n"
     ]
    }
   ],
   "source": [
    "# Menampilkan nilai dari kolom year\n",
    "print('Average =',Dataset['Year'].mean())\n",
    "print('Minimum =',Dataset['Year'].min())\n",
    "print('Maximum =',Dataset['Year'].max())"
   ]
  },
  {
   "cell_type": "code",
   "execution_count": 70,
   "metadata": {},
   "outputs": [
    {
     "name": "stdout",
     "output_type": "stream",
     "text": [
      "Lower Limit: 2007.6775566264241\n",
      "Upper Limit: 2007.7095527059955\n"
     ]
    }
   ],
   "source": [
    "# Memanggil fungsi untuk melihat nilai lower dan upper\n",
    "std = Dataset['Year'].std()\n",
    "N = len(Dataset)\n",
    "low, up = stats.norm.interval(0.95,loc=Dataset['Year'].mean(),scale=std/np.sqrt(N))\n",
    "print('Lower Limit:',low)\n",
    "print('Upper Limit:',up)"
   ]
  },
  {
   "cell_type": "markdown",
   "metadata": {},
   "source": [
    "Dari hasil uji diatas bisa kita simpulkan nilai tengah dari semua data dalam dataset, dihitung dengan menjumlahkan semua nilai dan membaginya dengan jumlah data. Rata-rata tahun klaim adalah 2007.69. Ini berarti sebagian besar klaim terjadi sekitar tahun 2007 hingga 2008. Tahun klaim terendah adalah 2002.\n",
    "Ini menunjukkan bahwa klaim dalam dataset mulai dicatat atau terjadi sejak tahun 2002. Tahun klaim tertinggi adalah 2015 dengan memahami angka-angka ini, kita mendapatkan gambaran yang lebih jelas tentang distribusi klaim dalam rentang waktu yang diberikan dan dapat merencanakan tindakan yang tepat berdasarkan tren historis tersebut.\n",
    "\n",
    "Interval ini memberikan rentang di mana kita percaya rata-rata sebenarnya dari jumlah klaim berada, dengan tingkat keyakinan tertentu (biasanya 95%). dalam konteks ini, kita dapat mengatakan bahwa kita 95% yakin bahwa rata-rata jumlah klaim berada di antara 2007 awal sampai 2007 akhir. Angka diatas menunjukkan bahwa berdasarkan data yang kita punya, kita simpulkan bahwa rata-rata jumlah klaim bandara berada di antara 2007 awal dan 2007 akhir. Ini membantu memberikan gambaran yang lebih akurat tentang jumlah klaim yang diharapkan dan memungkinkan pengelolaan klaim yang lebih baik.\n"
   ]
  },
  {
   "cell_type": "markdown",
   "metadata": {},
   "source": [
    "**5. Titik Lokasi Yang Paling Banyak Menerima Pengajuan Klaim**"
   ]
  },
  {
   "cell_type": "markdown",
   "metadata": {},
   "source": [
    "Setelah mengetahui jenis klaim yang paling banyak dilaporkan, selanjutnya menganalisis titik lokasi di bandara yang paling banyak menerima pengajuan klaim."
   ]
  },
  {
   "cell_type": "code",
   "execution_count": 71,
   "metadata": {},
   "outputs": [
    {
     "data": {
      "text/plain": [
       "Checked Baggage    79.126516\n",
       "Checkpoint         19.821000\n",
       "Other               0.953732\n",
       "Motor Vehicle       0.220372\n",
       "Bus Station         0.007796\n",
       "Name: Claim Site, dtype: float64"
      ]
     },
     "execution_count": 71,
     "metadata": {},
     "output_type": "execute_result"
    }
   ],
   "source": [
    "# Mengecek persentase jumlah titik lokasi yang melakukan klaim\n",
    "Dataset['Claim Site'].value_counts()/df.shape[0]*100"
   ]
  },
  {
   "cell_type": "markdown",
   "metadata": {},
   "source": [
    "Bisa kita lihat dari persentase diatas titik lokasi yang sering mendapatkan klaim yaitu 'Checked Baggage' kemudian disusul oleh 'Checkpoint' persentasi nilai 2 teratas sangat jauh ke nilai berikutnya."
   ]
  },
  {
   "cell_type": "code",
   "execution_count": 72,
   "metadata": {},
   "outputs": [
    {
     "data": {
      "text/html": [
       "<div>\n",
       "<style scoped>\n",
       "    .dataframe tbody tr th:only-of-type {\n",
       "        vertical-align: middle;\n",
       "    }\n",
       "\n",
       "    .dataframe tbody tr th {\n",
       "        vertical-align: top;\n",
       "    }\n",
       "\n",
       "    .dataframe thead th {\n",
       "        text-align: right;\n",
       "    }\n",
       "</style>\n",
       "<table border=\"1\" class=\"dataframe\">\n",
       "  <thead>\n",
       "    <tr style=\"text-align: right;\">\n",
       "      <th></th>\n",
       "      <th>Claim Site</th>\n",
       "      <th>Frequency</th>\n",
       "    </tr>\n",
       "  </thead>\n",
       "  <tbody>\n",
       "    <tr>\n",
       "      <th>0</th>\n",
       "      <td>Bus Station</td>\n",
       "      <td>15</td>\n",
       "    </tr>\n",
       "    <tr>\n",
       "      <th>1</th>\n",
       "      <td>Checked Baggage</td>\n",
       "      <td>152241</td>\n",
       "    </tr>\n",
       "    <tr>\n",
       "      <th>2</th>\n",
       "      <td>Checkpoint</td>\n",
       "      <td>38136</td>\n",
       "    </tr>\n",
       "    <tr>\n",
       "      <th>3</th>\n",
       "      <td>Motor Vehicle</td>\n",
       "      <td>424</td>\n",
       "    </tr>\n",
       "    <tr>\n",
       "      <th>4</th>\n",
       "      <td>Other</td>\n",
       "      <td>1835</td>\n",
       "    </tr>\n",
       "  </tbody>\n",
       "</table>\n",
       "</div>"
      ],
      "text/plain": [
       "        Claim Site  Frequency\n",
       "0      Bus Station         15\n",
       "1  Checked Baggage     152241\n",
       "2       Checkpoint      38136\n",
       "3    Motor Vehicle        424\n",
       "4            Other       1835"
      ]
     },
     "execution_count": 72,
     "metadata": {},
     "output_type": "execute_result"
    }
   ],
   "source": [
    "# Kita akan merubah nilai 'count' menjadi 'frekuensi' lalu menggabungkan kolom tersebut\n",
    "claim_site = Dataset.groupby('Claim Site', as_index=False)['Claim Site'].value_counts()\n",
    "claim_site.rename(columns = {'count' : 'Frequency'}, inplace= True)\n",
    "claim_site"
   ]
  },
  {
   "cell_type": "code",
   "execution_count": 73,
   "metadata": {},
   "outputs": [
    {
     "data": {
      "image/png": "[encoded data removed]",
      "text/plain": [
       "<Figure size 800x400 with 1 Axes>"
      ]
     },
     "metadata": {},
     "output_type": "display_data"
    }
   ],
   "source": [
    "# Menampilkan visualisasi dari data diatas\n",
    "plt.style.use('seaborn')\n",
    "plt.figure(figsize=(8,4))\n",
    "plt.title('Titik Lokasi Pengajuan Klaim', size='xx-large') \n",
    "plt.bar(claim_site['Claim Site'], claim_site['Frequency'], color='teal')\n",
    "plt.xlabel('Lokasi Klaim', size='x-large')\n",
    "plt.ylabel('Jumlah', size='x-large')\n",
    "plt.show()"
   ]
  },
  {
   "cell_type": "markdown",
   "metadata": {},
   "source": [
    "Berdasarkan grafik di atas, terlihat bahwa titik lokasi yang paling banyak menerima klaim dari penumpang adalah **Checked Baggage** (pemeriksaan bagasi) sebesar 79.1% dan Checkpoint (pemeriksaan penumpang) sebesar 19.8%. Kedua lokasi tersebut merupakan tempat dengan tingkat kepadatan dan aktivitas yang cukup tinggi di bandara."
   ]
  },
  {
   "cell_type": "markdown",
   "metadata": {},
   "source": [
    "**6. Bandara dengan Jumlah Klaim Terbanyak Berdasarkan *Claim Type***"
   ]
  },
  {
   "cell_type": "code",
   "execution_count": 74,
   "metadata": {},
   "outputs": [
    {
     "data": {
      "text/html": [
       "<div>\n",
       "<style scoped>\n",
       "    .dataframe tbody tr th:only-of-type {\n",
       "        vertical-align: middle;\n",
       "    }\n",
       "\n",
       "    .dataframe tbody tr th {\n",
       "        vertical-align: top;\n",
       "    }\n",
       "\n",
       "    .dataframe thead th {\n",
       "        text-align: right;\n",
       "    }\n",
       "</style>\n",
       "<table border=\"1\" class=\"dataframe\">\n",
       "  <thead>\n",
       "    <tr style=\"text-align: right;\">\n",
       "      <th>Claim Type</th>\n",
       "      <th>Bus Terminal</th>\n",
       "      <th>Complaint</th>\n",
       "      <th>Compliment</th>\n",
       "      <th>Employee Loss (MPCECA)</th>\n",
       "      <th>Motor Vehicle</th>\n",
       "      <th>Other</th>\n",
       "      <th>Passenger Property Loss</th>\n",
       "      <th>Passenger Theft</th>\n",
       "      <th>Personal Injury</th>\n",
       "      <th>Property Damage</th>\n",
       "      <th>Wrongful Death</th>\n",
       "      <th>Total</th>\n",
       "    </tr>\n",
       "    <tr>\n",
       "      <th>Airport Code</th>\n",
       "      <th></th>\n",
       "      <th></th>\n",
       "      <th></th>\n",
       "      <th></th>\n",
       "      <th></th>\n",
       "      <th></th>\n",
       "      <th></th>\n",
       "      <th></th>\n",
       "      <th></th>\n",
       "      <th></th>\n",
       "      <th></th>\n",
       "      <th></th>\n",
       "    </tr>\n",
       "  </thead>\n",
       "  <tbody>\n",
       "    <tr>\n",
       "      <th>LAX</th>\n",
       "      <td>0</td>\n",
       "      <td>2</td>\n",
       "      <td>0</td>\n",
       "      <td>21</td>\n",
       "      <td>9</td>\n",
       "      <td>366</td>\n",
       "      <td>5738</td>\n",
       "      <td>24</td>\n",
       "      <td>64</td>\n",
       "      <td>3227</td>\n",
       "      <td>0</td>\n",
       "      <td>9451</td>\n",
       "    </tr>\n",
       "    <tr>\n",
       "      <th>JFK</th>\n",
       "      <td>0</td>\n",
       "      <td>2</td>\n",
       "      <td>0</td>\n",
       "      <td>13</td>\n",
       "      <td>9</td>\n",
       "      <td>210</td>\n",
       "      <td>6272</td>\n",
       "      <td>17</td>\n",
       "      <td>52</td>\n",
       "      <td>2547</td>\n",
       "      <td>0</td>\n",
       "      <td>9122</td>\n",
       "    </tr>\n",
       "    <tr>\n",
       "      <th>EWR</th>\n",
       "      <td>0</td>\n",
       "      <td>2</td>\n",
       "      <td>0</td>\n",
       "      <td>20</td>\n",
       "      <td>5</td>\n",
       "      <td>200</td>\n",
       "      <td>4260</td>\n",
       "      <td>15</td>\n",
       "      <td>36</td>\n",
       "      <td>2231</td>\n",
       "      <td>0</td>\n",
       "      <td>6769</td>\n",
       "    </tr>\n",
       "    <tr>\n",
       "      <th>ORD</th>\n",
       "      <td>0</td>\n",
       "      <td>0</td>\n",
       "      <td>0</td>\n",
       "      <td>24</td>\n",
       "      <td>6</td>\n",
       "      <td>202</td>\n",
       "      <td>3636</td>\n",
       "      <td>20</td>\n",
       "      <td>33</td>\n",
       "      <td>2817</td>\n",
       "      <td>0</td>\n",
       "      <td>6738</td>\n",
       "    </tr>\n",
       "    <tr>\n",
       "      <th>MIA</th>\n",
       "      <td>0</td>\n",
       "      <td>1</td>\n",
       "      <td>0</td>\n",
       "      <td>19</td>\n",
       "      <td>6</td>\n",
       "      <td>220</td>\n",
       "      <td>3889</td>\n",
       "      <td>13</td>\n",
       "      <td>36</td>\n",
       "      <td>2152</td>\n",
       "      <td>0</td>\n",
       "      <td>6336</td>\n",
       "    </tr>\n",
       "    <tr>\n",
       "      <th>MCO</th>\n",
       "      <td>0</td>\n",
       "      <td>2</td>\n",
       "      <td>0</td>\n",
       "      <td>14</td>\n",
       "      <td>4</td>\n",
       "      <td>183</td>\n",
       "      <td>4013</td>\n",
       "      <td>12</td>\n",
       "      <td>51</td>\n",
       "      <td>2044</td>\n",
       "      <td>0</td>\n",
       "      <td>6323</td>\n",
       "    </tr>\n",
       "    <tr>\n",
       "      <th>ATL</th>\n",
       "      <td>0</td>\n",
       "      <td>1</td>\n",
       "      <td>0</td>\n",
       "      <td>9</td>\n",
       "      <td>3</td>\n",
       "      <td>132</td>\n",
       "      <td>3530</td>\n",
       "      <td>16</td>\n",
       "      <td>44</td>\n",
       "      <td>2057</td>\n",
       "      <td>0</td>\n",
       "      <td>5792</td>\n",
       "    </tr>\n",
       "    <tr>\n",
       "      <th>SEA</th>\n",
       "      <td>0</td>\n",
       "      <td>1</td>\n",
       "      <td>0</td>\n",
       "      <td>16</td>\n",
       "      <td>0</td>\n",
       "      <td>178</td>\n",
       "      <td>3093</td>\n",
       "      <td>19</td>\n",
       "      <td>26</td>\n",
       "      <td>2011</td>\n",
       "      <td>0</td>\n",
       "      <td>5344</td>\n",
       "    </tr>\n",
       "    <tr>\n",
       "      <th>PHX</th>\n",
       "      <td>0</td>\n",
       "      <td>4</td>\n",
       "      <td>0</td>\n",
       "      <td>11</td>\n",
       "      <td>0</td>\n",
       "      <td>155</td>\n",
       "      <td>2913</td>\n",
       "      <td>14</td>\n",
       "      <td>48</td>\n",
       "      <td>1849</td>\n",
       "      <td>0</td>\n",
       "      <td>4994</td>\n",
       "    </tr>\n",
       "    <tr>\n",
       "      <th>LAS</th>\n",
       "      <td>0</td>\n",
       "      <td>2</td>\n",
       "      <td>0</td>\n",
       "      <td>10</td>\n",
       "      <td>2</td>\n",
       "      <td>132</td>\n",
       "      <td>3162</td>\n",
       "      <td>15</td>\n",
       "      <td>48</td>\n",
       "      <td>1620</td>\n",
       "      <td>0</td>\n",
       "      <td>4991</td>\n",
       "    </tr>\n",
       "  </tbody>\n",
       "</table>\n",
       "</div>"
      ],
      "text/plain": [
       "Claim Type    Bus Terminal  Complaint  Compliment  Employee Loss (MPCECA)  \\\n",
       "Airport Code                                                                \n",
       "LAX                      0          2           0                      21   \n",
       "JFK                      0          2           0                      13   \n",
       "EWR                      0          2           0                      20   \n",
       "ORD                      0          0           0                      24   \n",
       "MIA                      0          1           0                      19   \n",
       "MCO                      0          2           0                      14   \n",
       "ATL                      0          1           0                       9   \n",
       "SEA                      0          1           0                      16   \n",
       "PHX                      0          4           0                      11   \n",
       "LAS                      0          2           0                      10   \n",
       "\n",
       "Claim Type    Motor Vehicle  Other  Passenger Property Loss  Passenger Theft  \\\n",
       "Airport Code                                                                   \n",
       "LAX                       9    366                     5738               24   \n",
       "JFK                       9    210                     6272               17   \n",
       "EWR                       5    200                     4260               15   \n",
       "ORD                       6    202                     3636               20   \n",
       "MIA                       6    220                     3889               13   \n",
       "MCO                       4    183                     4013               12   \n",
       "ATL                       3    132                     3530               16   \n",
       "SEA                       0    178                     3093               19   \n",
       "PHX                       0    155                     2913               14   \n",
       "LAS                       2    132                     3162               15   \n",
       "\n",
       "Claim Type    Personal Injury  Property Damage  Wrongful Death  Total  \n",
       "Airport Code                                                           \n",
       "LAX                        64             3227               0   9451  \n",
       "JFK                        52             2547               0   9122  \n",
       "EWR                        36             2231               0   6769  \n",
       "ORD                        33             2817               0   6738  \n",
       "MIA                        36             2152               0   6336  \n",
       "MCO                        51             2044               0   6323  \n",
       "ATL                        44             2057               0   5792  \n",
       "SEA                        26             2011               0   5344  \n",
       "PHX                        48             1849               0   4994  \n",
       "LAS                        48             1620               0   4991  "
      ]
     },
     "execution_count": 74,
     "metadata": {},
     "output_type": "execute_result"
    }
   ],
   "source": [
    "'''Membuat tabel silang (crosstab)/ menggabungkan tabel yang menghitung \n",
    "jumlah klaim berdasarkan kode bandara dan jenis klaim, serta menambahkan \n",
    "kolom total untuk setiap baris'''\n",
    "df_claim_type = pd.crosstab(Dataset['Airport Code'],Dataset['Claim Type'])\n",
    "df_claim_type['Total']=df_claim_type.sum(axis=1)\n",
    "\n",
    "# Hanya menampilkan 10 teratas saja\n",
    "top10_claim_type = df_claim_type.sort_values('Total',ascending=False).head(10)\n",
    "top10_claim_type"
   ]
  },
  {
   "cell_type": "code",
   "execution_count": 75,
   "metadata": {},
   "outputs": [
    {
     "data": {
      "image/png": "[encoded data removed]",
      "text/plain": [
       "<Figure size 900x900 with 1 Axes>"
      ]
     },
     "metadata": {},
     "output_type": "display_data"
    }
   ],
   "source": [
    "# Membuat visualisasi dari data diatas\n",
    "top10_claim_type.drop(columns='Total').plot(kind='bar', \n",
    "                                            stacked=True, figsize=(9,9), \n",
    "                                            title='Bandara Dengan Jumlah Klaim Terbanyak Berdasarkan Claim Type', \n",
    "                                            xlabel='Kode Bandara', \n",
    "                                            ylabel='Jumlah Tiap Jenis Klaim', \n",
    "                                            color=('red','yellow','blue','green','black','purple','orange','cyan','pink','yellowgreen','navy'))\n",
    "plt.show()\n"
   ]
  },
  {
   "cell_type": "markdown",
   "metadata": {},
   "source": [
    "Berdasarkan cross tabulation dan grafik di atas, diperoleh informasi yang sama  dengan analisis sebelumnya bahwa jenis klaim **Passenger Property Loss** dan **Property Damage** merupakan jenis klaim terbanyak. pada 10 bandara dengan jumlah klaim paling tinggi yaitu bandara LAX (Los Angeles International Airport) yang tertinggi kemudian diikuti bandara JFK (John F. Kennedy International Airport). setelah itu jumlah **Passenger Property Loss** paling tinggi berada di bandara JFK(John F.Kenendy Internasional Airport) dan diikuti bandara LAX (Los Angeles Internasional)."
   ]
  },
  {
   "cell_type": "markdown",
   "metadata": {},
   "source": [
    "**Bandara dengan Jumlah Klaim Terbanyak Berdasarkan *Claim Site***"
   ]
  },
  {
   "cell_type": "code",
   "execution_count": 76,
   "metadata": {},
   "outputs": [
    {
     "data": {
      "text/html": [
       "<div>\n",
       "<style scoped>\n",
       "    .dataframe tbody tr th:only-of-type {\n",
       "        vertical-align: middle;\n",
       "    }\n",
       "\n",
       "    .dataframe tbody tr th {\n",
       "        vertical-align: top;\n",
       "    }\n",
       "\n",
       "    .dataframe thead th {\n",
       "        text-align: right;\n",
       "    }\n",
       "</style>\n",
       "<table border=\"1\" class=\"dataframe\">\n",
       "  <thead>\n",
       "    <tr style=\"text-align: right;\">\n",
       "      <th>Claim Site</th>\n",
       "      <th>Bus Station</th>\n",
       "      <th>Checked Baggage</th>\n",
       "      <th>Checkpoint</th>\n",
       "      <th>Motor Vehicle</th>\n",
       "      <th>Other</th>\n",
       "      <th>Total</th>\n",
       "    </tr>\n",
       "    <tr>\n",
       "      <th>Airport Code</th>\n",
       "      <th></th>\n",
       "      <th></th>\n",
       "      <th></th>\n",
       "      <th></th>\n",
       "      <th></th>\n",
       "      <th></th>\n",
       "    </tr>\n",
       "  </thead>\n",
       "  <tbody>\n",
       "    <tr>\n",
       "      <th>LAX</th>\n",
       "      <td>1</td>\n",
       "      <td>7180</td>\n",
       "      <td>2153</td>\n",
       "      <td>8</td>\n",
       "      <td>109</td>\n",
       "      <td>9451</td>\n",
       "    </tr>\n",
       "    <tr>\n",
       "      <th>JFK</th>\n",
       "      <td>2</td>\n",
       "      <td>7138</td>\n",
       "      <td>1882</td>\n",
       "      <td>9</td>\n",
       "      <td>91</td>\n",
       "      <td>9122</td>\n",
       "    </tr>\n",
       "    <tr>\n",
       "      <th>EWR</th>\n",
       "      <td>2</td>\n",
       "      <td>5548</td>\n",
       "      <td>1138</td>\n",
       "      <td>7</td>\n",
       "      <td>74</td>\n",
       "      <td>6769</td>\n",
       "    </tr>\n",
       "    <tr>\n",
       "      <th>ORD</th>\n",
       "      <td>1</td>\n",
       "      <td>5315</td>\n",
       "      <td>1336</td>\n",
       "      <td>8</td>\n",
       "      <td>78</td>\n",
       "      <td>6738</td>\n",
       "    </tr>\n",
       "    <tr>\n",
       "      <th>MIA</th>\n",
       "      <td>0</td>\n",
       "      <td>5319</td>\n",
       "      <td>960</td>\n",
       "      <td>5</td>\n",
       "      <td>52</td>\n",
       "      <td>6336</td>\n",
       "    </tr>\n",
       "    <tr>\n",
       "      <th>MCO</th>\n",
       "      <td>0</td>\n",
       "      <td>4957</td>\n",
       "      <td>1309</td>\n",
       "      <td>3</td>\n",
       "      <td>54</td>\n",
       "      <td>6323</td>\n",
       "    </tr>\n",
       "    <tr>\n",
       "      <th>ATL</th>\n",
       "      <td>1</td>\n",
       "      <td>4454</td>\n",
       "      <td>1287</td>\n",
       "      <td>2</td>\n",
       "      <td>48</td>\n",
       "      <td>5792</td>\n",
       "    </tr>\n",
       "    <tr>\n",
       "      <th>SEA</th>\n",
       "      <td>0</td>\n",
       "      <td>4310</td>\n",
       "      <td>991</td>\n",
       "      <td>2</td>\n",
       "      <td>41</td>\n",
       "      <td>5344</td>\n",
       "    </tr>\n",
       "    <tr>\n",
       "      <th>PHX</th>\n",
       "      <td>0</td>\n",
       "      <td>4107</td>\n",
       "      <td>843</td>\n",
       "      <td>0</td>\n",
       "      <td>44</td>\n",
       "      <td>4994</td>\n",
       "    </tr>\n",
       "    <tr>\n",
       "      <th>LAS</th>\n",
       "      <td>0</td>\n",
       "      <td>3921</td>\n",
       "      <td>1020</td>\n",
       "      <td>0</td>\n",
       "      <td>50</td>\n",
       "      <td>4991</td>\n",
       "    </tr>\n",
       "  </tbody>\n",
       "</table>\n",
       "</div>"
      ],
      "text/plain": [
       "Claim Site    Bus Station  Checked Baggage  Checkpoint  Motor Vehicle  Other  \\\n",
       "Airport Code                                                                   \n",
       "LAX                     1             7180        2153              8    109   \n",
       "JFK                     2             7138        1882              9     91   \n",
       "EWR                     2             5548        1138              7     74   \n",
       "ORD                     1             5315        1336              8     78   \n",
       "MIA                     0             5319         960              5     52   \n",
       "MCO                     0             4957        1309              3     54   \n",
       "ATL                     1             4454        1287              2     48   \n",
       "SEA                     0             4310         991              2     41   \n",
       "PHX                     0             4107         843              0     44   \n",
       "LAS                     0             3921        1020              0     50   \n",
       "\n",
       "Claim Site    Total  \n",
       "Airport Code         \n",
       "LAX            9451  \n",
       "JFK            9122  \n",
       "EWR            6769  \n",
       "ORD            6738  \n",
       "MIA            6336  \n",
       "MCO            6323  \n",
       "ATL            5792  \n",
       "SEA            5344  \n",
       "PHX            4994  \n",
       "LAS            4991  "
      ]
     },
     "execution_count": 76,
     "metadata": {},
     "output_type": "execute_result"
    }
   ],
   "source": [
    "'''Membuat tabel silang (crosstab)/ menggabungkan tabel yang menghitung \n",
    "jumlah klaim berdasarkan kode bandara dan titik klaim, serta menambahkan \n",
    "kolom total untuk setiap baris'''\n",
    "df_claim_site = pd.crosstab(Dataset['Airport Code'],Dataset['Claim Site'])\n",
    "df_claim_site['Total']=df_claim_site.sum(axis=1)\n",
    "\n",
    "\n",
    "# Hanya menampilkan 10 teratas saja\n",
    "top10_claim_site = df_claim_site.sort_values('Total',ascending=False).head(10)\n",
    "top10_claim_site"
   ]
  },
  {
   "cell_type": "code",
   "execution_count": 77,
   "metadata": {},
   "outputs": [
    {
     "data": {
      "image/png": "[encoded data removed]",
      "text/plain": [
       "<Figure size 900x900 with 1 Axes>"
      ]
     },
     "metadata": {},
     "output_type": "display_data"
    }
   ],
   "source": [
    "# Membuat visualisasi dari data diatas\n",
    "top10_claim_site.drop(columns='Total').plot(kind='bar', \n",
    "                                            stacked=True, figsize=(9,9), \n",
    "                                            title='Bandara Dengan Jumlah Klaim Terbanyak Berdasarkan Claim Site', \n",
    "                                            xlabel='Kode Bandara', \n",
    "                                            ylabel='Jumlah Tiap Lokasi Klaim')\n",
    "plt.show()"
   ]
  },
  {
   "cell_type": "markdown",
   "metadata": {},
   "source": [
    "Berdasarkan cross tabulation dan grafik di atas, diperoleh informasi yang sama  dengan analisis sebelumnya bahwa titik lokasi klaim **Checked Baggage** dan **Checkpoint** merupakan titik lokasi klaim terbanyak. pada 10 bandara dengan jumlah klaim paling tinggi, dimana bandara LAX (Los Angeles International Airport) yang tertinggi kemudian diikuti bandara JFK (John F. Kennedy International Airport). setelah itu jumlah titik klaim **Checked Baggage** paling tinggi berada di bandara  LAX (Los Angeles Internasional) dan diikuti bandara JFK(John F.Kenendy Internasional Airport)."
   ]
  },
  {
   "cell_type": "markdown",
   "metadata": {},
   "source": [
    "# **5. Conslusion**"
   ]
  },
  {
   "cell_type": "markdown",
   "metadata": {},
   "source": [
    "Tahun 2002 merupakan tahun dengan jumlah klaim penumpang yang paling sedikit, sedangkan tahun 2004 mencatatkan jumlah klaim tertinggi. Setelah puncaknya di tahun 2004, jumlah klaim yang diajukan oleh penumpang menunjukkan tren penurunan yang konsisten. Hal ini mungkin disebabkan oleh berbagai faktor seperti peningkatan langkah-langkah keamanan, perubahan kebijakan maskapai penerbangan, atau peningkatan kesadaran penumpang terhadap prosedur klaim.\n",
    "\n",
    "Bandara yang paling banyak menerima klaim dari penumpang adalah Los Angeles International Airport (LAX), diikuti oleh John F. Kennedy International Airport (JFK). Kedua bandara ini termasuk dalam daftar bandara tersibuk di Amerika Serikat, yang dapat menjelaskan tingginya jumlah klaim yang diajukan. Bandara-bandara dengan jumlah klaim di atas rata-rata seringkali juga merupakan pusat transit utama dengan volume penumpang yang sangat tinggi, sehingga meningkatkan kemungkinan insiden yang memerlukan klaim.\n",
    "\n",
    "Dengan melakukan uji statistik menunjukkan variasi jumlah klaim yang cukup konsisten di berbagai bandara dan memberikan informasi penting untuk memahami serta mengelola klaim dengan lebih efektif. Analisis ini membantu dalam merencanakan tindakan perbaikan yang diperlukan dan mengidentifikasi tren historis yang dapat digunakan untuk meningkatkan pelayanan bandara.\n",
    "\n",
    "Jenis klaim yang paling banyak dilaporkan adalah kehilangan properti penumpang (Passenger Property Loss) dan kerusakan properti (Property Damage). Kedua jenis klaim ini juga mendominasi di bandara-bandara dengan jumlah klaim tertinggi. Kehilangan dan kerusakan properti sering terjadi dalam proses penanganan bagasi dan pemeriksaan keamanan, yang merupakan tahapan di mana barang-barang penumpang paling rentan terhadap kerusakan atau hilang.\n",
    "\n",
    "menunjukkan bahwa jumlah klaim penumpang mengalami penurunan yang signifikan setelah tahun 2004. Tren penurunan ini dapat dilihat pada grafik jumlah klaim per tahun, yang mengindikasikan bahwa langkah-langkah perbaikan pelayanan yang diimplementasikan setelah puncak klaim pada tahun 2004 telah memberikan dampak positif secara bertahap. Periode penurunan klaim ini menyoroti efektivitas berbagai inisiatif yang mungkin telah dilakukan, seperti peningkatan prosedur keamanan, pelatihan lebih lanjut bagi staf bandara, serta peningkatan teknologi dalam manajemen bagasi dan penanganan klaim.\n",
    "\n",
    "Titik lokasi yang paling banyak menerima klaim adalah pada bagian bagasi tercatat (Checked Baggage) dan pos pemeriksaan keamanan (Checkpoint). Kedua titik lokasi ini merupakan area di mana interaksi antara barang-barang penumpang dan staf bandara paling intensif, sehingga tidak mengherankan jika klaim kerusakan atau kehilangan paling sering terjadi di sini. Penumpang sering melaporkan kehilangan atau kerusakan barang setelah melewati titik-titik ini, yang juga tercermin dalam data klaim dari bandara-bandara dengan jumlah klaim tertinggi."
   ]
  },
  {
   "cell_type": "markdown",
   "metadata": {},
   "source": [
    "# **6. Recommendation**"
   ]
  },
  {
   "cell_type": "markdown",
   "metadata": {},
   "source": [
    "\n",
    "1. **Meningkatkan Keamanan di Bandara Tersibuk**\n",
    "   - Bandara yang termasuk dalam kategori tersibuk di Amerika Serikat seperti Los Angeles International Airport (LAX) dan John F. Kennedy International Airport (JFK) membutuhkan peningkatan keamanan yang signifikan. Langkah-langkah ini harus mencakup peningkatan jumlah personel keamanan, penggunaan teknologi canggih seperti pemindai bagasi terbaru, serta pengawasan yang lebih ketat di seluruh area bandara. Implementasi sistem keamanan yang lebih canggih akan membantu mengurangi risiko kehilangan atau kerusakan barang, serta meningkatkan rasa aman bagi para penumpang.\n",
    "\n",
    "2. **Fokus pada Titik Lokasi Checked Baggage dan Checkpoint**\n",
    "   - Data menunjukkan bahwa titik lokasi Checked Baggage dan Checkpoint merupakan area dengan kepadatan dan aktivitas penumpang yang tinggi, serta sering menjadi lokasi dengan jumlah klaim tertinggi. Oleh karena itu, perhatian khusus harus diberikan pada peningkatan prosedur dan pengawasan di kedua area ini. Ini dapat mencakup peningkatan efisiensi dalam proses pemindahan bagasi, pemasangan lebih banyak kamera pengawas, serta penambahan petugas yang bertugas untuk memantau dan membantu penumpang selama pemeriksaan.\n",
    "\n",
    "3. **Penambahan Petugas Keamanan di Bandara Tersibuk**\n",
    "   - Untuk mengatasi volume tinggi penumpang dan memastikan keamanan yang optimal, sangat diperlukan penambahan petugas keamanan khususnya di bandara-bandara tersibuk. Penambahan ini tidak hanya membantu dalam mengelola arus penumpang tetapi juga dalam melakukan pemeriksaan lebih rinci terhadap barang bawaan, sehingga dapat mengurangi insiden kehilangan atau kerusakan properti penumpang.\n",
    "\n",
    "4. **Meningkatkan Kerjasama dengan Maskapai**\n",
    "   - Keamanan barang bawaan penumpang, terutama di titik lokasi Checked Baggage, juga menjadi tanggung jawab maskapai penerbangan. Oleh karena itu, perlu ada kerjasama yang lebih erat antara pihak bandara dan maskapai untuk memastikan keamanan dan integritas barang bawaan penumpang selama perjalanan. Ini bisa mencakup penyesuaian prosedur penanganan bagasi, pelatihan bersama untuk petugas bandara dan maskapai, serta peningkatan komunikasi dan koordinasi dalam penanganan klaim penumpang.\n",
    "\n",
    "Implementasi rekomendasi ini tidak hanya akan meningkatkan tingkat keamanan dan mengurangi jumlah klaim, tetapi juga akan meningkatkan keseluruhan pengalaman penumpang di bandara. Langkah-langkah tersebut harus dilakukan dengan pendekatan kolaboratif dan berkesinambungan untuk mencapai hasil yang optimal."
   ]
  }
 ],
 "metadata": {
  "kernelspec": {
   "display_name": "Python 3",
   "language": "python",
   "name": "python3"
  },
  "language_info": {
   "codemirror_mode": {
    "name": "ipython",
    "version": 3
   },
   "file_extension": ".py",
   "mimetype": "text/x-python",
   "name": "python",
   "nbconvert_exporter": "python",
   "pygments_lexer": "ipython3",
   "version": "3.9.13"
  }
 },
 "nbformat": 4,
 "nbformat_minor": 2
}
